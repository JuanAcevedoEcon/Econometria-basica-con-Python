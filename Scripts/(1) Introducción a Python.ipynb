{
 "cells": [
  {
   "cell_type": "markdown",
   "metadata": {},
   "source": [
    "# **Introducción a Python**"
   ]
  },
  {
   "cell_type": "markdown",
   "metadata": {},
   "source": [
    "Algunas veces el nootbook no se guarda automáticamente, en caso de que sea así, ejecuten %autosave n, donde n es la cantidad de segundos. Hola amigos.\n",
    "\n",
    "Si queremos comentar una línea de código se utiliza el # o \"\"\" "
   ]
  },
  {
   "cell_type": "code",
   "execution_count": null,
   "metadata": {},
   "outputs": [],
   "source": [
    "%autosave 120\n",
    "\n",
    "# Esto es un comentario\n",
    "\n",
    "# Esto en un comentario\n",
    "# asdfasdfasdfa sdfasdfa sdfasdf\n"
   ]
  },
  {
   "cell_type": "markdown",
   "metadata": {},
   "source": [
    "### Uso de markdown en Jupyter"
   ]
  },
  {
   "cell_type": "markdown",
   "metadata": {},
   "source": [
    "Encabezados con #\n",
    "\n",
    "Podemos escribir párrafos, aplicar sangría con \">\" y modificar su estilo: \n",
    "\n",
    "<blockquote><div style=\"background-color:#DCDCDC; color:#000000; font-style: normal; font-family: Georgia;\"> Markdown es un lenguaje de marcado ligero creado por John Gruber que trata de conseguir la máxima legibilidad y facilidad de publicación tanto en sus forma de entrada como de salida, inspirándose en muchas convenciones existentes para marcar mensajes de correo electrónico usando texto plano.\n",
    "</div></blockquote>"
   ]
  },
  {
   "cell_type": "markdown",
   "metadata": {},
   "source": [
    "Para hacer énfasis se puede utilizar:\n",
    "\n",
    "*énfasis*  \n",
    "_énfasis_\n",
    "\n",
    "o \n",
    "\n",
    "**énfasis fuerte**  \n",
    "__énfasis__\n",
    "\n",
    "o\n",
    "\n",
    "~~énfasis~~\n",
    "\n",
    "Nota: si se desea hacer un saldo de línea, se deben colocar dos espacios en blanco al final."
   ]
  },
  {
   "cell_type": "markdown",
   "metadata": {},
   "source": [
    "### Vínculos\n",
    "\n",
    "Este es un vínculo a [PÁGINA](http://www.google.com).\n",
    "\n",
    "Estos son vinculos referenciados a [Anaconda][1]  y [Python][2].\n",
    "\n",
    "[1]: https://www.continuum.io \"Continuum Analytics\"\n",
    "[2]: https://www.python.org \"Python Software Fundation\""
   ]
  },
  {
   "cell_type": "markdown",
   "metadata": {},
   "source": [
    "### Latex\n",
    "\n",
    "$$\\frac{1}{x^2} \\int{\\exp{x^n}} dx$$"
   ]
  },
  {
   "cell_type": "markdown",
   "metadata": {},
   "source": [
    "### Tablas\n",
    "\n",
    "titulo 1 MUY MUY LARGO | titulo 2\n",
    ":--------: | -------\n",
    "celda 1-1 | celda 1-2\n",
    "celda 2-1 | celda 2-2"
   ]
  },
  {
   "cell_type": "markdown",
   "metadata": {},
   "source": [
    "   ## Identificadores y variables\n",
    "   \n",
    "  Es importante aprender la guía de estilo para escribir en python: https://www.python.org/dev/peps/pep-0008/"
   ]
  },
  {
   "cell_type": "code",
   "execution_count": null,
   "metadata": {},
   "outputs": [],
   "source": [
    "Dia = 3\n",
    "print(\"El día es:\", Dia)"
   ]
  },
  {
   "cell_type": "markdown",
   "metadata": {},
   "source": [
    "### Tipos de datos primitivos"
   ]
  },
  {
   "cell_type": "code",
   "execution_count": null,
   "metadata": {},
   "outputs": [],
   "source": []
  },
  {
   "cell_type": "markdown",
   "metadata": {},
   "source": [
    "## Operadores aritméticos"
   ]
  },
  {
   "cell_type": "markdown",
   "metadata": {},
   "source": [
    "\n",
    "Python soporta los operadores aritméticos básicos tales como:\n",
    "- +: Adición\n",
    "- -: Sustracción\n",
    "- *: Multiplación\n",
    "- /: División\n",
    "- **: Potenciación\n",
    "- %: Módulo o residuo\n",
    "- //: División entera\n",
    "- =: Asignación\n",
    "\n",
    "Esto permite usar a python como una calculadora.\n",
    "\n",
    "Se utiliza la siguiente jerarquía de operadores:\n",
    "\n",
    "| Operador | Jerarquía | \n",
    "| --- | --- |\n",
    "| () | 0 |\n",
    "| ** | 1 |\n",
    "| *, /, %, // | 2 |\n",
    "| +, - | 3 |\n",
    "\n",
    "Ejemplos:"
   ]
  },
  {
   "cell_type": "code",
   "execution_count": null,
   "metadata": {},
   "outputs": [],
   "source": []
  },
  {
   "cell_type": "markdown",
   "metadata": {},
   "source": [
    "## Operadores de asignación"
   ]
  },
  {
   "cell_type": "code",
   "execution_count": null,
   "metadata": {},
   "outputs": [],
   "source": []
  },
  {
   "cell_type": "markdown",
   "metadata": {},
   "source": [
    "## Operadores de comparación\n",
    "\n",
    "A diferencia de los operadores aritméticos que siempre dan como resultado valores numéricos, los operadores de comparación dan como resultado valores booleanos, es decir, True o False. Algunos operadores son:\n",
    "- ==: Compara igualdad\n",
    "- &gt; , >= : Mayor, mayor igual\n",
    "- < , <= : Menor, menor igual\n",
    "- !=: Diferente\n"
   ]
  },
  {
   "cell_type": "code",
   "execution_count": null,
   "metadata": {},
   "outputs": [],
   "source": []
  },
  {
   "cell_type": "markdown",
   "metadata": {},
   "source": [
    "## Operadores lógicos"
   ]
  },
  {
   "cell_type": "markdown",
   "metadata": {},
   "source": [
    "* not : Operador ¬ de la negación en Python.\n",
    "                not α ⇔ ¬α\n",
    "                   \n",
    "* and : Operador ∧ de la conjunción en Python.\n",
    "                α and β ⇔ α ∧ β\n",
    "\n",
    "* or : Operador ∨ de la disyunción en Python.\n",
    "                 α or β ⇔ α ∨ β\n"
   ]
  },
  {
   "cell_type": "code",
   "execution_count": null,
   "metadata": {},
   "outputs": [],
   "source": []
  },
  {
   "cell_type": "code",
   "execution_count": null,
   "metadata": {},
   "outputs": [],
   "source": [
    "print(True and False)\n",
    "print(True or False)\n",
    "print(not True)"
   ]
  },
  {
   "cell_type": "markdown",
   "metadata": {},
   "source": [
    "## Funciones"
   ]
  },
  {
   "cell_type": "code",
   "execution_count": null,
   "metadata": {},
   "outputs": [],
   "source": [
    "def _______(_):\n",
    "    return __________"
   ]
  },
  {
   "cell_type": "code",
   "execution_count": null,
   "metadata": {},
   "outputs": [],
   "source": [
    "import _______\n",
    "\n",
    "def _______(_):\n",
    "    _________\n",
    "    return _____"
   ]
  },
  {
   "cell_type": "code",
   "execution_count": null,
   "metadata": {},
   "outputs": [],
   "source": [
    "radio = ________\n",
    "\n",
    "___________\n",
    "\n",
    "print(\"El área del círculo es: \",  _______(_))"
   ]
  },
  {
   "cell_type": "code",
   "execution_count": null,
   "metadata": {},
   "outputs": [],
   "source": [
    "# Mezclemos algunas cosas\n",
    "\n",
    "def __________(_,_):\n",
    "    \n",
    "    return ______\n"
   ]
  },
  {
   "cell_type": "markdown",
   "metadata": {},
   "source": [
    "## Tipos de secuencias"
   ]
  },
  {
   "cell_type": "code",
   "execution_count": null,
   "metadata": {},
   "outputs": [],
   "source": []
  },
  {
   "cell_type": "markdown",
   "metadata": {},
   "source": [
    "## Primer análisis de datos "
   ]
  },
  {
   "cell_type": "markdown",
   "metadata": {},
   "source": [
    "La base de datos GujaratiPorter71 presenta:\n",
    "\n",
    "Data on child mortality (CM), female literacy rate (FLR), per capita GNP (PGNP), and total fertility rate (TFR) for a group of 64 countries."
   ]
  },
  {
   "cell_type": "code",
   "execution_count": null,
   "metadata": {},
   "outputs": [],
   "source": [
    "# Cuando se importen datos, se le puede atribuir un apodo, esto mediante el as \n",
    "\n",
    "import _______ # Para manejar los datos\n",
    "import _______ # Para funciones\n",
    "import _______ # Para hacer gráficos\n",
    "import _______ # Para hacer gráficos especializados en estadística "
   ]
  },
  {
   "cell_type": "code",
   "execution_count": null,
   "metadata": {
    "scrolled": true
   },
   "outputs": [],
   "source": [
    "data = pd.______(\"______\", delimiter = ____) "
   ]
  },
  {
   "cell_type": "code",
   "execution_count": null,
   "metadata": {},
   "outputs": [],
   "source": [
    "data_______._______"
   ]
  },
  {
   "cell_type": "code",
   "execution_count": null,
   "metadata": {},
   "outputs": [],
   "source": [
    "sns._______"
   ]
  },
  {
   "cell_type": "code",
   "execution_count": null,
   "metadata": {
    "scrolled": true
   },
   "outputs": [],
   "source": [
    "plot = sns.______(data, plot_kws = {_______},\n",
    "            diag_kws = {_______})\n",
    "plot.fig.________(________),\n",
    "plt.show ()"
   ]
  },
  {
   "cell_type": "code",
   "execution_count": null,
   "metadata": {},
   "outputs": [],
   "source": [
    "# Cambiar nombre de columnas\n",
    "\n",
    "print(______.______)"
   ]
  }
 ],
 "metadata": {
  "kernelspec": {
   "display_name": "Python 3",
   "language": "python",
   "name": "python3"
  },
  "language_info": {
   "codemirror_mode": {
    "name": "ipython",
    "version": 3
   },
   "file_extension": ".py",
   "mimetype": "text/x-python",
   "name": "python",
   "nbconvert_exporter": "python",
   "pygments_lexer": "ipython3",
   "version": "3.8.5"
  }
 },
 "nbformat": 4,
 "nbformat_minor": 2
}
