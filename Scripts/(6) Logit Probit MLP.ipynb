{
 "cells": [
  {
   "cell_type": "code",
   "execution_count": null,
   "metadata": {},
   "outputs": [],
   "source": [
    "import numpy as np\n",
    "import pandas as pd\n",
    "import statsmodels.api as sm\n",
    "import statsmodels.stats.api as sms\n",
    "import matplotlib.pyplot as plt\n",
    "import seaborn as sns"
   ]
  },
  {
   "cell_type": "code",
   "execution_count": null,
   "metadata": {},
   "outputs": [],
   "source": [
    "data = pd.read_table(\"http://www.econometrics.com/comdata/gujarati/data_15.7.shd\", header = None,\n",
    "                    delim_whitespace = True,\n",
    "                    names = [\"Fumador\",\"Edad\",\"Escolaridad\",\"Ingresos\",\"Pcigs79\"]) # Cargar de internet"
   ]
  },
  {
   "cell_type": "code",
   "execution_count": null,
   "metadata": {},
   "outputs": [],
   "source": [
    "Y = data[\"________\"]\n",
    "X = data[[\"_____\",\"__________\",\"_____\",\"________-\"]]"
   ]
  },
  {
   "cell_type": "code",
   "execution_count": null,
   "metadata": {},
   "outputs": [],
   "source": [
    "MLPMargEff = _________.params "
   ]
  },
  {
   "cell_type": "code",
   "execution_count": null,
   "metadata": {},
   "outputs": [],
   "source": [
    "PrediccionMLP = _____________.predict()\n",
    "PrediccionMLP = pd.DataFrame(__________, columns = [\"Prediccion MLP\"])"
   ]
  },
  {
   "cell_type": "code",
   "execution_count": null,
   "metadata": {},
   "outputs": [],
   "source": [
    "ModeloLogit = sm.______(_______, sm.add_constant(____-))\n",
    "ResultadosLogit = ____________\n",
    "print(ResultadosLogit.summary())"
   ]
  },
  {
   "cell_type": "code",
   "execution_count": null,
   "metadata": {
    "scrolled": true
   },
   "outputs": [],
   "source": [
    "LogitMargEff = ResultadosLogit.____________\n",
    "print(LogitMargEff.summary())"
   ]
  },
  {
   "cell_type": "code",
   "execution_count": null,
   "metadata": {},
   "outputs": [],
   "source": [
    "LogitMargEff = ResultadosLogit.___________(at = \"______\")\n",
    "print(LogitMargEff.summary())"
   ]
  },
  {
   "cell_type": "markdown",
   "metadata": {},
   "source": [
    "**Ejercicio modelo LOGIT con escolaridad únicamente de más de 10 años**"
   ]
  },
  {
   "cell_type": "markdown",
   "metadata": {},
   "source": [
    "**Modelo Probit**"
   ]
  },
  {
   "cell_type": "code",
   "execution_count": null,
   "metadata": {},
   "outputs": [],
   "source": [
    "ModeloProbit = sm._______(____,sm.add_constant(___))\n",
    "ResultadosProbit = ____________.fit()\n",
    "print(ResultadosProbit.summary())"
   ]
  },
  {
   "cell_type": "code",
   "execution_count": null,
   "metadata": {},
   "outputs": [],
   "source": [
    "ProbitMarEff = ________.___________()\n",
    "print(ProbitMarEff.summary())"
   ]
  },
  {
   "cell_type": "code",
   "execution_count": null,
   "metadata": {},
   "outputs": [],
   "source": [
    "ProbitMarEff = ResultadosProbit.______(at = \"_____\")\n",
    "print(ProbitMarEff.summary())"
   ]
  },
  {
   "cell_type": "code",
   "execution_count": null,
   "metadata": {},
   "outputs": [],
   "source": [
    "from statsmodels.iolib.summary2 import summary_col"
   ]
  },
  {
   "cell_type": "code",
   "execution_count": null,
   "metadata": {},
   "outputs": [],
   "source": [
    "Tabla = summary_col(results=[_______,________, _________],\n",
    "                   model_names = [_______,_______,_______], stars= True)\n",
    "print(Tabla)"
   ]
  },
  {
   "cell_type": "code",
   "execution_count": null,
   "metadata": {},
   "outputs": [],
   "source": [
    "Coeficientes = [\"Edad\",\"Escolaridad\",\"Ingresos\",\"Pcigs79\"]\n",
    "EfectosLogit = pd.DataFrame()\n",
    "EfectosProbit = pd.DataFrame()\n",
    "EfectosMLP = pd.DataFrame()"
   ]
  },
  {
   "cell_type": "code",
   "execution_count": null,
   "metadata": {
    "scrolled": true
   },
   "outputs": [],
   "source": [
    "pd.concat([___________________], axis = 1)"
   ]
  }
 ],
 "metadata": {
  "kernelspec": {
   "display_name": "Python 3",
   "language": "python",
   "name": "python3"
  },
  "language_info": {
   "codemirror_mode": {
    "name": "ipython",
    "version": 3
   },
   "file_extension": ".py",
   "mimetype": "text/x-python",
   "name": "python",
   "nbconvert_exporter": "python",
   "pygments_lexer": "ipython3",
   "version": "3.8.5"
  }
 },
 "nbformat": 4,
 "nbformat_minor": 2
}
