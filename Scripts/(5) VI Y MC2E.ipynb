{
 "cells": [
  {
   "cell_type": "markdown",
   "metadata": {},
   "source": [
    "**Variables Instrumentales - Mínimos Cuadrados en 2 Estapas**"
   ]
  },
  {
   "cell_type": "code",
   "execution_count": null,
   "metadata": {},
   "outputs": [],
   "source": [
    "import numpy as np\n",
    "import pandas as pd\n",
    "import statsmodels.api as sm\n",
    "import matplotlib.pyplot as plt\n",
    "import seaborn as sns\n",
    "import statsmodels.stats.api as sms"
   ]
  },
  {
   "cell_type": "code",
   "execution_count": null,
   "metadata": {},
   "outputs": [],
   "source": [
    "data = pd.read_csv(\"\")"
   ]
  },
  {
   "cell_type": "code",
   "execution_count": null,
   "metadata": {},
   "outputs": [],
   "source": [
    "data = data[__________.________] "
   ]
  },
  {
   "cell_type": "markdown",
   "metadata": {},
   "source": [
    "**Proceso Manual**"
   ]
  },
  {
   "cell_type": "code",
   "execution_count": null,
   "metadata": {},
   "outputs": [],
   "source": [
    "Y1 = data[\"______\"]\n",
    "Y2 = data[\"_____\"] \n",
    "X = data[[\"______\",\"________\"]] \n",
    "Z = data[[\"_________\",\"_______\"]]"
   ]
  },
  {
   "cell_type": "markdown",
   "metadata": {},
   "source": [
    "**Primera Etapa**"
   ]
  },
  {
   "cell_type": "code",
   "execution_count": null,
   "metadata": {},
   "outputs": [],
   "source": [
    "Frames = [X , Z]\n",
    "RegresorasPE = pd.concat(__________, axis = ___)"
   ]
  },
  {
   "cell_type": "code",
   "execution_count": null,
   "metadata": {},
   "outputs": [],
   "source": [
    "PrimeraEtapa = sm.OLS(___, sm.add_constant(_______________))"
   ]
  },
  {
   "cell_type": "code",
   "execution_count": null,
   "metadata": {},
   "outputs": [],
   "source": [
    "ResultadosPE = PrimeraEtapa.fit()\n",
    "print(ResultadosPE.summary())"
   ]
  },
  {
   "cell_type": "code",
   "execution_count": null,
   "metadata": {},
   "outputs": [],
   "source": [
    "hipotesis = \"(fatheduc = 0), (motheduc = 0)\"\n",
    "Prueba_F = ResultadosPE.f_test(_________) # Evalúa la hipótesis\n",
    "print(________)"
   ]
  },
  {
   "cell_type": "code",
   "execution_count": null,
   "metadata": {},
   "outputs": [],
   "source": [
    "Estadistico = Prueba_F.______________"
   ]
  },
  {
   "cell_type": "code",
   "execution_count": null,
   "metadata": {},
   "outputs": [],
   "source": [
    "pvalue = Prueba_F.___________"
   ]
  },
  {
   "cell_type": "code",
   "execution_count": null,
   "metadata": {},
   "outputs": [],
   "source": [
    "Nombres = [\"Estadístico\",\"pvalue\"]\n",
    "pd.Series([___________, round(______,4)], index = ________)"
   ]
  },
  {
   "cell_type": "code",
   "execution_count": null,
   "metadata": {},
   "outputs": [],
   "source": [
    "data[\"Predicción_educ\"]= ResultadosPE._________"
   ]
  },
  {
   "cell_type": "markdown",
   "metadata": {},
   "source": [
    "**Segunda Etapa**"
   ]
  },
  {
   "cell_type": "code",
   "execution_count": null,
   "metadata": {},
   "outputs": [],
   "source": [
    "Y1SE = data[_______] \n",
    "Y2SE = data[_________] \n",
    "XSE = data[[________,________]]"
   ]
  },
  {
   "cell_type": "code",
   "execution_count": null,
   "metadata": {},
   "outputs": [],
   "source": [
    "FrameSegEtapa = [______,_______]\n",
    "RegresorasSegEtapa = pd.concat(_________, axis = __)"
   ]
  },
  {
   "cell_type": "code",
   "execution_count": null,
   "metadata": {},
   "outputs": [],
   "source": [
    "SegundaEtapa = sm.OLS(______,sm.add_constant(________))\n",
    "ResultadosSegEtapa = SegundaEtapa.fit()\n",
    "print(ResultadosSegEtapa.summary())"
   ]
  },
  {
   "cell_type": "markdown",
   "metadata": {},
   "source": [
    "**Proceso Automático** "
   ]
  },
  {
   "cell_type": "code",
   "execution_count": null,
   "metadata": {},
   "outputs": [],
   "source": [
    "from linearmodels.iv import IV2SLS"
   ]
  },
  {
   "cell_type": "code",
   "execution_count": null,
   "metadata": {},
   "outputs": [],
   "source": [
    "Modelo2Etapas = IV2SLS(dependent= ____, exog = _________, endog= _____, instruments= _____)\n",
    "ResultadosMod2Etapas = Modelo2Etapas.fit()\n",
    "print(ResultadosMod2Etapas.summary)"
   ]
  },
  {
   "cell_type": "markdown",
   "metadata": {},
   "source": [
    "**Con errores robustos**"
   ]
  },
  {
   "cell_type": "code",
   "execution_count": null,
   "metadata": {},
   "outputs": [],
   "source": [
    "FramesMCO = [_____ , ______]\n",
    "RegresorasMCO = pd.concat(_______, axis = ____)"
   ]
  },
  {
   "cell_type": "code",
   "execution_count": null,
   "metadata": {},
   "outputs": [],
   "source": [
    "ModeloMCO = sm.OLS(___, sm.add_constant(___________))\n",
    "ResultadosMCO = ModeloMCO.fit(cov_type = \"___\") \n",
    "print(ResultadosMCO.summary())"
   ]
  },
  {
   "cell_type": "markdown",
   "metadata": {},
   "source": [
    "**Comparar Modelo**"
   ]
  },
  {
   "cell_type": "code",
   "execution_count": null,
   "metadata": {},
   "outputs": [],
   "source": [
    "from linearmodels.iv import compare # Extraer esa función"
   ]
  },
  {
   "cell_type": "code",
   "execution_count": null,
   "metadata": {},
   "outputs": [],
   "source": [
    "# ESTÁ FALLANDO\n",
    "compare({\"MCO\": ______________ , \"2 Etapas\" : _____________})"
   ]
  },
  {
   "cell_type": "code",
   "execution_count": null,
   "metadata": {},
   "outputs": [],
   "source": [
    "ResultadoMCO = IV2SLS(dependent= ____, exog= sm.add_constant(__________), endog = ____, instruments = ____).fit()\n",
    "print(ResultadosMCO.summary())\n"
   ]
  },
  {
   "cell_type": "code",
   "execution_count": null,
   "metadata": {},
   "outputs": [],
   "source": [
    "ResultadosAutomático = IV2SLS(dependent= ____, exog= sm.add_constant(_____), endog= _____, instruments= ____).fit()\n",
    "print(ResultadosAutomático.summary)"
   ]
  },
  {
   "cell_type": "code",
   "execution_count": null,
   "metadata": {},
   "outputs": [],
   "source": [
    "ResultadosManual= IV2SLS(dependent=_____, exog=sm.add_constant(_______),endog=___, instruments=____).fit()\n",
    "print(ResultadosManual)"
   ]
  },
  {
   "cell_type": "code",
   "execution_count": null,
   "metadata": {},
   "outputs": [],
   "source": [
    "compare({\"MCO\": _______ , \"2 Etapas Manual\": ________, \"2 Etapas Automático\":________})"
   ]
  }
 ],
 "metadata": {
  "kernelspec": {
   "display_name": "Python 3",
   "language": "python",
   "name": "python3"
  },
  "language_info": {
   "codemirror_mode": {
    "name": "ipython",
    "version": 3
   },
   "file_extension": ".py",
   "mimetype": "text/x-python",
   "name": "python",
   "nbconvert_exporter": "python",
   "pygments_lexer": "ipython3",
   "version": "3.8.5"
  }
 },
 "nbformat": 4,
 "nbformat_minor": 2
}
