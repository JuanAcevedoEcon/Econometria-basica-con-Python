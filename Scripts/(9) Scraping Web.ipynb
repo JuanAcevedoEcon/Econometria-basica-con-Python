{
 "cells": [
  {
   "cell_type": "markdown",
   "metadata": {},
   "source": [
    "### Web scraping"
   ]
  },
  {
   "cell_type": "code",
   "execution_count": 1,
   "metadata": {},
   "outputs": [],
   "source": [
    "import pandas as pd \n",
    "import seaborn as sns\n",
    "import matplotlib.pyplot as plt"
   ]
  },
  {
   "cell_type": "code",
   "execution_count": 2,
   "metadata": {
    "scrolled": true
   },
   "outputs": [],
   "source": [
    "# %conda install bs4"
   ]
  },
  {
   "cell_type": "code",
   "execution_count": 3,
   "metadata": {},
   "outputs": [
    {
     "name": "stdout",
     "output_type": "stream",
     "text": [
      "Requirement already satisfied: bs4 in c:\\users\\57317\\anaconda3\\lib\\site-packages (0.0.1)\n",
      "Requirement already satisfied: beautifulsoup4 in c:\\users\\57317\\anaconda3\\lib\\site-packages (from bs4) (4.9.3)\n",
      "Requirement already satisfied: soupsieve>1.2 in c:\\users\\57317\\anaconda3\\lib\\site-packages (from beautifulsoup4->bs4) (2.2.1)\n"
     ]
    }
   ],
   "source": [
    "!pip install bs4"
   ]
  },
  {
   "cell_type": "code",
   "execution_count": 4,
   "metadata": {},
   "outputs": [],
   "source": [
    "from bs4 import BeautifulSoup\n",
    "import requests"
   ]
  },
  {
   "cell_type": "code",
   "execution_count": 5,
   "metadata": {},
   "outputs": [],
   "source": [
    "url = \"https://www.larepublica.co/indicadores-economicos\"\n",
    "page = requests.get(url)\n",
    "soup = BeautifulSoup(page.content, \"html.parser\")"
   ]
  },
  {
   "cell_type": "code",
   "execution_count": 6,
   "metadata": {},
   "outputs": [
    {
     "name": "stdout",
     "output_type": "stream",
     "text": [
      "[<h3 class=\"nameIndicator\">PETRÓLEO WTI</h3>, <h3 class=\"col-10 pl-0 nameIndicator\">PETRÓLEO BRENT</h3>, <h3 class=\"col-10 pl-0 nameIndicator\">CAFÉ COLOMBIAN MILDS</h3>, <h3 class=\"col-10 pl-0 nameIndicator\">ORO</h3>, <h3 class=\"col-10 pl-0 nameIndicator\">AZÚCAR</h3>, <h3 class=\"col-10 pl-0 nameIndicator\">ALGODÓN</h3>, <h3 class=\"col-10 pl-0 nameIndicator\">DÓLAR TRM</h3>, <h3 class=\"col-10 pl-0 nameIndicator\">EURO</h3>, <h3 class=\"col-10 pl-0 nameIndicator\">DÓLAR CASA DE CAMBIO VENTA</h3>, <h3 class=\"col-10 pl-0 nameIndicator\">DÓLAR CASA DE CAMBIO COMPRA</h3>, <h3 class=\"nameIndicator\">TASA DE USURA CRÉDITO CONSUMO</h3>, <h3 class=\"col-10 pl-0 nameIndicator\">UVR</h3>, <h3 class=\"nameIndicator\">IPC MENSUAL</h3>, <h3 class=\"col-10 pl-0 nameIndicator\">IPP MENSUAL</h3>, <h3 class=\"col-10 pl-0 nameIndicator\">PIB</h3>, <h3 class=\"col-10 pl-0 nameIndicator\">SALARIO MÍNIMO</h3>, <h3 class=\"col-10 pl-0 nameIndicator\">ACPM</h3>, <h3 class=\"col-10 pl-0 nameIndicator\">GASOLINA</h3>, <h3 class=\"col-10 pl-0 nameIndicator\">AUXILIO DE TRANSPORTE</h3>, <h3 class=\"col-10 pl-0 nameIndicator\">DESEMPLEO NACIONAL</h3>, <h3 class=\"col-10 pl-0 nameIndicator\">TASA DE INTERVENCIÓN DE POLÍTICA MONETARIA</h3>, <h3 class=\"nameIndicator\">COLSC</h3>, <h3 class=\"nameIndicator\">COLCAP</h3>, <h3 class=\"nameIndicator\">COLEQTY</h3>, <h3 class=\"nameIndicator\">COLIR</h3>]\n"
     ]
    }
   ],
   "source": [
    "#Extraer Nombres\n",
    "\n",
    "NombreIndicador= soup.find_all(\"h3\", class_ = \"nameIndicator\")\n",
    "print(NombreIndicador)"
   ]
  },
  {
   "cell_type": "code",
   "execution_count": 7,
   "metadata": {},
   "outputs": [
    {
     "name": "stdout",
     "output_type": "stream",
     "text": [
      "['PETRÓLEO WTI', 'PETRÓLEO BRENT', 'CAFÉ COLOMBIAN MILDS', 'ORO', 'AZÚCAR', 'ALGODÓN', 'DÓLAR TRM', 'EURO', 'DÓLAR CASA DE CAMBIO VENTA', 'DÓLAR CASA DE CAMBIO COMPRA', 'TASA DE USURA CRÉDITO CONSUMO', 'UVR', 'IPC MENSUAL', 'IPP MENSUAL', 'PIB', 'SALARIO MÍNIMO', 'ACPM', 'GASOLINA', 'AUXILIO DE TRANSPORTE', 'DESEMPLEO NACIONAL', 'TASA DE INTERVENCIÓN DE POLÍTICA MONETARIA', 'COLSC', 'COLCAP', 'COLEQTY', 'COLIR']\n"
     ]
    }
   ],
   "source": [
    "NombresFinales = list()\n",
    "\n",
    "for i in NombreIndicador:\n",
    "    NombresFinales.append(i.text)\n",
    "    \n",
    "print(NombresFinales)"
   ]
  },
  {
   "cell_type": "code",
   "execution_count": 8,
   "metadata": {},
   "outputs": [
    {
     "data": {
      "text/plain": [
       "25"
      ]
     },
     "execution_count": 8,
     "metadata": {},
     "output_type": "execute_result"
    }
   ],
   "source": [
    "len(NombresFinales)"
   ]
  },
  {
   "cell_type": "code",
   "execution_count": 9,
   "metadata": {},
   "outputs": [
    {
     "name": "stdout",
     "output_type": "stream",
     "text": [
      "[<span class=\"priceIndicator trm\">$ 3.740,14</span>, <span class=\"priceIndicator\">US$ 64,44</span>, <span class=\"priceIndicator\">US$ 67,50</span>, <span class=\"priceIndicator\">US$ 1,89</span>, <span class=\"priceIndicator\">US$ 1.792,80</span>, <span class=\"priceIndicator\">US$ 16,73</span>, <span class=\"priceIndicator\">US$ 87,86</span>, <span class=\"priceIndicator\">$ 3.740,14</span>, <span class=\"priceIndicator\">$ 4.596,77</span>, <span class=\"priceIndicator\">$ 3.544</span>, <span class=\"priceIndicator\">$ 3.445</span>, <span class=\"priceIndicator\">25,83 %</span>, <span class=\"priceIndicator\">$ 279,66</span>, <span class=\"priceIndicator\">0,51 %</span>, <span class=\"priceIndicator\">2,53 %</span>, <span class=\"priceIndicator\">-6,8 %</span>, <span class=\"priceIndicator\">$ 908.526,00</span>, <span class=\"priceIndicator\">$ 8.652,00</span>, <span class=\"priceIndicator\">$ 8.847,00</span>, <span class=\"priceIndicator\">$ 106.454,00</span>, <span class=\"priceIndicator\">14,20 %</span>, <span class=\"priceIndicator\">1,75 %</span>, <span class=\"priceIndicator\">962,19</span>, <span class=\"priceIndicator\">1.216,62</span>, <span class=\"priceIndicator\">851,07</span>, <span class=\"priceIndicator\">795,48</span>]\n"
     ]
    }
   ],
   "source": [
    "Indicadores = soup.find_all(\"span\", class_ = \"priceIndicator\")\n",
    "print(Indicadores)"
   ]
  },
  {
   "cell_type": "code",
   "execution_count": 10,
   "metadata": {},
   "outputs": [
    {
     "name": "stdout",
     "output_type": "stream",
     "text": [
      "['$ 3.740,14', 'US$ 64,44', 'US$ 67,50', 'US$ 1,89', 'US$ 1.792,80', 'US$ 16,73', 'US$ 87,86', '$ 3.740,14', '$ 4.596,77', '$ 3.544', '$ 3.445', '25,83 %', '$ 279,66', '0,51 %', '2,53 %', '-6,8 %', '$ 908.526,00', '$ 8.652,00', '$ 8.847,00', '$ 106.454,00', '14,20 %', '1,75 %', '962,19', '1.216,62', '851,07', '795,48']\n"
     ]
    }
   ],
   "source": [
    "PreciosFinales = list()\n",
    "\n",
    "for i in Indicadores:\n",
    "    PreciosFinales.append(i.text)\n",
    "    \n",
    "print(PreciosFinales)"
   ]
  },
  {
   "cell_type": "code",
   "execution_count": 11,
   "metadata": {},
   "outputs": [
    {
     "data": {
      "text/plain": [
       "26"
      ]
     },
     "execution_count": 11,
     "metadata": {},
     "output_type": "execute_result"
    }
   ],
   "source": [
    "len(PreciosFinales)"
   ]
  },
  {
   "cell_type": "code",
   "execution_count": 12,
   "metadata": {},
   "outputs": [
    {
     "data": {
      "text/plain": [
       "'$ 3.740,14'"
      ]
     },
     "execution_count": 12,
     "metadata": {},
     "output_type": "execute_result"
    }
   ],
   "source": [
    "PreciosFinales.pop(0)"
   ]
  },
  {
   "cell_type": "code",
   "execution_count": 13,
   "metadata": {},
   "outputs": [
    {
     "name": "stdout",
     "output_type": "stream",
     "text": [
      "['US$ 64,44', 'US$ 67,50', 'US$ 1,89', 'US$ 1.792,80', 'US$ 16,73', 'US$ 87,86', '$ 3.740,14', '$ 4.596,77', '$ 3.544', '$ 3.445', '25,83 %', '$ 279,66', '0,51 %', '2,53 %', '-6,8 %', '$ 908.526,00', '$ 8.652,00', '$ 8.847,00', '$ 106.454,00', '14,20 %', '1,75 %', '962,19', '1.216,62', '851,07', '795,48']\n"
     ]
    }
   ],
   "source": [
    "print(PreciosFinales)"
   ]
  },
  {
   "cell_type": "code",
   "execution_count": 14,
   "metadata": {},
   "outputs": [
    {
     "data": {
      "text/html": [
       "<div>\n",
       "<style scoped>\n",
       "    .dataframe tbody tr th:only-of-type {\n",
       "        vertical-align: middle;\n",
       "    }\n",
       "\n",
       "    .dataframe tbody tr th {\n",
       "        vertical-align: top;\n",
       "    }\n",
       "\n",
       "    .dataframe thead th {\n",
       "        text-align: right;\n",
       "    }\n",
       "</style>\n",
       "<table border=\"1\" class=\"dataframe\">\n",
       "  <thead>\n",
       "    <tr style=\"text-align: right;\">\n",
       "      <th></th>\n",
       "      <th>Valor Indicador</th>\n",
       "    </tr>\n",
       "  </thead>\n",
       "  <tbody>\n",
       "    <tr>\n",
       "      <th>PETRÓLEO WTI</th>\n",
       "      <td>US$ 64,44</td>\n",
       "    </tr>\n",
       "    <tr>\n",
       "      <th>PETRÓLEO BRENT</th>\n",
       "      <td>US$ 67,50</td>\n",
       "    </tr>\n",
       "    <tr>\n",
       "      <th>CAFÉ COLOMBIAN MILDS</th>\n",
       "      <td>US$ 1,89</td>\n",
       "    </tr>\n",
       "    <tr>\n",
       "      <th>ORO</th>\n",
       "      <td>US$ 1.792,80</td>\n",
       "    </tr>\n",
       "    <tr>\n",
       "      <th>AZÚCAR</th>\n",
       "      <td>US$ 16,73</td>\n",
       "    </tr>\n",
       "    <tr>\n",
       "      <th>ALGODÓN</th>\n",
       "      <td>US$ 87,86</td>\n",
       "    </tr>\n",
       "    <tr>\n",
       "      <th>DÓLAR TRM</th>\n",
       "      <td>$ 3.740,14</td>\n",
       "    </tr>\n",
       "    <tr>\n",
       "      <th>EURO</th>\n",
       "      <td>$ 4.596,77</td>\n",
       "    </tr>\n",
       "    <tr>\n",
       "      <th>DÓLAR CASA DE CAMBIO VENTA</th>\n",
       "      <td>$ 3.544</td>\n",
       "    </tr>\n",
       "    <tr>\n",
       "      <th>DÓLAR CASA DE CAMBIO COMPRA</th>\n",
       "      <td>$ 3.445</td>\n",
       "    </tr>\n",
       "    <tr>\n",
       "      <th>TASA DE USURA CRÉDITO CONSUMO</th>\n",
       "      <td>25,83 %</td>\n",
       "    </tr>\n",
       "    <tr>\n",
       "      <th>UVR</th>\n",
       "      <td>$ 279,66</td>\n",
       "    </tr>\n",
       "    <tr>\n",
       "      <th>IPC MENSUAL</th>\n",
       "      <td>0,51 %</td>\n",
       "    </tr>\n",
       "    <tr>\n",
       "      <th>IPP MENSUAL</th>\n",
       "      <td>2,53 %</td>\n",
       "    </tr>\n",
       "    <tr>\n",
       "      <th>PIB</th>\n",
       "      <td>-6,8 %</td>\n",
       "    </tr>\n",
       "    <tr>\n",
       "      <th>SALARIO MÍNIMO</th>\n",
       "      <td>$ 908.526,00</td>\n",
       "    </tr>\n",
       "    <tr>\n",
       "      <th>ACPM</th>\n",
       "      <td>$ 8.652,00</td>\n",
       "    </tr>\n",
       "    <tr>\n",
       "      <th>GASOLINA</th>\n",
       "      <td>$ 8.847,00</td>\n",
       "    </tr>\n",
       "    <tr>\n",
       "      <th>AUXILIO DE TRANSPORTE</th>\n",
       "      <td>$ 106.454,00</td>\n",
       "    </tr>\n",
       "    <tr>\n",
       "      <th>DESEMPLEO NACIONAL</th>\n",
       "      <td>14,20 %</td>\n",
       "    </tr>\n",
       "    <tr>\n",
       "      <th>TASA DE INTERVENCIÓN DE POLÍTICA MONETARIA</th>\n",
       "      <td>1,75 %</td>\n",
       "    </tr>\n",
       "    <tr>\n",
       "      <th>COLSC</th>\n",
       "      <td>962,19</td>\n",
       "    </tr>\n",
       "    <tr>\n",
       "      <th>COLCAP</th>\n",
       "      <td>1.216,62</td>\n",
       "    </tr>\n",
       "    <tr>\n",
       "      <th>COLEQTY</th>\n",
       "      <td>851,07</td>\n",
       "    </tr>\n",
       "    <tr>\n",
       "      <th>COLIR</th>\n",
       "      <td>795,48</td>\n",
       "    </tr>\n",
       "  </tbody>\n",
       "</table>\n",
       "</div>"
      ],
      "text/plain": [
       "                                           Valor Indicador\n",
       "PETRÓLEO WTI                                     US$ 64,44\n",
       "PETRÓLEO BRENT                                   US$ 67,50\n",
       "CAFÉ COLOMBIAN MILDS                              US$ 1,89\n",
       "ORO                                           US$ 1.792,80\n",
       "AZÚCAR                                           US$ 16,73\n",
       "ALGODÓN                                          US$ 87,86\n",
       "DÓLAR TRM                                       $ 3.740,14\n",
       "EURO                                            $ 4.596,77\n",
       "DÓLAR CASA DE CAMBIO VENTA                         $ 3.544\n",
       "DÓLAR CASA DE CAMBIO COMPRA                        $ 3.445\n",
       "TASA DE USURA CRÉDITO CONSUMO                      25,83 %\n",
       "UVR                                               $ 279,66\n",
       "IPC MENSUAL                                         0,51 %\n",
       "IPP MENSUAL                                         2,53 %\n",
       "PIB                                                 -6,8 %\n",
       "SALARIO MÍNIMO                                $ 908.526,00\n",
       "ACPM                                            $ 8.652,00\n",
       "GASOLINA                                        $ 8.847,00\n",
       "AUXILIO DE TRANSPORTE                         $ 106.454,00\n",
       "DESEMPLEO NACIONAL                                 14,20 %\n",
       "TASA DE INTERVENCIÓN DE POLÍTICA MONETARIA          1,75 %\n",
       "COLSC                                               962,19\n",
       "COLCAP                                            1.216,62\n",
       "COLEQTY                                             851,07\n",
       "COLIR                                               795,48"
      ]
     },
     "execution_count": 14,
     "metadata": {},
     "output_type": "execute_result"
    }
   ],
   "source": [
    "pd.DataFrame({\"Valor Indicador\": PreciosFinales}, index = NombresFinales)"
   ]
  },
  {
   "cell_type": "code",
   "execution_count": 15,
   "metadata": {},
   "outputs": [],
   "source": [
    "BaseFinal = pd.DataFrame({\"Indicador\":NombresFinales,\"Valor Indicador\": PreciosFinales})"
   ]
  },
  {
   "cell_type": "code",
   "execution_count": 16,
   "metadata": {},
   "outputs": [],
   "source": [
    "ruta = r\"C:\\Users\\57317\\Documents\\IndicadoresCurso.xlsx\"\n",
    "BaseFinal.to_excel(ruta, encoding = \"utf-16\")"
   ]
  }
 ],
 "metadata": {
  "kernelspec": {
   "display_name": "Python 3",
   "language": "python",
   "name": "python3"
  },
  "language_info": {
   "codemirror_mode": {
    "name": "ipython",
    "version": 3
   },
   "file_extension": ".py",
   "mimetype": "text/x-python",
   "name": "python",
   "nbconvert_exporter": "python",
   "pygments_lexer": "ipython3",
   "version": "3.8.5"
  }
 },
 "nbformat": 4,
 "nbformat_minor": 4
}
