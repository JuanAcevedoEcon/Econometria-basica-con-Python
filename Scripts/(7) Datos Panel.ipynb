{
 "cells": [
  {
   "cell_type": "markdown",
   "metadata": {},
   "source": [
    "### Logit Multinomial"
   ]
  },
  {
   "cell_type": "code",
   "execution_count": null,
   "metadata": {},
   "outputs": [],
   "source": [
    "import numpy as np\n",
    "import pandas as pd\n",
    "import statsmodels.api as sm\n",
    "import linearmodels as lm "
   ]
  },
  {
   "cell_type": "code",
   "execution_count": null,
   "metadata": {},
   "outputs": [],
   "source": [
    "DatosM = pd.read_csv(\"__________\")"
   ]
  },
  {
   "cell_type": "code",
   "execution_count": null,
   "metadata": {},
   "outputs": [],
   "source": [
    "YMulti = DatosM[\"______\"]\n",
    "XMulti = DatosM[[\"_____________\"]]"
   ]
  },
  {
   "cell_type": "code",
   "execution_count": null,
   "metadata": {},
   "outputs": [],
   "source": [
    "ModeloMultinomial = sm.__________(_________, sm.add_constant(________))\n",
    "ResultadosMultinomial = ModeloMultinomial.fit()\n",
    "print(ResultadosMultinomial.summary())"
   ]
  },
  {
   "cell_type": "markdown",
   "metadata": {},
   "source": [
    "### Datos Panel"
   ]
  },
  {
   "cell_type": "code",
   "execution_count": null,
   "metadata": {},
   "outputs": [],
   "source": [
    "data = pd.read_csv(\"____________\")"
   ]
  },
  {
   "cell_type": "code",
   "execution_count": null,
   "metadata": {},
   "outputs": [],
   "source": [
    "PanelData = data.set_index(______________) # Organizar como panel de datos ([N individuos, T periodos])"
   ]
  },
  {
   "cell_type": "markdown",
   "metadata": {},
   "source": [
    "**MCO Agrupadas**"
   ]
  },
  {
   "cell_type": "code",
   "execution_count": null,
   "metadata": {},
   "outputs": [],
   "source": [
    "Y = PanelData[\"lwage\"]\n",
    "X = PanelData[[\"educ\",\"black\",\"hisp\",\"exper\",\"expersq\",\"married\",\"union\",\"d81\",\"d82\",\"d83\",\"d84\",\"d85\",\"d86\",\"d87\"]]"
   ]
  },
  {
   "cell_type": "code",
   "execution_count": null,
   "metadata": {},
   "outputs": [],
   "source": [
    "MCOAgrupados = lm._____________(____,sm.add_constant(___))\n",
    "ResultadosMCOAgrupados = MCOAgrupados.fit()\n",
    "print(ResultadosMCOAgrupados)"
   ]
  },
  {
   "cell_type": "markdown",
   "metadata": {},
   "source": [
    "**Beetwen**"
   ]
  },
  {
   "cell_type": "code",
   "execution_count": null,
   "metadata": {},
   "outputs": [],
   "source": [
    "ModeloBetween = lm.__________(__________, sm.add_constant(PanelData[[\"educ\",\"exper\",\"expersq\",\"married\",\"union\"]]))\n",
    "ResultadosModeloBetween = ModeloBetween.fit()\n",
    "print(ResultadosModeloBetween)"
   ]
  },
  {
   "cell_type": "markdown",
   "metadata": {},
   "source": [
    "**Efectos Fijos Within** "
   ]
  },
  {
   "cell_type": "code",
   "execution_count": null,
   "metadata": {},
   "outputs": [],
   "source": [
    "EfectosFijos = lm.PanelOLS(Y, sm.add_constant(PanelData[[\"educ\",\"black\",\"hisp\",\"expersq\",\"married\",\n",
    "                                          \"union\",\"d81\",\"d82\",\"d83\",\"d84\",\"d85\",\"d86\",\"d87\"]]),\n",
    "                   ______________________,\n",
    "                    ______________________)\n",
    "ResultadosEfectosFijos = EfectosFijos.fit()\n",
    "print(ResultadosEfectosFijos)"
   ]
  },
  {
   "cell_type": "markdown",
   "metadata": {},
   "source": [
    "**Ejercicio en Clase**"
   ]
  },
  {
   "cell_type": "code",
   "execution_count": null,
   "metadata": {},
   "outputs": [],
   "source": [
    "# Encontrar modelos con personas casadas y negras."
   ]
  },
  {
   "cell_type": "markdown",
   "metadata": {},
   "source": [
    "**Efectos Aleatorios**"
   ]
  },
  {
   "cell_type": "code",
   "execution_count": null,
   "metadata": {},
   "outputs": [],
   "source": [
    "EfectosAleatorios = lm.________________(_____,sm.add_constant(____))\n",
    "ResultadosEA = EfectosAleatorios.fit()\n",
    "print(ResultadosEA)"
   ]
  },
  {
   "cell_type": "markdown",
   "metadata": {},
   "source": [
    "**Primeras Diferencias**"
   ]
  },
  {
   "cell_type": "code",
   "execution_count": null,
   "metadata": {},
   "outputs": [],
   "source": [
    "PrimerasDiferencias = lm.______________(_____,PanelData[[\"exper\",\"expersq\",\n",
    "                                                                      \"union\",\"married\"]])\n",
    "ResultadosPD = PrimerasDiferencias.fit()\n",
    "print(ResultadosPD)"
   ]
  },
  {
   "cell_type": "code",
   "execution_count": null,
   "metadata": {},
   "outputs": [],
   "source": [
    "# Comparar todos los modelos \n",
    "from linearmodels.panel import compare"
   ]
  },
  {
   "cell_type": "code",
   "execution_count": null,
   "metadata": {},
   "outputs": [],
   "source": [
    "print(compare({\"MCO Agrupados\":________________-,\"Between\":___________,\"Efectos Fijos\":\n",
    "        ________________, \"Efectos Aleatorios\":_______________ , \"Primeras Diferencias\": ___________}))"
   ]
  }
 ],
 "metadata": {
  "kernelspec": {
   "display_name": "Python 3",
   "language": "python",
   "name": "python3"
  },
  "language_info": {
   "codemirror_mode": {
    "name": "ipython",
    "version": 3
   },
   "file_extension": ".py",
   "mimetype": "text/x-python",
   "name": "python",
   "nbconvert_exporter": "python",
   "pygments_lexer": "ipython3",
   "version": "3.8.5"
  }
 },
 "nbformat": 4,
 "nbformat_minor": 2
}
