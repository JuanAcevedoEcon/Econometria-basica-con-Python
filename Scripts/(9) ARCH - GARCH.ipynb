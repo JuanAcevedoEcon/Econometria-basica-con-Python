{
 "cells": [
  {
   "cell_type": "markdown",
   "id": "e3687ea0",
   "metadata": {},
   "source": [
    "## Modelos GARCH"
   ]
  },
  {
   "cell_type": "markdown",
   "id": "d7e0bdba",
   "metadata": {},
   "source": [
    "#### Modelo ARCH (Autoregressive Conditional Heteroskedasticity)\n"
   ]
  },
  {
   "cell_type": "code",
   "execution_count": 1,
   "id": "e9766673",
   "metadata": {},
   "outputs": [],
   "source": [
    "import pandas as pd\n",
    "import matplotlib.pyplot as plt\n",
    "import numpy as np\n",
    "\n",
    "from statsmodels.graphics.tsaplots import plot_acf, plot_pacf\n",
    "\n",
    "from arch import arch_model # !pip install arch \n",
    "from arch.__future__ import reindexing # Se utiliza para eliminar warning por actualización de arch"
   ]
  },
  {
   "cell_type": "code",
   "execution_count": 2,
   "id": "e2a2db4d",
   "metadata": {},
   "outputs": [],
   "source": [
    "precios = pd.read_excel(r\"C:\\Users\\57317\\Desktop\\Universidad Nacional\\Programación\\Python\\Curso Econometría básica con Python\\Bases de datos\\ECOPETROL.xls\",header=1)"
   ]
  },
  {
   "cell_type": "code",
   "execution_count": 3,
   "id": "7bb8b00d",
   "metadata": {},
   "outputs": [
    {
     "data": {
      "text/html": [
       "<div>\n",
       "<style scoped>\n",
       "    .dataframe tbody tr th:only-of-type {\n",
       "        vertical-align: middle;\n",
       "    }\n",
       "\n",
       "    .dataframe tbody tr th {\n",
       "        vertical-align: top;\n",
       "    }\n",
       "\n",
       "    .dataframe thead th {\n",
       "        text-align: right;\n",
       "    }\n",
       "</style>\n",
       "<table border=\"1\" class=\"dataframe\">\n",
       "  <thead>\n",
       "    <tr style=\"text-align: right;\">\n",
       "      <th></th>\n",
       "      <th>Unnamed: 0</th>\n",
       "      <th>Nemotecnico</th>\n",
       "      <th>fecha</th>\n",
       "      <th>Cantidad</th>\n",
       "      <th>Volumen</th>\n",
       "      <th>Precio Cierre</th>\n",
       "      <th>Precio Mayor</th>\n",
       "      <th>Precio Medio</th>\n",
       "      <th>Precio Menor</th>\n",
       "      <th>Variacion%</th>\n",
       "      <th>Variacion Absoluta</th>\n",
       "    </tr>\n",
       "  </thead>\n",
       "  <tbody>\n",
       "    <tr>\n",
       "      <th>0</th>\n",
       "      <td>NaN</td>\n",
       "      <td>ECOPETROL</td>\n",
       "      <td>2019-11-12</td>\n",
       "      <td>7872068</td>\n",
       "      <td>24675673900</td>\n",
       "      <td>3100</td>\n",
       "      <td>3190</td>\n",
       "      <td>3134.59</td>\n",
       "      <td>3100</td>\n",
       "      <td>-0.96</td>\n",
       "      <td>-30</td>\n",
       "    </tr>\n",
       "    <tr>\n",
       "      <th>1</th>\n",
       "      <td>NaN</td>\n",
       "      <td>ECOPETROL</td>\n",
       "      <td>2019-11-13</td>\n",
       "      <td>7650822</td>\n",
       "      <td>23805786350</td>\n",
       "      <td>3120</td>\n",
       "      <td>3130</td>\n",
       "      <td>3111.53</td>\n",
       "      <td>3035</td>\n",
       "      <td>0.65</td>\n",
       "      <td>20</td>\n",
       "    </tr>\n",
       "    <tr>\n",
       "      <th>2</th>\n",
       "      <td>NaN</td>\n",
       "      <td>ECOPETROL</td>\n",
       "      <td>2019-11-14</td>\n",
       "      <td>3466487</td>\n",
       "      <td>10879299015</td>\n",
       "      <td>3125</td>\n",
       "      <td>3165</td>\n",
       "      <td>3138.42</td>\n",
       "      <td>3110</td>\n",
       "      <td>0.16</td>\n",
       "      <td>5</td>\n",
       "    </tr>\n",
       "    <tr>\n",
       "      <th>3</th>\n",
       "      <td>NaN</td>\n",
       "      <td>ECOPETROL</td>\n",
       "      <td>2019-11-15</td>\n",
       "      <td>6849468</td>\n",
       "      <td>21571232805</td>\n",
       "      <td>3145</td>\n",
       "      <td>3175</td>\n",
       "      <td>3149.33</td>\n",
       "      <td>3125</td>\n",
       "      <td>0.64</td>\n",
       "      <td>20</td>\n",
       "    </tr>\n",
       "    <tr>\n",
       "      <th>4</th>\n",
       "      <td>NaN</td>\n",
       "      <td>ECOPETROL</td>\n",
       "      <td>2019-11-18</td>\n",
       "      <td>2313562</td>\n",
       "      <td>7209926510</td>\n",
       "      <td>3130</td>\n",
       "      <td>3130</td>\n",
       "      <td>3114.90</td>\n",
       "      <td>3095</td>\n",
       "      <td>-0.48</td>\n",
       "      <td>-15</td>\n",
       "    </tr>\n",
       "  </tbody>\n",
       "</table>\n",
       "</div>"
      ],
      "text/plain": [
       "   Unnamed: 0 Nemotecnico      fecha  Cantidad      Volumen  Precio Cierre  \\\n",
       "0         NaN  ECOPETROL  2019-11-12   7872068  24675673900           3100   \n",
       "1         NaN  ECOPETROL  2019-11-13   7650822  23805786350           3120   \n",
       "2         NaN  ECOPETROL  2019-11-14   3466487  10879299015           3125   \n",
       "3         NaN  ECOPETROL  2019-11-15   6849468  21571232805           3145   \n",
       "4         NaN  ECOPETROL  2019-11-18   2313562   7209926510           3130   \n",
       "\n",
       "   Precio Mayor  Precio Medio  Precio Menor  Variacion%  Variacion Absoluta  \n",
       "0          3190       3134.59          3100       -0.96                 -30  \n",
       "1          3130       3111.53          3035        0.65                  20  \n",
       "2          3165       3138.42          3110        0.16                   5  \n",
       "3          3175       3149.33          3125        0.64                  20  \n",
       "4          3130       3114.90          3095       -0.48                 -15  "
      ]
     },
     "execution_count": 3,
     "metadata": {},
     "output_type": "execute_result"
    }
   ],
   "source": [
    "precios.head()"
   ]
  },
  {
   "cell_type": "code",
   "execution_count": 7,
   "id": "8a7af1a7",
   "metadata": {},
   "outputs": [],
   "source": [
    "precios = precios.drop(\"Unnamed: 0\", axis = 1)"
   ]
  },
  {
   "cell_type": "code",
   "execution_count": 8,
   "id": "c0d92046",
   "metadata": {},
   "outputs": [
    {
     "data": {
      "text/html": [
       "<div>\n",
       "<style scoped>\n",
       "    .dataframe tbody tr th:only-of-type {\n",
       "        vertical-align: middle;\n",
       "    }\n",
       "\n",
       "    .dataframe tbody tr th {\n",
       "        vertical-align: top;\n",
       "    }\n",
       "\n",
       "    .dataframe thead th {\n",
       "        text-align: right;\n",
       "    }\n",
       "</style>\n",
       "<table border=\"1\" class=\"dataframe\">\n",
       "  <thead>\n",
       "    <tr style=\"text-align: right;\">\n",
       "      <th></th>\n",
       "      <th>Nemotecnico</th>\n",
       "      <th>fecha</th>\n",
       "      <th>Cantidad</th>\n",
       "      <th>Volumen</th>\n",
       "      <th>Precio Cierre</th>\n",
       "      <th>Precio Mayor</th>\n",
       "      <th>Precio Medio</th>\n",
       "      <th>Precio Menor</th>\n",
       "      <th>Variacion%</th>\n",
       "      <th>Variacion Absoluta</th>\n",
       "    </tr>\n",
       "  </thead>\n",
       "  <tbody>\n",
       "    <tr>\n",
       "      <th>0</th>\n",
       "      <td>ECOPETROL</td>\n",
       "      <td>2019-11-12</td>\n",
       "      <td>7872068</td>\n",
       "      <td>24675673900</td>\n",
       "      <td>3100</td>\n",
       "      <td>3190</td>\n",
       "      <td>3134.59</td>\n",
       "      <td>3100</td>\n",
       "      <td>-0.96</td>\n",
       "      <td>-30</td>\n",
       "    </tr>\n",
       "    <tr>\n",
       "      <th>1</th>\n",
       "      <td>ECOPETROL</td>\n",
       "      <td>2019-11-13</td>\n",
       "      <td>7650822</td>\n",
       "      <td>23805786350</td>\n",
       "      <td>3120</td>\n",
       "      <td>3130</td>\n",
       "      <td>3111.53</td>\n",
       "      <td>3035</td>\n",
       "      <td>0.65</td>\n",
       "      <td>20</td>\n",
       "    </tr>\n",
       "    <tr>\n",
       "      <th>2</th>\n",
       "      <td>ECOPETROL</td>\n",
       "      <td>2019-11-14</td>\n",
       "      <td>3466487</td>\n",
       "      <td>10879299015</td>\n",
       "      <td>3125</td>\n",
       "      <td>3165</td>\n",
       "      <td>3138.42</td>\n",
       "      <td>3110</td>\n",
       "      <td>0.16</td>\n",
       "      <td>5</td>\n",
       "    </tr>\n",
       "    <tr>\n",
       "      <th>3</th>\n",
       "      <td>ECOPETROL</td>\n",
       "      <td>2019-11-15</td>\n",
       "      <td>6849468</td>\n",
       "      <td>21571232805</td>\n",
       "      <td>3145</td>\n",
       "      <td>3175</td>\n",
       "      <td>3149.33</td>\n",
       "      <td>3125</td>\n",
       "      <td>0.64</td>\n",
       "      <td>20</td>\n",
       "    </tr>\n",
       "    <tr>\n",
       "      <th>4</th>\n",
       "      <td>ECOPETROL</td>\n",
       "      <td>2019-11-18</td>\n",
       "      <td>2313562</td>\n",
       "      <td>7209926510</td>\n",
       "      <td>3130</td>\n",
       "      <td>3130</td>\n",
       "      <td>3114.90</td>\n",
       "      <td>3095</td>\n",
       "      <td>-0.48</td>\n",
       "      <td>-15</td>\n",
       "    </tr>\n",
       "  </tbody>\n",
       "</table>\n",
       "</div>"
      ],
      "text/plain": [
       "  Nemotecnico      fecha  Cantidad      Volumen  Precio Cierre  Precio Mayor  \\\n",
       "0  ECOPETROL  2019-11-12   7872068  24675673900           3100          3190   \n",
       "1  ECOPETROL  2019-11-13   7650822  23805786350           3120          3130   \n",
       "2  ECOPETROL  2019-11-14   3466487  10879299015           3125          3165   \n",
       "3  ECOPETROL  2019-11-15   6849468  21571232805           3145          3175   \n",
       "4  ECOPETROL  2019-11-18   2313562   7209926510           3130          3130   \n",
       "\n",
       "   Precio Medio  Precio Menor  Variacion%  Variacion Absoluta  \n",
       "0       3134.59          3100       -0.96                 -30  \n",
       "1       3111.53          3035        0.65                  20  \n",
       "2       3138.42          3110        0.16                   5  \n",
       "3       3149.33          3125        0.64                  20  \n",
       "4       3114.90          3095       -0.48                 -15  "
      ]
     },
     "execution_count": 8,
     "metadata": {},
     "output_type": "execute_result"
    }
   ],
   "source": [
    "precios.head()"
   ]
  },
  {
   "cell_type": "code",
   "execution_count": 9,
   "id": "7491f561",
   "metadata": {},
   "outputs": [],
   "source": [
    "precios = precios.set_index(\"fecha\")"
   ]
  },
  {
   "cell_type": "code",
   "execution_count": 10,
   "id": "226176f0",
   "metadata": {
    "collapsed": true
   },
   "outputs": [
    {
     "data": {
      "text/html": [
       "<div>\n",
       "<style scoped>\n",
       "    .dataframe tbody tr th:only-of-type {\n",
       "        vertical-align: middle;\n",
       "    }\n",
       "\n",
       "    .dataframe tbody tr th {\n",
       "        vertical-align: top;\n",
       "    }\n",
       "\n",
       "    .dataframe thead th {\n",
       "        text-align: right;\n",
       "    }\n",
       "</style>\n",
       "<table border=\"1\" class=\"dataframe\">\n",
       "  <thead>\n",
       "    <tr style=\"text-align: right;\">\n",
       "      <th></th>\n",
       "      <th>Nemotecnico</th>\n",
       "      <th>Cantidad</th>\n",
       "      <th>Volumen</th>\n",
       "      <th>Precio Cierre</th>\n",
       "      <th>Precio Mayor</th>\n",
       "      <th>Precio Medio</th>\n",
       "      <th>Precio Menor</th>\n",
       "      <th>Variacion%</th>\n",
       "      <th>Variacion Absoluta</th>\n",
       "    </tr>\n",
       "    <tr>\n",
       "      <th>fecha</th>\n",
       "      <th></th>\n",
       "      <th></th>\n",
       "      <th></th>\n",
       "      <th></th>\n",
       "      <th></th>\n",
       "      <th></th>\n",
       "      <th></th>\n",
       "      <th></th>\n",
       "      <th></th>\n",
       "    </tr>\n",
       "  </thead>\n",
       "  <tbody>\n",
       "    <tr>\n",
       "      <th>2019-11-12</th>\n",
       "      <td>ECOPETROL</td>\n",
       "      <td>7872068</td>\n",
       "      <td>24675673900</td>\n",
       "      <td>3100</td>\n",
       "      <td>3190</td>\n",
       "      <td>3134.59</td>\n",
       "      <td>3100</td>\n",
       "      <td>-0.96</td>\n",
       "      <td>-30</td>\n",
       "    </tr>\n",
       "    <tr>\n",
       "      <th>2019-11-13</th>\n",
       "      <td>ECOPETROL</td>\n",
       "      <td>7650822</td>\n",
       "      <td>23805786350</td>\n",
       "      <td>3120</td>\n",
       "      <td>3130</td>\n",
       "      <td>3111.53</td>\n",
       "      <td>3035</td>\n",
       "      <td>0.65</td>\n",
       "      <td>20</td>\n",
       "    </tr>\n",
       "    <tr>\n",
       "      <th>2019-11-14</th>\n",
       "      <td>ECOPETROL</td>\n",
       "      <td>3466487</td>\n",
       "      <td>10879299015</td>\n",
       "      <td>3125</td>\n",
       "      <td>3165</td>\n",
       "      <td>3138.42</td>\n",
       "      <td>3110</td>\n",
       "      <td>0.16</td>\n",
       "      <td>5</td>\n",
       "    </tr>\n",
       "    <tr>\n",
       "      <th>2019-11-15</th>\n",
       "      <td>ECOPETROL</td>\n",
       "      <td>6849468</td>\n",
       "      <td>21571232805</td>\n",
       "      <td>3145</td>\n",
       "      <td>3175</td>\n",
       "      <td>3149.33</td>\n",
       "      <td>3125</td>\n",
       "      <td>0.64</td>\n",
       "      <td>20</td>\n",
       "    </tr>\n",
       "    <tr>\n",
       "      <th>2019-11-18</th>\n",
       "      <td>ECOPETROL</td>\n",
       "      <td>2313562</td>\n",
       "      <td>7209926510</td>\n",
       "      <td>3130</td>\n",
       "      <td>3130</td>\n",
       "      <td>3114.90</td>\n",
       "      <td>3095</td>\n",
       "      <td>-0.48</td>\n",
       "      <td>-15</td>\n",
       "    </tr>\n",
       "    <tr>\n",
       "      <th>...</th>\n",
       "      <td>...</td>\n",
       "      <td>...</td>\n",
       "      <td>...</td>\n",
       "      <td>...</td>\n",
       "      <td>...</td>\n",
       "      <td>...</td>\n",
       "      <td>...</td>\n",
       "      <td>...</td>\n",
       "      <td>...</td>\n",
       "    </tr>\n",
       "    <tr>\n",
       "      <th>2021-10-29</th>\n",
       "      <td>ECOPETROL</td>\n",
       "      <td>14648307</td>\n",
       "      <td>41694709933</td>\n",
       "      <td>2847</td>\n",
       "      <td>2880</td>\n",
       "      <td>2846.38</td>\n",
       "      <td>2830</td>\n",
       "      <td>-1.49</td>\n",
       "      <td>-43</td>\n",
       "    </tr>\n",
       "    <tr>\n",
       "      <th>2021-11-02</th>\n",
       "      <td>ECOPETROL</td>\n",
       "      <td>6747707</td>\n",
       "      <td>19270101764</td>\n",
       "      <td>2854</td>\n",
       "      <td>2869</td>\n",
       "      <td>2855.80</td>\n",
       "      <td>2847</td>\n",
       "      <td>0.25</td>\n",
       "      <td>7</td>\n",
       "    </tr>\n",
       "    <tr>\n",
       "      <th>2021-11-03</th>\n",
       "      <td>ECOPETROL</td>\n",
       "      <td>8941835</td>\n",
       "      <td>25750821675</td>\n",
       "      <td>2890</td>\n",
       "      <td>2890</td>\n",
       "      <td>2879.81</td>\n",
       "      <td>2840</td>\n",
       "      <td>1.26</td>\n",
       "      <td>36</td>\n",
       "    </tr>\n",
       "    <tr>\n",
       "      <th>2021-11-04</th>\n",
       "      <td>ECOPETROL</td>\n",
       "      <td>9498288</td>\n",
       "      <td>27556201150</td>\n",
       "      <td>2871</td>\n",
       "      <td>2950</td>\n",
       "      <td>2901.18</td>\n",
       "      <td>2865</td>\n",
       "      <td>-0.66</td>\n",
       "      <td>-19</td>\n",
       "    </tr>\n",
       "    <tr>\n",
       "      <th>2021-11-05</th>\n",
       "      <td>ECOPETROL</td>\n",
       "      <td>4637018</td>\n",
       "      <td>13370880641</td>\n",
       "      <td>2877</td>\n",
       "      <td>2890</td>\n",
       "      <td>2883.51</td>\n",
       "      <td>2877</td>\n",
       "      <td>0.21</td>\n",
       "      <td>6</td>\n",
       "    </tr>\n",
       "  </tbody>\n",
       "</table>\n",
       "<p>484 rows × 9 columns</p>\n",
       "</div>"
      ],
      "text/plain": [
       "           Nemotecnico  Cantidad      Volumen  Precio Cierre  Precio Mayor  \\\n",
       "fecha                                                                        \n",
       "2019-11-12  ECOPETROL    7872068  24675673900           3100          3190   \n",
       "2019-11-13  ECOPETROL    7650822  23805786350           3120          3130   \n",
       "2019-11-14  ECOPETROL    3466487  10879299015           3125          3165   \n",
       "2019-11-15  ECOPETROL    6849468  21571232805           3145          3175   \n",
       "2019-11-18  ECOPETROL    2313562   7209926510           3130          3130   \n",
       "...                ...       ...          ...            ...           ...   \n",
       "2021-10-29  ECOPETROL   14648307  41694709933           2847          2880   \n",
       "2021-11-02  ECOPETROL    6747707  19270101764           2854          2869   \n",
       "2021-11-03  ECOPETROL    8941835  25750821675           2890          2890   \n",
       "2021-11-04  ECOPETROL    9498288  27556201150           2871          2950   \n",
       "2021-11-05  ECOPETROL    4637018  13370880641           2877          2890   \n",
       "\n",
       "            Precio Medio  Precio Menor  Variacion%  Variacion Absoluta  \n",
       "fecha                                                                   \n",
       "2019-11-12       3134.59          3100       -0.96                 -30  \n",
       "2019-11-13       3111.53          3035        0.65                  20  \n",
       "2019-11-14       3138.42          3110        0.16                   5  \n",
       "2019-11-15       3149.33          3125        0.64                  20  \n",
       "2019-11-18       3114.90          3095       -0.48                 -15  \n",
       "...                  ...           ...         ...                 ...  \n",
       "2021-10-29       2846.38          2830       -1.49                 -43  \n",
       "2021-11-02       2855.80          2847        0.25                   7  \n",
       "2021-11-03       2879.81          2840        1.26                  36  \n",
       "2021-11-04       2901.18          2865       -0.66                 -19  \n",
       "2021-11-05       2883.51          2877        0.21                   6  \n",
       "\n",
       "[484 rows x 9 columns]"
      ]
     },
     "execution_count": 10,
     "metadata": {},
     "output_type": "execute_result"
    }
   ],
   "source": [
    "precios"
   ]
  },
  {
   "cell_type": "code",
   "execution_count": 17,
   "id": "6153d884",
   "metadata": {},
   "outputs": [
    {
     "name": "stdout",
     "output_type": "stream",
     "text": [
      "Iteration:      5,   Func. Count:     30,   Neg. LLF: 2221.5188306032787\n",
      "Iteration:     10,   Func. Count:     56,   Neg. LLF: 2267.8931091420723\n",
      "Iteration:     15,   Func. Count:     85,   Neg. LLF: 2214.3848415621896\n",
      "Iteration:     20,   Func. Count:    109,   Neg. LLF: 2214.28489441065\n",
      "Optimization terminated successfully    (Exit mode 0)\n",
      "            Current function value: 2214.2848944107327\n",
      "            Iterations: 20\n",
      "            Function evaluations: 109\n",
      "            Gradient evaluations: 20\n"
     ]
    },
    {
     "data": {
      "text/html": [
       "<table class=\"simpletable\">\n",
       "<caption>Constant Mean - GARCH Model Results</caption>\n",
       "<tr>\n",
       "  <th>Dep. Variable:</th>    <td>Precio Cierre</td>   <th>  R-squared:         </th>  <td>   0.000</td> \n",
       "</tr>\n",
       "<tr>\n",
       "  <th>Mean Model:</th>       <td>Constant Mean</td>   <th>  Adj. R-squared:    </th>  <td>   0.000</td> \n",
       "</tr>\n",
       "<tr>\n",
       "  <th>Vol Model:</th>            <td>GARCH</td>       <th>  Log-Likelihood:    </th> <td>  -2214.28</td>\n",
       "</tr>\n",
       "<tr>\n",
       "  <th>Distribution:</th>        <td>Normal</td>       <th>  AIC:               </th> <td>   4436.57</td>\n",
       "</tr>\n",
       "<tr>\n",
       "  <th>Method:</th>        <td>Maximum Likelihood</td> <th>  BIC:               </th> <td>   4453.30</td>\n",
       "</tr>\n",
       "<tr>\n",
       "  <th></th>                        <td></td>          <th>  No. Observations:  </th>     <td>484</td>   \n",
       "</tr>\n",
       "<tr>\n",
       "  <th>Date:</th>           <td>Thu, Nov 11 2021</td>  <th>  Df Residuals:      </th>     <td>483</td>   \n",
       "</tr>\n",
       "<tr>\n",
       "  <th>Time:</th>               <td>17:18:16</td>      <th>  Df Model:          </th>      <td>1</td>    \n",
       "</tr>\n",
       "</table>\n",
       "<table class=\"simpletable\">\n",
       "<caption>Mean Model</caption>\n",
       "<tr>\n",
       "   <td></td>     <th>coef</th>     <th>std err</th>      <th>t</th>     <th>P>|t|</th>   <th>95.0% Conf. Int.</th>   \n",
       "</tr>\n",
       "<tr>\n",
       "  <th>mu</th> <td>  224.0082</td> <td>    2.812</td> <td>   79.667</td> <td>0.000</td> <td>[2.185e+02,2.295e+02]</td>\n",
       "</tr>\n",
       "</table>\n",
       "<table class=\"simpletable\">\n",
       "<caption>Volatility Model</caption>\n",
       "<tr>\n",
       "      <td></td>        <th>coef</th>     <th>std err</th>      <th>t</th>       <th>P>|t|</th>   <th>95.0% Conf. Int.</th> \n",
       "</tr>\n",
       "<tr>\n",
       "  <th>omega</th>    <td>   13.4205</td> <td>    4.848</td> <td>    2.768</td> <td>5.640e-03</td> <td>[  3.918, 22.923]</td>\n",
       "</tr>\n",
       "<tr>\n",
       "  <th>alpha[1]</th> <td>    0.7266</td> <td>7.082e-02</td> <td>   10.260</td> <td>1.068e-24</td> <td>[  0.588,  0.865]</td>\n",
       "</tr>\n",
       "<tr>\n",
       "  <th>beta[1]</th>  <td>    0.2711</td> <td>7.151e-02</td> <td>    3.791</td> <td>1.503e-04</td> <td>[  0.131,  0.411]</td>\n",
       "</tr>\n",
       "</table><br/><br/>Covariance estimator: robust"
      ],
      "text/plain": [
       "<class 'statsmodels.iolib.summary.Summary'>\n",
       "\"\"\"\n",
       "                     Constant Mean - GARCH Model Results                      \n",
       "==============================================================================\n",
       "Dep. Variable:          Precio Cierre   R-squared:                       0.000\n",
       "Mean Model:             Constant Mean   Adj. R-squared:                  0.000\n",
       "Vol Model:                      GARCH   Log-Likelihood:               -2214.28\n",
       "Distribution:                  Normal   AIC:                           4436.57\n",
       "Method:            Maximum Likelihood   BIC:                           4453.30\n",
       "                                        No. Observations:                  484\n",
       "Date:                Thu, Nov 11 2021   Df Residuals:                      483\n",
       "Time:                        17:18:16   Df Model:                            1\n",
       "                                 Mean Model                                 \n",
       "============================================================================\n",
       "                 coef    std err          t      P>|t|      95.0% Conf. Int.\n",
       "----------------------------------------------------------------------------\n",
       "mu           224.0082      2.812     79.667      0.000 [2.185e+02,2.295e+02]\n",
       "                            Volatility Model                            \n",
       "========================================================================\n",
       "                 coef    std err          t      P>|t|  95.0% Conf. Int.\n",
       "------------------------------------------------------------------------\n",
       "omega         13.4205      4.848      2.768  5.640e-03 [  3.918, 22.923]\n",
       "alpha[1]       0.7266  7.082e-02     10.260  1.068e-24 [  0.588,  0.865]\n",
       "beta[1]        0.2711  7.151e-02      3.791  1.503e-04 [  0.131,  0.411]\n",
       "========================================================================\n",
       "\n",
       "Covariance estimator: robust\n",
       "\"\"\""
      ]
     },
     "execution_count": 17,
     "metadata": {},
     "output_type": "execute_result"
    }
   ],
   "source": [
    "model_arch = arch_model(precios[\"Precio Cierre\"], rescale = True)\n",
    "resultados = model_arch.fit(update_freq=5)\n",
    "resultados.summary()"
   ]
  },
  {
   "cell_type": "code",
   "execution_count": 18,
   "id": "0cd68f86",
   "metadata": {},
   "outputs": [
    {
     "data": {
      "text/plain": [
       "0.1"
      ]
     },
     "execution_count": 18,
     "metadata": {},
     "output_type": "execute_result"
    }
   ],
   "source": [
    "resultados.scale"
   ]
  },
  {
   "cell_type": "code",
   "execution_count": 20,
   "id": "ab65dee7",
   "metadata": {},
   "outputs": [
    {
     "name": "stdout",
     "output_type": "stream",
     "text": [
      "Iteration:      5,   Func. Count:     31,   Neg. LLF: 4102808.736870445\n",
      "Iteration:     10,   Func. Count:     61,   Neg. LLF: 2199.420762101455\n",
      "Iteration:     15,   Func. Count:     86,   Neg. LLF: 2191.9978280080954\n",
      "Iteration:     20,   Func. Count:    112,   Neg. LLF: 614912.7363722239\n",
      "Iteration:     25,   Func. Count:    139,   Neg. LLF: 2164.960311926223\n",
      "Optimization terminated successfully    (Exit mode 0)\n",
      "            Current function value: 2164.952939956521\n",
      "            Iterations: 28\n",
      "            Function evaluations: 153\n",
      "            Gradient evaluations: 28\n"
     ]
    },
    {
     "data": {
      "text/html": [
       "<table class=\"simpletable\">\n",
       "<caption>Constant Mean - ARCH Model Results</caption>\n",
       "<tr>\n",
       "  <th>Dep. Variable:</th>          <td>Precio Cierre</td>         <th>  R-squared:         </th>  <td>   0.000</td> \n",
       "</tr>\n",
       "<tr>\n",
       "  <th>Mean Model:</th>             <td>Constant Mean</td>         <th>  Adj. R-squared:    </th>  <td>   0.000</td> \n",
       "</tr>\n",
       "<tr>\n",
       "  <th>Vol Model:</th>                  <td>ARCH</td>              <th>  Log-Likelihood:    </th> <td>  -2164.95</td>\n",
       "</tr>\n",
       "<tr>\n",
       "  <th>Distribution:</th>  <td>Generalized Error Distribution</td> <th>  AIC:               </th> <td>   4337.91</td>\n",
       "</tr>\n",
       "<tr>\n",
       "  <th>Method:</th>              <td>Maximum Likelihood</td>       <th>  BIC:               </th> <td>   4354.63</td>\n",
       "</tr>\n",
       "<tr>\n",
       "  <th></th>                              <td></td>                <th>  No. Observations:  </th>     <td>484</td>   \n",
       "</tr>\n",
       "<tr>\n",
       "  <th>Date:</th>                 <td>Thu, Nov 11 2021</td>        <th>  Df Residuals:      </th>     <td>483</td>   \n",
       "</tr>\n",
       "<tr>\n",
       "  <th>Time:</th>                     <td>17:22:27</td>            <th>  Df Model:          </th>      <td>1</td>    \n",
       "</tr>\n",
       "</table>\n",
       "<table class=\"simpletable\">\n",
       "<caption>Mean Model</caption>\n",
       "<tr>\n",
       "   <td></td>     <th>coef</th>     <th>std err</th>      <th>t</th>     <th>P>|t|</th>   <th>95.0% Conf. Int.</th>   \n",
       "</tr>\n",
       "<tr>\n",
       "  <th>mu</th> <td>  217.4351</td> <td>    1.812</td> <td>  119.976</td> <td>0.000</td> <td>[2.139e+02,2.210e+02]</td>\n",
       "</tr>\n",
       "</table>\n",
       "<table class=\"simpletable\">\n",
       "<caption>Volatility Model</caption>\n",
       "<tr>\n",
       "      <td></td>        <th>coef</th>     <th>std err</th>      <th>t</th>       <th>P>|t|</th>    <th>95.0% Conf. Int.</th>  \n",
       "</tr>\n",
       "<tr>\n",
       "  <th>omega</th>    <td>   78.2164</td> <td>   15.346</td> <td>    5.097</td> <td>3.456e-07</td> <td>[ 48.138,1.083e+02]</td>\n",
       "</tr>\n",
       "<tr>\n",
       "  <th>alpha[1]</th> <td>    0.5686</td> <td>4.017e-02</td> <td>   14.155</td> <td>1.734e-45</td>  <td>[  0.490,  0.647]</td> \n",
       "</tr>\n",
       "</table>\n",
       "<table class=\"simpletable\">\n",
       "<caption>Distribution</caption>\n",
       "<tr>\n",
       "   <td></td>     <th>coef</th>     <th>std err</th>      <th>t</th>       <th>P>|t|</th>   <th>95.0% Conf. Int.</th> \n",
       "</tr>\n",
       "<tr>\n",
       "  <th>nu</th> <td>    7.3839</td> <td>    1.422</td> <td>    5.193</td> <td>2.067e-07</td> <td>[  4.597, 10.171]</td>\n",
       "</tr>\n",
       "</table><br/><br/>Covariance estimator: robust"
      ],
      "text/plain": [
       "<class 'statsmodels.iolib.summary.Summary'>\n",
       "\"\"\"\n",
       "                            Constant Mean - ARCH Model Results                            \n",
       "==========================================================================================\n",
       "Dep. Variable:                      Precio Cierre   R-squared:                       0.000\n",
       "Mean Model:                         Constant Mean   Adj. R-squared:                  0.000\n",
       "Vol Model:                                   ARCH   Log-Likelihood:               -2164.95\n",
       "Distribution:      Generalized Error Distribution   AIC:                           4337.91\n",
       "Method:                        Maximum Likelihood   BIC:                           4354.63\n",
       "                                                    No. Observations:                  484\n",
       "Date:                            Thu, Nov 11 2021   Df Residuals:                      483\n",
       "Time:                                    17:22:27   Df Model:                            1\n",
       "                                 Mean Model                                 \n",
       "============================================================================\n",
       "                 coef    std err          t      P>|t|      95.0% Conf. Int.\n",
       "----------------------------------------------------------------------------\n",
       "mu           217.4351      1.812    119.976      0.000 [2.139e+02,2.210e+02]\n",
       "                             Volatility Model                             \n",
       "==========================================================================\n",
       "                 coef    std err          t      P>|t|    95.0% Conf. Int.\n",
       "--------------------------------------------------------------------------\n",
       "omega         78.2164     15.346      5.097  3.456e-07 [ 48.138,1.083e+02]\n",
       "alpha[1]       0.5686  4.017e-02     14.155  1.734e-45   [  0.490,  0.647]\n",
       "                              Distribution                              \n",
       "========================================================================\n",
       "                 coef    std err          t      P>|t|  95.0% Conf. Int.\n",
       "------------------------------------------------------------------------\n",
       "nu             7.3839      1.422      5.193  2.067e-07 [  4.597, 10.171]\n",
       "========================================================================\n",
       "\n",
       "Covariance estimator: robust\n",
       "\"\"\""
      ]
     },
     "execution_count": 20,
     "metadata": {},
     "output_type": "execute_result"
    }
   ],
   "source": [
    "model_arch_1 = arch_model(precios[\"Precio Cierre\"],rescale=True,\n",
    "                         mean=\"Constant\", vol = \"ARCH\", p = 1, dist = \"ged\") \n",
    "\n",
    "resultados = model_arch_1.fit(update_freq=5)\n",
    "resultados.summary()"
   ]
  },
  {
   "cell_type": "markdown",
   "id": "a5b5d020",
   "metadata": {},
   "source": [
    "### ARCH + Past values"
   ]
  },
  {
   "cell_type": "code",
   "execution_count": 21,
   "id": "43cbc3c2",
   "metadata": {},
   "outputs": [
    {
     "name": "stdout",
     "output_type": "stream",
     "text": [
      "Iteration:      5,   Func. Count:     30,   Neg. LLF: 2221.5188306032787\n",
      "Iteration:     10,   Func. Count:     56,   Neg. LLF: 2267.8931091420723\n",
      "Iteration:     15,   Func. Count:     85,   Neg. LLF: 2214.3848415621896\n",
      "Iteration:     20,   Func. Count:    109,   Neg. LLF: 2214.28489441065\n",
      "Optimization terminated successfully    (Exit mode 0)\n",
      "            Current function value: 2214.2848944107327\n",
      "            Iterations: 20\n",
      "            Function evaluations: 109\n",
      "            Gradient evaluations: 20\n"
     ]
    },
    {
     "data": {
      "text/html": [
       "<table class=\"simpletable\">\n",
       "<caption>Constant Mean - GARCH Model Results</caption>\n",
       "<tr>\n",
       "  <th>Dep. Variable:</th>    <td>Precio Cierre</td>   <th>  R-squared:         </th>  <td>   0.000</td> \n",
       "</tr>\n",
       "<tr>\n",
       "  <th>Mean Model:</th>       <td>Constant Mean</td>   <th>  Adj. R-squared:    </th>  <td>   0.000</td> \n",
       "</tr>\n",
       "<tr>\n",
       "  <th>Vol Model:</th>            <td>GARCH</td>       <th>  Log-Likelihood:    </th> <td>  -2214.28</td>\n",
       "</tr>\n",
       "<tr>\n",
       "  <th>Distribution:</th>        <td>Normal</td>       <th>  AIC:               </th> <td>   4436.57</td>\n",
       "</tr>\n",
       "<tr>\n",
       "  <th>Method:</th>        <td>Maximum Likelihood</td> <th>  BIC:               </th> <td>   4453.30</td>\n",
       "</tr>\n",
       "<tr>\n",
       "  <th></th>                        <td></td>          <th>  No. Observations:  </th>     <td>484</td>   \n",
       "</tr>\n",
       "<tr>\n",
       "  <th>Date:</th>           <td>Thu, Nov 11 2021</td>  <th>  Df Residuals:      </th>     <td>483</td>   \n",
       "</tr>\n",
       "<tr>\n",
       "  <th>Time:</th>               <td>17:25:44</td>      <th>  Df Model:          </th>      <td>1</td>    \n",
       "</tr>\n",
       "</table>\n",
       "<table class=\"simpletable\">\n",
       "<caption>Mean Model</caption>\n",
       "<tr>\n",
       "   <td></td>     <th>coef</th>     <th>std err</th>      <th>t</th>     <th>P>|t|</th>   <th>95.0% Conf. Int.</th>   \n",
       "</tr>\n",
       "<tr>\n",
       "  <th>mu</th> <td>  224.0082</td> <td>    2.812</td> <td>   79.667</td> <td>0.000</td> <td>[2.185e+02,2.295e+02]</td>\n",
       "</tr>\n",
       "</table>\n",
       "<table class=\"simpletable\">\n",
       "<caption>Volatility Model</caption>\n",
       "<tr>\n",
       "      <td></td>        <th>coef</th>     <th>std err</th>      <th>t</th>       <th>P>|t|</th>   <th>95.0% Conf. Int.</th> \n",
       "</tr>\n",
       "<tr>\n",
       "  <th>omega</th>    <td>   13.4205</td> <td>    4.848</td> <td>    2.768</td> <td>5.640e-03</td> <td>[  3.918, 22.923]</td>\n",
       "</tr>\n",
       "<tr>\n",
       "  <th>alpha[1]</th> <td>    0.7266</td> <td>7.082e-02</td> <td>   10.260</td> <td>1.068e-24</td> <td>[  0.588,  0.865]</td>\n",
       "</tr>\n",
       "<tr>\n",
       "  <th>beta[1]</th>  <td>    0.2711</td> <td>7.151e-02</td> <td>    3.791</td> <td>1.503e-04</td> <td>[  0.131,  0.411]</td>\n",
       "</tr>\n",
       "</table><br/><br/>Covariance estimator: robust"
      ],
      "text/plain": [
       "<class 'statsmodels.iolib.summary.Summary'>\n",
       "\"\"\"\n",
       "                     Constant Mean - GARCH Model Results                      \n",
       "==============================================================================\n",
       "Dep. Variable:          Precio Cierre   R-squared:                       0.000\n",
       "Mean Model:             Constant Mean   Adj. R-squared:                  0.000\n",
       "Vol Model:                      GARCH   Log-Likelihood:               -2214.28\n",
       "Distribution:                  Normal   AIC:                           4436.57\n",
       "Method:            Maximum Likelihood   BIC:                           4453.30\n",
       "                                        No. Observations:                  484\n",
       "Date:                Thu, Nov 11 2021   Df Residuals:                      483\n",
       "Time:                        17:25:44   Df Model:                            1\n",
       "                                 Mean Model                                 \n",
       "============================================================================\n",
       "                 coef    std err          t      P>|t|      95.0% Conf. Int.\n",
       "----------------------------------------------------------------------------\n",
       "mu           224.0082      2.812     79.667      0.000 [2.185e+02,2.295e+02]\n",
       "                            Volatility Model                            \n",
       "========================================================================\n",
       "                 coef    std err          t      P>|t|  95.0% Conf. Int.\n",
       "------------------------------------------------------------------------\n",
       "omega         13.4205      4.848      2.768  5.640e-03 [  3.918, 22.923]\n",
       "alpha[1]       0.7266  7.082e-02     10.260  1.068e-24 [  0.588,  0.865]\n",
       "beta[1]        0.2711  7.151e-02      3.791  1.503e-04 [  0.131,  0.411]\n",
       "========================================================================\n",
       "\n",
       "Covariance estimator: robust\n",
       "\"\"\""
      ]
     },
     "execution_count": 21,
     "metadata": {},
     "output_type": "execute_result"
    }
   ],
   "source": [
    "model_garch_1_1 = arch_model(precios[\"Precio Cierre\"],rescale=True,\n",
    "                         mean=\"Constant\", vol = \"GARCH\", p = 1, q = 1)\n",
    "resultados_garch_1_1 = model_garch_1_1.fit(update_freq=5)\n",
    "resultados_garch_1_1.summary()"
   ]
  },
  {
   "cell_type": "markdown",
   "id": "8ce8a210",
   "metadata": {},
   "source": [
    "### Representación Gráfica"
   ]
  },
  {
   "cell_type": "code",
   "execution_count": 26,
   "id": "dff3981d",
   "metadata": {},
   "outputs": [
    {
     "data": {
      "image/png": "[encoded data removed]",
      "text/plain": [
       "<Figure size 720x288 with 1 Axes>"
      ]
     },
     "metadata": {
      "needs_background": "light"
     },
     "output_type": "display_data"
    }
   ],
   "source": [
    "especie = precios[\"Precio Cierre\"]\n",
    "\n",
    "returns = 100 * especie.pct_change().dropna()\n",
    "\n",
    "plt.figure(figsize=(10,4))\n",
    "plt.plot(returns)\n",
    "plt.ylabel(\"Porcentaje de rendimientos\")\n",
    "plt.title(\"Cambio porcentual del precio de ECOPETL\");"
   ]
  },
  {
   "cell_type": "markdown",
   "id": "5b994795",
   "metadata": {},
   "source": [
    "## PACF"
   ]
  },
  {
   "cell_type": "code",
   "execution_count": 32,
   "id": "ed94514f",
   "metadata": {},
   "outputs": [
    {
     "data": {
      "image/png": "[encoded data removed]",
      "text/plain": [
       "<Figure size 432x288 with 1 Axes>"
      ]
     },
     "metadata": {
      "needs_background": "light"
     },
     "output_type": "display_data"
    }
   ],
   "source": [
    "plot_pacf(returns**2)\n",
    "plt.show()"
   ]
  },
  {
   "cell_type": "code",
   "execution_count": 47,
   "id": "a90387f3",
   "metadata": {},
   "outputs": [
    {
     "name": "stdout",
     "output_type": "stream",
     "text": [
      "Iteration:      5,   Func. Count:     37,   Neg. LLF: 2841.054009481722\n",
      "Iteration:     10,   Func. Count:     71,   Neg. LLF: 1079.4738456525688\n",
      "Optimization terminated successfully    (Exit mode 0)\n",
      "            Current function value: 1079.4735856135117\n",
      "            Iterations: 13\n",
      "            Function evaluations: 89\n",
      "            Gradient evaluations: 13\n"
     ]
    },
    {
     "data": {
      "text/html": [
       "<table class=\"simpletable\">\n",
       "<caption>Constant Mean - ARCH Model Results</caption>\n",
       "<tr>\n",
       "  <th>Dep. Variable:</th>    <td>Precio Cierre</td>   <th>  R-squared:         </th>  <td>   0.000</td> \n",
       "</tr>\n",
       "<tr>\n",
       "  <th>Mean Model:</th>       <td>Constant Mean</td>   <th>  Adj. R-squared:    </th>  <td>   0.000</td> \n",
       "</tr>\n",
       "<tr>\n",
       "  <th>Vol Model:</th>            <td>ARCH</td>        <th>  Log-Likelihood:    </th> <td>  -1079.47</td>\n",
       "</tr>\n",
       "<tr>\n",
       "  <th>Distribution:</th>        <td>Normal</td>       <th>  AIC:               </th> <td>   2168.95</td>\n",
       "</tr>\n",
       "<tr>\n",
       "  <th>Method:</th>        <td>Maximum Likelihood</td> <th>  BIC:               </th> <td>   2189.85</td>\n",
       "</tr>\n",
       "<tr>\n",
       "  <th></th>                        <td></td>          <th>  No. Observations:  </th>     <td>483</td>   \n",
       "</tr>\n",
       "<tr>\n",
       "  <th>Date:</th>           <td>Thu, Nov 11 2021</td>  <th>  Df Residuals:      </th>     <td>482</td>   \n",
       "</tr>\n",
       "<tr>\n",
       "  <th>Time:</th>               <td>18:00:44</td>      <th>  Df Model:          </th>      <td>1</td>    \n",
       "</tr>\n",
       "</table>\n",
       "<table class=\"simpletable\">\n",
       "<caption>Mean Model</caption>\n",
       "<tr>\n",
       "   <td></td>     <th>coef</th>     <th>std err</th>      <th>t</th>       <th>P>|t|</th>     <th>95.0% Conf. Int.</th>  \n",
       "</tr>\n",
       "<tr>\n",
       "  <th>mu</th> <td>    0.1102</td> <td>8.558e-02</td> <td>    1.288</td> <td>    0.198</td> <td>[-5.754e-02,  0.278]</td>\n",
       "</tr>\n",
       "</table>\n",
       "<table class=\"simpletable\">\n",
       "<caption>Volatility Model</caption>\n",
       "<tr>\n",
       "      <td></td>        <th>coef</th>     <th>std err</th>      <th>t</th>       <th>P>|t|</th>     <th>95.0% Conf. Int.</th>  \n",
       "</tr>\n",
       "<tr>\n",
       "  <th>omega</th>    <td>    2.0865</td> <td>    0.410</td> <td>    5.093</td> <td>3.518e-07</td>   <td>[  1.284,  2.889]</td> \n",
       "</tr>\n",
       "<tr>\n",
       "  <th>alpha[1]</th> <td>    0.3103</td> <td>    0.171</td> <td>    1.813</td> <td>6.976e-02</td> <td>[-2.507e-02,  0.646]</td>\n",
       "</tr>\n",
       "<tr>\n",
       "  <th>alpha[2]</th> <td>    0.2198</td> <td>8.876e-02</td> <td>    2.476</td> <td>1.327e-02</td>  <td>[4.583e-02,  0.394]</td>\n",
       "</tr>\n",
       "<tr>\n",
       "  <th>alpha[3]</th> <td>    0.2709</td> <td>    0.117</td> <td>    2.312</td> <td>2.077e-02</td>  <td>[4.126e-02,  0.501]</td>\n",
       "</tr>\n",
       "</table><br/><br/>Covariance estimator: robust"
      ],
      "text/plain": [
       "<class 'statsmodels.iolib.summary.Summary'>\n",
       "\"\"\"\n",
       "                      Constant Mean - ARCH Model Results                      \n",
       "==============================================================================\n",
       "Dep. Variable:          Precio Cierre   R-squared:                       0.000\n",
       "Mean Model:             Constant Mean   Adj. R-squared:                  0.000\n",
       "Vol Model:                       ARCH   Log-Likelihood:               -1079.47\n",
       "Distribution:                  Normal   AIC:                           2168.95\n",
       "Method:            Maximum Likelihood   BIC:                           2189.85\n",
       "                                        No. Observations:                  483\n",
       "Date:                Thu, Nov 11 2021   Df Residuals:                      482\n",
       "Time:                        18:00:44   Df Model:                            1\n",
       "                                 Mean Model                                \n",
       "===========================================================================\n",
       "                 coef    std err          t      P>|t|     95.0% Conf. Int.\n",
       "---------------------------------------------------------------------------\n",
       "mu             0.1102  8.558e-02      1.288      0.198 [-5.754e-02,  0.278]\n",
       "                              Volatility Model                             \n",
       "===========================================================================\n",
       "                 coef    std err          t      P>|t|     95.0% Conf. Int.\n",
       "---------------------------------------------------------------------------\n",
       "omega          2.0865      0.410      5.093  3.518e-07    [  1.284,  2.889]\n",
       "alpha[1]       0.3103      0.171      1.813  6.976e-02 [-2.507e-02,  0.646]\n",
       "alpha[2]       0.2198  8.876e-02      2.476  1.327e-02  [4.583e-02,  0.394]\n",
       "alpha[3]       0.2709      0.117      2.312  2.077e-02  [4.126e-02,  0.501]\n",
       "===========================================================================\n",
       "\n",
       "Covariance estimator: robust\n",
       "\"\"\""
      ]
     },
     "execution_count": 47,
     "metadata": {},
     "output_type": "execute_result"
    }
   ],
   "source": [
    "model = arch_model(returns, p=3, q=0)\n",
    "model_fit = model.fit(update_freq=5)\n",
    "model_fit.summary()"
   ]
  },
  {
   "cell_type": "code",
   "execution_count": 34,
   "id": "4c008f77",
   "metadata": {},
   "outputs": [],
   "source": [
    "rolling_predictions = []\n",
    "test_size = 365\n",
    "\n",
    "for i in range(test_size):\n",
    "    train = returns[:-(test_size-i)]\n",
    "    model = arch_model(train, p=3, q=0)\n",
    "    model_fit = model.fit(disp=\"off\")\n",
    "    pred = model_fit.forecast(horizon=1)\n",
    "    rolling_predictions.append(np.sqrt(pred.variance.values[-1,:][0]))"
   ]
  },
  {
   "cell_type": "code",
   "execution_count": 37,
   "id": "dbceb1a6",
   "metadata": {},
   "outputs": [
    {
     "data": {
      "text/plain": [
       "DatetimeIndex(['2019-11-13', '2019-11-14', '2019-11-15', '2019-11-18',\n",
       "               '2019-11-19', '2019-11-20', '2019-11-21', '2019-11-22',\n",
       "               '2019-11-25', '2019-11-26',\n",
       "               ...\n",
       "               '2021-10-22', '2021-10-25', '2021-10-26', '2021-10-27',\n",
       "               '2021-10-28', '2021-10-29', '2021-11-02', '2021-11-03',\n",
       "               '2021-11-04', '2021-11-05'],\n",
       "              dtype='datetime64[ns]', name='fecha', length=483, freq=None)"
      ]
     },
     "execution_count": 37,
     "metadata": {},
     "output_type": "execute_result"
    }
   ],
   "source": [
    "returns.index"
   ]
  },
  {
   "cell_type": "code",
   "execution_count": 38,
   "id": "2830dcac",
   "metadata": {},
   "outputs": [],
   "source": [
    "rolling_predictions = pd.Series(rolling_predictions, index=returns.index[-365:])"
   ]
  },
  {
   "cell_type": "code",
   "execution_count": 39,
   "id": "ee78dd0f",
   "metadata": {
    "collapsed": true
   },
   "outputs": [
    {
     "data": {
      "text/plain": [
       "fecha\n",
       "2020-05-07    3.693940\n",
       "2020-05-08    1.731717\n",
       "2020-05-12    2.440494\n",
       "2020-05-13    2.627564\n",
       "2020-05-14    3.362182\n",
       "                ...   \n",
       "2021-10-29    1.956838\n",
       "2021-11-02    2.097847\n",
       "2021-11-03    1.676244\n",
       "2021-11-04    1.792355\n",
       "2021-11-05    1.606378\n",
       "Length: 365, dtype: float64"
      ]
     },
     "execution_count": 39,
     "metadata": {},
     "output_type": "execute_result"
    }
   ],
   "source": [
    "rolling_predictions"
   ]
  },
  {
   "cell_type": "code",
   "execution_count": 45,
   "id": "39bd4023",
   "metadata": {},
   "outputs": [
    {
     "data": {
      "image/png": "[encoded data removed]",
      "text/plain": [
       "<Figure size 720x288 with 1 Axes>"
      ]
     },
     "metadata": {
      "needs_background": "light"
     },
     "output_type": "display_data"
    }
   ],
   "source": [
    "plt.figure(figsize=(10,4))\n",
    "true = plt.plot(returns[-356:])\n",
    "preds = plt.plot(rolling_predictions)\n",
    "plt.title(\"Volatilidad predicha vs Rendimientos reales\", fontsize = 20)\n",
    "plt.legend([\"Variación % de rendimientos\", \"Volatilidad predicha\"]);"
   ]
  },
  {
   "cell_type": "code",
   "execution_count": 44,
   "id": "3a06e2df",
   "metadata": {},
   "outputs": [
    {
     "data": {
      "text/plain": [
       "2.1"
      ]
     },
     "execution_count": 44,
     "metadata": {},
     "output_type": "execute_result"
    }
   ],
   "source": [
    "promedio =round(model_fit.params.omega,2)\n",
    "promedio"
   ]
  }
 ],
 "metadata": {
  "kernelspec": {
   "display_name": "Python 3",
   "language": "python",
   "name": "python3"
  },
  "language_info": {
   "codemirror_mode": {
    "name": "ipython",
    "version": 3
   },
   "file_extension": ".py",
   "mimetype": "text/x-python",
   "name": "python",
   "nbconvert_exporter": "python",
   "pygments_lexer": "ipython3",
   "version": "3.8.5"
  }
 },
 "nbformat": 4,
 "nbformat_minor": 5
}
