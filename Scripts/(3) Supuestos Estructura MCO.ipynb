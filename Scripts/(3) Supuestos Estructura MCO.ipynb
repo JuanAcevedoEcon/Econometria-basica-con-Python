{
  "cells": [
    {
      "cell_type": "markdown",
      "metadata": {
        "id": "k-tHqb2K3bcj"
      },
      "source": [
        "## Supuestos estructurales del Modelo Clásico de Regresión Lineal (MCRL)"
      ]
    },
    {
      "cell_type": "code",
      "execution_count": null,
      "metadata": {
        "id": "-WPvqhxj3bct"
      },
      "outputs": [],
      "source": [
        "import ____ as np\n",
        "import ______ as pd\n",
        "import statsmodels.api as sm\n",
        "import matplotlib.pyplot as plt\n",
        "import seaborn as sns\n",
        "import statsmodels.stats.api as sms"
      ]
    },
    {
      "cell_type": "code",
      "execution_count": null,
      "metadata": {
        "id": "rxDJalza3bcw"
      },
      "outputs": [],
      "source": [
        "data=pd.read_csv(\"\", delimiter=\"\\t\")"
      ]
    },
    {
      "cell_type": "code",
      "execution_count": null,
      "metadata": {
        "scrolled": true,
        "id": "Nsy37JHd3bcx"
      },
      "outputs": [],
      "source": [
        "sns.regplot(________,_________);"
      ]
    },
    {
      "cell_type": "markdown",
      "metadata": {
        "id": "xfX_KJXg3bcy"
      },
      "source": [
        "**Supuesto #6: Observaciones mayores a parámetros**"
      ]
    },
    {
      "cell_type": "code",
      "execution_count": null,
      "metadata": {
        "id": "A3ddXar_3bcz"
      },
      "outputs": [],
      "source": [
        "data._______"
      ]
    },
    {
      "cell_type": "code",
      "execution_count": null,
      "metadata": {
        "id": "ENVEnWY-3bc0"
      },
      "outputs": [],
      "source": [
        "modelo_prueba=sm.______(_________)\n",
        "resultado_prueba="
      ]
    },
    {
      "cell_type": "markdown",
      "metadata": {
        "id": "FV8dZAV43bc2"
      },
      "source": [
        "**Supuesto #7: Variabilidad en las variables**"
      ]
    },
    {
      "cell_type": "code",
      "execution_count": null,
      "metadata": {
        "id": "N0aI1eEn3bc3"
      },
      "outputs": [],
      "source": [
        "sm.add_constant(_______)._______(np.____,_______)"
      ]
    },
    {
      "cell_type": "code",
      "execution_count": null,
      "metadata": {
        "id": "9QfMf3xy3bc6"
      },
      "outputs": [],
      "source": [
        "pd._________(___________,columns=_____________)"
      ]
    },
    {
      "cell_type": "markdown",
      "metadata": {
        "id": "GNH4KvWM3bc8"
      },
      "source": [
        "**Supuesto #8: Multicolinealidad**"
      ]
    },
    {
      "cell_type": "code",
      "execution_count": null,
      "metadata": {
        "id": "rQkjoDxd3bc9"
      },
      "outputs": [],
      "source": [
        "data._______"
      ]
    },
    {
      "cell_type": "code",
      "execution_count": null,
      "metadata": {
        "id": "VoQeWEyQ3bc-"
      },
      "outputs": [],
      "source": [
        "correlaciones=data.________\n",
        "fig,ax=plt.subplots()\n",
        "sns._________(correlaciones)\n",
        "plt.show()"
      ]
    },
    {
      "cell_type": "code",
      "execution_count": null,
      "metadata": {
        "scrolled": true,
        "id": "UYHyJM1A3bc_"
      },
      "outputs": [],
      "source": [
        "correlaciones=data[_________].corr()\n",
        "fig,ax=plt.subplots()\n",
        "sns._________(correlaciones,__________,_________)\n",
        "plt.show()"
      ]
    },
    {
      "cell_type": "code",
      "execution_count": null,
      "metadata": {
        "id": "uWRqIBGG3bdA"
      },
      "outputs": [],
      "source": [
        "from statsmodels.stats.outliers_influence import variance_inflation_factor\n",
        "\n",
        "# VIF dataframe\n",
        "vif_data = pd._________\n",
        "vif_data[\"Nombre\"] = data.________\n",
        "  \n",
        "# calculating VIF for each feature\n",
        "vif_data[\"VIF\"] = [_____________(data.values, i)\n",
        "                          for i in range(len(data.columns))]\n",
        "print(vif_data)"
      ]
    },
    {
      "cell_type": "markdown",
      "metadata": {
        "id": "pqztlblr3bdB"
      },
      "source": [
        "**Supuesto de no sesgo de especificación**"
      ]
    },
    {
      "cell_type": "code",
      "execution_count": null,
      "metadata": {
        "id": "Am5Uh8vl3bdB"
      },
      "outputs": [],
      "source": [
        "modelo1=sm.OLS(_______,___________)\n",
        "resultados1=\n",
        "print()"
      ]
    },
    {
      "cell_type": "code",
      "execution_count": null,
      "metadata": {
        "id": "YbU7Wdae3bdC"
      },
      "outputs": [],
      "source": [
        "valores_estimados=resultados1.___________\n",
        "residuos = "
      ]
    },
    {
      "cell_type": "code",
      "execution_count": null,
      "metadata": {
        "id": "f78uhTJN3bdD"
      },
      "outputs": [],
      "source": [
        "# Prueba CUSUM para medir cambio estructural \n",
        "# (para probar si los coeficientes en un modelo son constantes)\n",
        "\n",
        "resultados_CUSUM = sms._____________(___________)\n",
        "print(_________________)"
      ]
    },
    {
      "cell_type": "code",
      "execution_count": null,
      "metadata": {
        "id": "S0g6WBJ73bdD"
      },
      "outputs": [],
      "source": [
        "# Para evaluar si la forma funcional es la correcta se utiliza el test de RESET de Ramsey\n",
        "\n",
        "resultados_RESET = sms._________(__________)\n",
        "estadistico = _____________.___________\n",
        "p_valor = ___________.________\n",
        "\n",
        "nombres = [\"Estadístico\",\"p-valor\"]\n",
        "pd.DataFrame([_________,_________], index = __________, columns = [________])"
      ]
    },
    {
      "cell_type": "markdown",
      "metadata": {
        "id": "TmsGhkls3bdE"
      },
      "source": [
        "## Ejercicio\n",
        "\n",
        "Realice un modelo de regresión lineal con la base de datos Ingreso_Ahorro; adicionalmente, verifique el cumplimiento de los supuesto vistos en clase.\n",
        "\n",
        "Este archivo de datos contiene información sobre 26 automóviles, a saber, su marca, precio, millas por galón, calificación de reparación (en 1978), peso en libras, longitud en pulgadas y si el automóvil era extranjero o nacional. Aquí está el archivo de datos."
      ]
    },
    {
      "cell_type": "code",
      "execution_count": null,
      "metadata": {
        "id": "2dgo7n1S3bdF"
      },
      "outputs": [],
      "source": [
        "datos_ejercicio=pd.read_csv(\"regression_auto.csv\")"
      ]
    },
    {
      "cell_type": "code",
      "execution_count": null,
      "metadata": {
        "id": "lxKmVUtX3bdF"
      },
      "outputs": [],
      "source": [
        "sns._____________(x=\"_______\", y=\"________\", data=___________)"
      ]
    },
    {
      "cell_type": "code",
      "execution_count": null,
      "metadata": {
        "id": "xZNiQx4A3bdG"
      },
      "outputs": [],
      "source": [
        "sns.__________(x=\"_______\", y=\"________\", hue=\"_______\", kind=\"_________\", data=___________)"
      ]
    },
    {
      "cell_type": "markdown",
      "metadata": {
        "id": "DHuEfU9_3bdH"
      },
      "source": [
        "### Modificación de bases de datos"
      ]
    },
    {
      "cell_type": "code",
      "execution_count": null,
      "metadata": {
        "id": "0xxl1UfI3bdH"
      },
      "outputs": [],
      "source": [
        "datos_modificados = ___________.loc[(___________________) & (_________________)]"
      ]
    }
  ],
  "metadata": {
    "kernelspec": {
      "display_name": "Python 2",
      "language": "python",
      "name": "python2"
    },
    "language_info": {
      "codemirror_mode": {
        "name": "ipython",
        "version": 2
      },
      "file_extension": ".py",
      "mimetype": "text/x-python",
      "name": "python",
      "nbconvert_exporter": "python",
      "pygments_lexer": "ipython2",
      "version": "2.7.15"
    },
    "colab": {
      "name": "(3) Supuestos Estructura MCO.ipynb",
      "provenance": []
    }
  },
  "nbformat": 4,
  "nbformat_minor": 0
}