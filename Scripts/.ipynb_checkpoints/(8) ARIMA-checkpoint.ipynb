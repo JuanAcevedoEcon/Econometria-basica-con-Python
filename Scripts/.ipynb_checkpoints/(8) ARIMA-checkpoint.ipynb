{
 "cells": [
  {
   "cell_type": "code",
   "execution_count": 1,
   "metadata": {},
   "outputs": [],
   "source": [
    "import pandas as pd\n",
    "import numpy as np\n",
    "import statsmodels.api as sm\n",
    "import matplotlib.pyplot as plt "
   ]
  },
  {
   "cell_type": "code",
   "execution_count": 2,
   "metadata": {},
   "outputs": [],
   "source": [
    "data= pd.read_csv(\"C:/Users/57317/Desktop/Universidad Nacional/Programación/Python/Curso Econometría básica con Python/Bases de datos/Gujarati223.csv\")"
   ]
  },
  {
   "cell_type": "code",
   "execution_count": 3,
   "metadata": {},
   "outputs": [
    {
     "data": {
      "text/html": [
       "<div>\n",
       "<style scoped>\n",
       "    .dataframe tbody tr th:only-of-type {\n",
       "        vertical-align: middle;\n",
       "    }\n",
       "\n",
       "    .dataframe tbody tr th {\n",
       "        vertical-align: top;\n",
       "    }\n",
       "\n",
       "    .dataframe thead th {\n",
       "        text-align: right;\n",
       "    }\n",
       "</style>\n",
       "<table border=\"1\" class=\"dataframe\">\n",
       "  <thead>\n",
       "    <tr style=\"text-align: right;\">\n",
       "      <th></th>\n",
       "      <th>DATE</th>\n",
       "      <th>GDPC1</th>\n",
       "    </tr>\n",
       "  </thead>\n",
       "  <tbody>\n",
       "    <tr>\n",
       "      <th>0</th>\n",
       "      <td>1947-04-01</td>\n",
       "      <td>2027.639</td>\n",
       "    </tr>\n",
       "    <tr>\n",
       "      <th>1</th>\n",
       "      <td>1947-07-01</td>\n",
       "      <td>2023.452</td>\n",
       "    </tr>\n",
       "    <tr>\n",
       "      <th>2</th>\n",
       "      <td>1947-10-01</td>\n",
       "      <td>2055.103</td>\n",
       "    </tr>\n",
       "    <tr>\n",
       "      <th>3</th>\n",
       "      <td>1948-01-01</td>\n",
       "      <td>2086.017</td>\n",
       "    </tr>\n",
       "    <tr>\n",
       "      <th>4</th>\n",
       "      <td>1948-04-01</td>\n",
       "      <td>2120.450</td>\n",
       "    </tr>\n",
       "  </tbody>\n",
       "</table>\n",
       "</div>"
      ],
      "text/plain": [
       "         DATE     GDPC1\n",
       "0  1947-04-01  2027.639\n",
       "1  1947-07-01  2023.452\n",
       "2  1947-10-01  2055.103\n",
       "3  1948-01-01  2086.017\n",
       "4  1948-04-01  2120.450"
      ]
     },
     "execution_count": 3,
     "metadata": {},
     "output_type": "execute_result"
    }
   ],
   "source": [
    "data.head()"
   ]
  },
  {
   "cell_type": "code",
   "execution_count": 4,
   "metadata": {},
   "outputs": [],
   "source": [
    "data = data.rename(columns= {\"DATE\":\"FECHA\",\"GDPC1\": \"PIB\"})"
   ]
  },
  {
   "cell_type": "code",
   "execution_count": 5,
   "metadata": {},
   "outputs": [
    {
     "data": {
      "text/html": [
       "<div>\n",
       "<style scoped>\n",
       "    .dataframe tbody tr th:only-of-type {\n",
       "        vertical-align: middle;\n",
       "    }\n",
       "\n",
       "    .dataframe tbody tr th {\n",
       "        vertical-align: top;\n",
       "    }\n",
       "\n",
       "    .dataframe thead th {\n",
       "        text-align: right;\n",
       "    }\n",
       "</style>\n",
       "<table border=\"1\" class=\"dataframe\">\n",
       "  <thead>\n",
       "    <tr style=\"text-align: right;\">\n",
       "      <th></th>\n",
       "      <th>FECHA</th>\n",
       "      <th>PIB</th>\n",
       "    </tr>\n",
       "  </thead>\n",
       "  <tbody>\n",
       "    <tr>\n",
       "      <th>0</th>\n",
       "      <td>1947-04-01</td>\n",
       "      <td>2027.639</td>\n",
       "    </tr>\n",
       "    <tr>\n",
       "      <th>1</th>\n",
       "      <td>1947-07-01</td>\n",
       "      <td>2023.452</td>\n",
       "    </tr>\n",
       "    <tr>\n",
       "      <th>2</th>\n",
       "      <td>1947-10-01</td>\n",
       "      <td>2055.103</td>\n",
       "    </tr>\n",
       "    <tr>\n",
       "      <th>3</th>\n",
       "      <td>1948-01-01</td>\n",
       "      <td>2086.017</td>\n",
       "    </tr>\n",
       "    <tr>\n",
       "      <th>4</th>\n",
       "      <td>1948-04-01</td>\n",
       "      <td>2120.450</td>\n",
       "    </tr>\n",
       "  </tbody>\n",
       "</table>\n",
       "</div>"
      ],
      "text/plain": [
       "        FECHA       PIB\n",
       "0  1947-04-01  2027.639\n",
       "1  1947-07-01  2023.452\n",
       "2  1947-10-01  2055.103\n",
       "3  1948-01-01  2086.017\n",
       "4  1948-04-01  2120.450"
      ]
     },
     "execution_count": 5,
     "metadata": {},
     "output_type": "execute_result"
    }
   ],
   "source": [
    "data.head()"
   ]
  },
  {
   "cell_type": "code",
   "execution_count": 6,
   "metadata": {},
   "outputs": [
    {
     "data": {
      "text/plain": [
       "(244, 2)"
      ]
     },
     "execution_count": 6,
     "metadata": {},
     "output_type": "execute_result"
    }
   ],
   "source": [
    "data.shape"
   ]
  },
  {
   "cell_type": "code",
   "execution_count": 7,
   "metadata": {},
   "outputs": [],
   "source": [
    "data[\"LPIB\"] = np.log(data[\"PIB\"])"
   ]
  },
  {
   "cell_type": "code",
   "execution_count": 8,
   "metadata": {},
   "outputs": [
    {
     "data": {
      "text/html": [
       "<div>\n",
       "<style scoped>\n",
       "    .dataframe tbody tr th:only-of-type {\n",
       "        vertical-align: middle;\n",
       "    }\n",
       "\n",
       "    .dataframe tbody tr th {\n",
       "        vertical-align: top;\n",
       "    }\n",
       "\n",
       "    .dataframe thead th {\n",
       "        text-align: right;\n",
       "    }\n",
       "</style>\n",
       "<table border=\"1\" class=\"dataframe\">\n",
       "  <thead>\n",
       "    <tr style=\"text-align: right;\">\n",
       "      <th></th>\n",
       "      <th>FECHA</th>\n",
       "      <th>PIB</th>\n",
       "      <th>LPIB</th>\n",
       "    </tr>\n",
       "  </thead>\n",
       "  <tbody>\n",
       "    <tr>\n",
       "      <th>0</th>\n",
       "      <td>1947-04-01</td>\n",
       "      <td>2027.639</td>\n",
       "      <td>7.614627</td>\n",
       "    </tr>\n",
       "    <tr>\n",
       "      <th>1</th>\n",
       "      <td>1947-07-01</td>\n",
       "      <td>2023.452</td>\n",
       "      <td>7.612560</td>\n",
       "    </tr>\n",
       "    <tr>\n",
       "      <th>2</th>\n",
       "      <td>1947-10-01</td>\n",
       "      <td>2055.103</td>\n",
       "      <td>7.628081</td>\n",
       "    </tr>\n",
       "    <tr>\n",
       "      <th>3</th>\n",
       "      <td>1948-01-01</td>\n",
       "      <td>2086.017</td>\n",
       "      <td>7.643012</td>\n",
       "    </tr>\n",
       "    <tr>\n",
       "      <th>4</th>\n",
       "      <td>1948-04-01</td>\n",
       "      <td>2120.450</td>\n",
       "      <td>7.659384</td>\n",
       "    </tr>\n",
       "  </tbody>\n",
       "</table>\n",
       "</div>"
      ],
      "text/plain": [
       "        FECHA       PIB      LPIB\n",
       "0  1947-04-01  2027.639  7.614627\n",
       "1  1947-07-01  2023.452  7.612560\n",
       "2  1947-10-01  2055.103  7.628081\n",
       "3  1948-01-01  2086.017  7.643012\n",
       "4  1948-04-01  2120.450  7.659384"
      ]
     },
     "execution_count": 8,
     "metadata": {},
     "output_type": "execute_result"
    }
   ],
   "source": [
    "data.head()"
   ]
  },
  {
   "cell_type": "code",
   "execution_count": 11,
   "metadata": {},
   "outputs": [
    {
     "data": {
      "text/plain": [
       "FECHA     object\n",
       "PIB      float64\n",
       "LPIB     float64\n",
       "dtype: object"
      ]
     },
     "execution_count": 11,
     "metadata": {},
     "output_type": "execute_result"
    }
   ],
   "source": [
    "data.dtypes"
   ]
  },
  {
   "cell_type": "code",
   "execution_count": 12,
   "metadata": {},
   "outputs": [],
   "source": [
    "data[\"VariableTemporal\"] = sm.tsa.datetools.dates_from_str(data[\"FECHA\"])"
   ]
  },
  {
   "cell_type": "code",
   "execution_count": 13,
   "metadata": {},
   "outputs": [
    {
     "data": {
      "text/html": [
       "<div>\n",
       "<style scoped>\n",
       "    .dataframe tbody tr th:only-of-type {\n",
       "        vertical-align: middle;\n",
       "    }\n",
       "\n",
       "    .dataframe tbody tr th {\n",
       "        vertical-align: top;\n",
       "    }\n",
       "\n",
       "    .dataframe thead th {\n",
       "        text-align: right;\n",
       "    }\n",
       "</style>\n",
       "<table border=\"1\" class=\"dataframe\">\n",
       "  <thead>\n",
       "    <tr style=\"text-align: right;\">\n",
       "      <th></th>\n",
       "      <th>FECHA</th>\n",
       "      <th>PIB</th>\n",
       "      <th>LPIB</th>\n",
       "      <th>VariableTemporal</th>\n",
       "    </tr>\n",
       "  </thead>\n",
       "  <tbody>\n",
       "    <tr>\n",
       "      <th>0</th>\n",
       "      <td>1947-04-01</td>\n",
       "      <td>2027.639</td>\n",
       "      <td>7.614627</td>\n",
       "      <td>1947-04-01</td>\n",
       "    </tr>\n",
       "    <tr>\n",
       "      <th>1</th>\n",
       "      <td>1947-07-01</td>\n",
       "      <td>2023.452</td>\n",
       "      <td>7.612560</td>\n",
       "      <td>1947-07-01</td>\n",
       "    </tr>\n",
       "    <tr>\n",
       "      <th>2</th>\n",
       "      <td>1947-10-01</td>\n",
       "      <td>2055.103</td>\n",
       "      <td>7.628081</td>\n",
       "      <td>1947-10-01</td>\n",
       "    </tr>\n",
       "    <tr>\n",
       "      <th>3</th>\n",
       "      <td>1948-01-01</td>\n",
       "      <td>2086.017</td>\n",
       "      <td>7.643012</td>\n",
       "      <td>1948-01-01</td>\n",
       "    </tr>\n",
       "    <tr>\n",
       "      <th>4</th>\n",
       "      <td>1948-04-01</td>\n",
       "      <td>2120.450</td>\n",
       "      <td>7.659384</td>\n",
       "      <td>1948-04-01</td>\n",
       "    </tr>\n",
       "  </tbody>\n",
       "</table>\n",
       "</div>"
      ],
      "text/plain": [
       "        FECHA       PIB      LPIB VariableTemporal\n",
       "0  1947-04-01  2027.639  7.614627       1947-04-01\n",
       "1  1947-07-01  2023.452  7.612560       1947-07-01\n",
       "2  1947-10-01  2055.103  7.628081       1947-10-01\n",
       "3  1948-01-01  2086.017  7.643012       1948-01-01\n",
       "4  1948-04-01  2120.450  7.659384       1948-04-01"
      ]
     },
     "execution_count": 13,
     "metadata": {},
     "output_type": "execute_result"
    }
   ],
   "source": [
    "data.head()"
   ]
  },
  {
   "cell_type": "code",
   "execution_count": 14,
   "metadata": {},
   "outputs": [
    {
     "data": {
      "text/plain": [
       "FECHA                       object\n",
       "PIB                        float64\n",
       "LPIB                       float64\n",
       "VariableTemporal    datetime64[ns]\n",
       "dtype: object"
      ]
     },
     "execution_count": 14,
     "metadata": {},
     "output_type": "execute_result"
    }
   ],
   "source": [
    "data.dtypes"
   ]
  },
  {
   "cell_type": "code",
   "execution_count": 19,
   "metadata": {},
   "outputs": [],
   "source": [
    "data[\"TemporalAlternativa\"] = sm.tsa.datetools.dates_from_range(start = \"1947q1\", end = \"2007q4\")"
   ]
  },
  {
   "cell_type": "code",
   "execution_count": 17,
   "metadata": {},
   "outputs": [
    {
     "data": {
      "text/html": [
       "<div>\n",
       "<style scoped>\n",
       "    .dataframe tbody tr th:only-of-type {\n",
       "        vertical-align: middle;\n",
       "    }\n",
       "\n",
       "    .dataframe tbody tr th {\n",
       "        vertical-align: top;\n",
       "    }\n",
       "\n",
       "    .dataframe thead th {\n",
       "        text-align: right;\n",
       "    }\n",
       "</style>\n",
       "<table border=\"1\" class=\"dataframe\">\n",
       "  <thead>\n",
       "    <tr style=\"text-align: right;\">\n",
       "      <th></th>\n",
       "      <th>FECHA</th>\n",
       "      <th>PIB</th>\n",
       "      <th>LPIB</th>\n",
       "      <th>VariableTemporal</th>\n",
       "      <th>TemporalAlternativa</th>\n",
       "    </tr>\n",
       "  </thead>\n",
       "  <tbody>\n",
       "    <tr>\n",
       "      <th>0</th>\n",
       "      <td>1947-04-01</td>\n",
       "      <td>2027.639</td>\n",
       "      <td>7.614627</td>\n",
       "      <td>1947-04-01</td>\n",
       "      <td>1947-03-31</td>\n",
       "    </tr>\n",
       "    <tr>\n",
       "      <th>1</th>\n",
       "      <td>1947-07-01</td>\n",
       "      <td>2023.452</td>\n",
       "      <td>7.612560</td>\n",
       "      <td>1947-07-01</td>\n",
       "      <td>1947-06-30</td>\n",
       "    </tr>\n",
       "    <tr>\n",
       "      <th>2</th>\n",
       "      <td>1947-10-01</td>\n",
       "      <td>2055.103</td>\n",
       "      <td>7.628081</td>\n",
       "      <td>1947-10-01</td>\n",
       "      <td>1947-09-30</td>\n",
       "    </tr>\n",
       "    <tr>\n",
       "      <th>3</th>\n",
       "      <td>1948-01-01</td>\n",
       "      <td>2086.017</td>\n",
       "      <td>7.643012</td>\n",
       "      <td>1948-01-01</td>\n",
       "      <td>1947-12-31</td>\n",
       "    </tr>\n",
       "    <tr>\n",
       "      <th>4</th>\n",
       "      <td>1948-04-01</td>\n",
       "      <td>2120.450</td>\n",
       "      <td>7.659384</td>\n",
       "      <td>1948-04-01</td>\n",
       "      <td>1948-03-31</td>\n",
       "    </tr>\n",
       "  </tbody>\n",
       "</table>\n",
       "</div>"
      ],
      "text/plain": [
       "        FECHA       PIB      LPIB VariableTemporal TemporalAlternativa\n",
       "0  1947-04-01  2027.639  7.614627       1947-04-01          1947-03-31\n",
       "1  1947-07-01  2023.452  7.612560       1947-07-01          1947-06-30\n",
       "2  1947-10-01  2055.103  7.628081       1947-10-01          1947-09-30\n",
       "3  1948-01-01  2086.017  7.643012       1948-01-01          1947-12-31\n",
       "4  1948-04-01  2120.450  7.659384       1948-04-01          1948-03-31"
      ]
     },
     "execution_count": 17,
     "metadata": {},
     "output_type": "execute_result"
    }
   ],
   "source": [
    "data.head()"
   ]
  },
  {
   "cell_type": "code",
   "execution_count": 23,
   "metadata": {},
   "outputs": [],
   "source": [
    "TSdata = data.set_index(\"VariableTemporal\")"
   ]
  },
  {
   "cell_type": "code",
   "execution_count": 25,
   "metadata": {},
   "outputs": [
    {
     "data": {
      "text/html": [
       "<div>\n",
       "<style scoped>\n",
       "    .dataframe tbody tr th:only-of-type {\n",
       "        vertical-align: middle;\n",
       "    }\n",
       "\n",
       "    .dataframe tbody tr th {\n",
       "        vertical-align: top;\n",
       "    }\n",
       "\n",
       "    .dataframe thead th {\n",
       "        text-align: right;\n",
       "    }\n",
       "</style>\n",
       "<table border=\"1\" class=\"dataframe\">\n",
       "  <thead>\n",
       "    <tr style=\"text-align: right;\">\n",
       "      <th></th>\n",
       "      <th>FECHA</th>\n",
       "      <th>PIB</th>\n",
       "      <th>LPIB</th>\n",
       "      <th>TemporalAlternativa</th>\n",
       "    </tr>\n",
       "    <tr>\n",
       "      <th>VariableTemporal</th>\n",
       "      <th></th>\n",
       "      <th></th>\n",
       "      <th></th>\n",
       "      <th></th>\n",
       "    </tr>\n",
       "  </thead>\n",
       "  <tbody>\n",
       "    <tr>\n",
       "      <th>1947-04-01</th>\n",
       "      <td>1947-04-01</td>\n",
       "      <td>2027.639</td>\n",
       "      <td>7.614627</td>\n",
       "      <td>1947-03-31</td>\n",
       "    </tr>\n",
       "    <tr>\n",
       "      <th>1947-07-01</th>\n",
       "      <td>1947-07-01</td>\n",
       "      <td>2023.452</td>\n",
       "      <td>7.612560</td>\n",
       "      <td>1947-06-30</td>\n",
       "    </tr>\n",
       "    <tr>\n",
       "      <th>1947-10-01</th>\n",
       "      <td>1947-10-01</td>\n",
       "      <td>2055.103</td>\n",
       "      <td>7.628081</td>\n",
       "      <td>1947-09-30</td>\n",
       "    </tr>\n",
       "    <tr>\n",
       "      <th>1948-01-01</th>\n",
       "      <td>1948-01-01</td>\n",
       "      <td>2086.017</td>\n",
       "      <td>7.643012</td>\n",
       "      <td>1947-12-31</td>\n",
       "    </tr>\n",
       "    <tr>\n",
       "      <th>1948-04-01</th>\n",
       "      <td>1948-04-01</td>\n",
       "      <td>2120.450</td>\n",
       "      <td>7.659384</td>\n",
       "      <td>1948-03-31</td>\n",
       "    </tr>\n",
       "  </tbody>\n",
       "</table>\n",
       "</div>"
      ],
      "text/plain": [
       "                       FECHA       PIB      LPIB TemporalAlternativa\n",
       "VariableTemporal                                                    \n",
       "1947-04-01        1947-04-01  2027.639  7.614627          1947-03-31\n",
       "1947-07-01        1947-07-01  2023.452  7.612560          1947-06-30\n",
       "1947-10-01        1947-10-01  2055.103  7.628081          1947-09-30\n",
       "1948-01-01        1948-01-01  2086.017  7.643012          1947-12-31\n",
       "1948-04-01        1948-04-01  2120.450  7.659384          1948-03-31"
      ]
     },
     "execution_count": 25,
     "metadata": {},
     "output_type": "execute_result"
    }
   ],
   "source": [
    "TSdata.head()"
   ]
  },
  {
   "cell_type": "code",
   "execution_count": 31,
   "metadata": {},
   "outputs": [
    {
     "data": {
      "image/png": "[encoded data removed]",
      "text/plain": [
       "<Figure size 432x288 with 1 Axes>"
      ]
     },
     "metadata": {
      "needs_background": "light"
     },
     "output_type": "display_data"
    }
   ],
   "source": [
    "fig, ax = plt.subplots()\n",
    "ax.plot(\"PIB\", data = TSdata)\n",
    "plt.show()"
   ]
  },
  {
   "cell_type": "code",
   "execution_count": 33,
   "metadata": {},
   "outputs": [
    {
     "data": {
      "image/png": "[encoded data removed]",
      "text/plain": [
       "<Figure size 432x288 with 1 Axes>"
      ]
     },
     "metadata": {
      "needs_background": "light"
     },
     "output_type": "display_data"
    }
   ],
   "source": [
    "fig, ax = plt.subplots()\n",
    "sm.graphics.tsa.plot_acf(TSdata[\"LPIB\"], lags = 25, ax = ax)\n",
    "ax.set_title(\"ACF LPIB\")\n",
    "ax.set_xlabel(\"Rezagos\")\n",
    "ax.set_ylabel(\"Correlación\")\n",
    "plt.show()"
   ]
  },
  {
   "cell_type": "markdown",
   "metadata": {},
   "source": [
    "**Test de Dickey Fuller**"
   ]
  },
  {
   "cell_type": "code",
   "execution_count": 36,
   "metadata": {},
   "outputs": [
    {
     "data": {
      "text/plain": [
       "Estadístico       -1.308172\n",
       "p-value            0.625425\n",
       "Rezagos            3.000000\n",
       "Observaciones    240.000000\n",
       "dtype: float64"
      ]
     },
     "execution_count": 36,
     "metadata": {},
     "output_type": "execute_result"
    }
   ],
   "source": [
    "# Ho = No estacionario ---> Existe una raíz unitaria \n",
    "\n",
    "ResultadosTest = sm.tsa.stattools.adfuller(TSdata[\"LPIB\"])\n",
    "Nombres = [\"Estadístico\", \"p-value\", \"Rezagos\", \"Observaciones\"]\n",
    "pd.Series(ResultadosTest[0:4], index=Nombres)"
   ]
  },
  {
   "cell_type": "code",
   "execution_count": 37,
   "metadata": {},
   "outputs": [],
   "source": [
    "TSdata[\"DLPIB\"] = TSdata[\"LPIB\"].diff()"
   ]
  },
  {
   "cell_type": "code",
   "execution_count": 38,
   "metadata": {},
   "outputs": [
    {
     "data": {
      "text/html": [
       "<div>\n",
       "<style scoped>\n",
       "    .dataframe tbody tr th:only-of-type {\n",
       "        vertical-align: middle;\n",
       "    }\n",
       "\n",
       "    .dataframe tbody tr th {\n",
       "        vertical-align: top;\n",
       "    }\n",
       "\n",
       "    .dataframe thead th {\n",
       "        text-align: right;\n",
       "    }\n",
       "</style>\n",
       "<table border=\"1\" class=\"dataframe\">\n",
       "  <thead>\n",
       "    <tr style=\"text-align: right;\">\n",
       "      <th></th>\n",
       "      <th>FECHA</th>\n",
       "      <th>PIB</th>\n",
       "      <th>LPIB</th>\n",
       "      <th>TemporalAlternativa</th>\n",
       "      <th>DLPIB</th>\n",
       "    </tr>\n",
       "    <tr>\n",
       "      <th>VariableTemporal</th>\n",
       "      <th></th>\n",
       "      <th></th>\n",
       "      <th></th>\n",
       "      <th></th>\n",
       "      <th></th>\n",
       "    </tr>\n",
       "  </thead>\n",
       "  <tbody>\n",
       "    <tr>\n",
       "      <th>1947-04-01</th>\n",
       "      <td>1947-04-01</td>\n",
       "      <td>2027.639</td>\n",
       "      <td>7.614627</td>\n",
       "      <td>1947-03-31</td>\n",
       "      <td>NaN</td>\n",
       "    </tr>\n",
       "    <tr>\n",
       "      <th>1947-07-01</th>\n",
       "      <td>1947-07-01</td>\n",
       "      <td>2023.452</td>\n",
       "      <td>7.612560</td>\n",
       "      <td>1947-06-30</td>\n",
       "      <td>-0.002067</td>\n",
       "    </tr>\n",
       "    <tr>\n",
       "      <th>1947-10-01</th>\n",
       "      <td>1947-10-01</td>\n",
       "      <td>2055.103</td>\n",
       "      <td>7.628081</td>\n",
       "      <td>1947-09-30</td>\n",
       "      <td>0.015521</td>\n",
       "    </tr>\n",
       "    <tr>\n",
       "      <th>1948-01-01</th>\n",
       "      <td>1948-01-01</td>\n",
       "      <td>2086.017</td>\n",
       "      <td>7.643012</td>\n",
       "      <td>1947-12-31</td>\n",
       "      <td>0.014931</td>\n",
       "    </tr>\n",
       "    <tr>\n",
       "      <th>1948-04-01</th>\n",
       "      <td>1948-04-01</td>\n",
       "      <td>2120.450</td>\n",
       "      <td>7.659384</td>\n",
       "      <td>1948-03-31</td>\n",
       "      <td>0.016372</td>\n",
       "    </tr>\n",
       "  </tbody>\n",
       "</table>\n",
       "</div>"
      ],
      "text/plain": [
       "                       FECHA       PIB      LPIB TemporalAlternativa     DLPIB\n",
       "VariableTemporal                                                              \n",
       "1947-04-01        1947-04-01  2027.639  7.614627          1947-03-31       NaN\n",
       "1947-07-01        1947-07-01  2023.452  7.612560          1947-06-30 -0.002067\n",
       "1947-10-01        1947-10-01  2055.103  7.628081          1947-09-30  0.015521\n",
       "1948-01-01        1948-01-01  2086.017  7.643012          1947-12-31  0.014931\n",
       "1948-04-01        1948-04-01  2120.450  7.659384          1948-03-31  0.016372"
      ]
     },
     "execution_count": 38,
     "metadata": {},
     "output_type": "execute_result"
    }
   ],
   "source": [
    "TSdata.head()"
   ]
  },
  {
   "cell_type": "code",
   "execution_count": 39,
   "metadata": {},
   "outputs": [
    {
     "data": {
      "image/png": "[encoded data removed]",
      "text/plain": [
       "<Figure size 432x288 with 1 Axes>"
      ]
     },
     "metadata": {
      "needs_background": "light"
     },
     "output_type": "display_data"
    }
   ],
   "source": [
    "fig, ax = plt.subplots()\n",
    "ax.plot(\"DLPIB\", data = TSdata)\n",
    "plt.show()"
   ]
  },
  {
   "cell_type": "code",
   "execution_count": 40,
   "metadata": {},
   "outputs": [
    {
     "name": "stderr",
     "output_type": "stream",
     "text": [
      "C:\\Users\\57317\\anaconda3\\lib\\site-packages\\numpy\\core\\_asarray.py:102: UserWarning: Warning: converting a masked element to nan.\n",
      "  return array(a, dtype, copy=False, order=order)\n"
     ]
    },
    {
     "data": {
      "image/png": "[encoded data removed]",
      "text/plain": [
       "<Figure size 432x288 with 1 Axes>"
      ]
     },
     "metadata": {
      "needs_background": "light"
     },
     "output_type": "display_data"
    }
   ],
   "source": [
    "fig, ax = plt.subplots()\n",
    "sm.graphics.tsa.plot_acf(TSdata[\"DLPIB\"], lags = 25, ax = ax)\n",
    "ax.set_title(\"ACF DLPIB\")\n",
    "ax.set_xlabel(\"Rezagos\")\n",
    "ax.set_ylabel(\"Correlación\")\n",
    "plt.show()"
   ]
  },
  {
   "cell_type": "code",
   "execution_count": 41,
   "metadata": {},
   "outputs": [
    {
     "data": {
      "text/plain": [
       "VariableTemporal\n",
       "1947-07-01   -0.002067\n",
       "1947-10-01    0.015521\n",
       "1948-01-01    0.014931\n",
       "1948-04-01    0.016372\n",
       "1948-07-01    0.005713\n",
       "                ...   \n",
       "2007-01-01    0.002352\n",
       "2007-04-01    0.005712\n",
       "2007-07-01    0.005418\n",
       "2007-10-01    0.006060\n",
       "2008-01-01   -0.005764\n",
       "Name: DLPIB, Length: 243, dtype: float64"
      ]
     },
     "execution_count": 41,
     "metadata": {},
     "output_type": "execute_result"
    }
   ],
   "source": [
    "TSdata.iloc[1:,4]"
   ]
  },
  {
   "cell_type": "code",
   "execution_count": 42,
   "metadata": {},
   "outputs": [
    {
     "data": {
      "text/plain": [
       "4"
      ]
     },
     "execution_count": 42,
     "metadata": {},
     "output_type": "execute_result"
    }
   ],
   "source": [
    "TSdata.columns.get_loc(\"DLPIB\")"
   ]
  },
  {
   "cell_type": "code",
   "execution_count": 43,
   "metadata": {
    "scrolled": false
   },
   "outputs": [
    {
     "data": {
      "image/png": "[encoded data removed]",
      "text/plain": [
       "<Figure size 432x288 with 1 Axes>"
      ]
     },
     "metadata": {
      "needs_background": "light"
     },
     "output_type": "display_data"
    }
   ],
   "source": [
    "fig, ax = plt.subplots()\n",
    "sm.graphics.tsa.plot_acf(TSdata.iloc[1:,4], lags = 25, ax=ax)\n",
    "ax.set_title(\"ACF DLPIB\")\n",
    "ax.set_xlabel(\"Rezagos\")\n",
    "ax.set_ylabel(\"Correlación\")\n",
    "plt.show()\n",
    "# Grados del MA"
   ]
  },
  {
   "cell_type": "code",
   "execution_count": 46,
   "metadata": {},
   "outputs": [
    {
     "data": {
      "image/png": "[encoded data removed]",
      "text/plain": [
       "<Figure size 432x288 with 1 Axes>"
      ]
     },
     "metadata": {
      "needs_background": "light"
     },
     "output_type": "display_data"
    }
   ],
   "source": [
    "fig, ax = plt.subplots()\n",
    "sm.graphics.tsa.plot_pacf(TSdata.iloc[1:,4], lags = 25, ax=ax)\n",
    "ax.set_title(\"ACFP DLPIB\")\n",
    "ax.set_xlabel(\"Rezagos\")\n",
    "ax.set_ylabel(\"Correlación\")\n",
    "plt.show()\n",
    "# Grados del AR"
   ]
  },
  {
   "cell_type": "code",
   "execution_count": 45,
   "metadata": {
    "scrolled": true
   },
   "outputs": [
    {
     "data": {
      "text/plain": [
       "Estadístico     -8.033115e+00\n",
       "p-value          1.934432e-12\n",
       "Rezagos          2.000000e+00\n",
       "Observaciones    2.400000e+02\n",
       "dtype: float64"
      ]
     },
     "execution_count": 45,
     "metadata": {},
     "output_type": "execute_result"
    }
   ],
   "source": [
    "ResultadosTest = sm.tsa.stattools.adfuller(TSdata.iloc[1:,4])\n",
    "Nombres = [\"Estadístico\", \"p-value\", \"Rezagos\", \"Observaciones\"]\n",
    "pd.Series(ResultadosTest[0:4], index=Nombres)"
   ]
  },
  {
   "cell_type": "markdown",
   "metadata": {},
   "source": [
    "**AR(1)**"
   ]
  },
  {
   "cell_type": "code",
   "execution_count": 52,
   "metadata": {},
   "outputs": [
    {
     "name": "stderr",
     "output_type": "stream",
     "text": [
      "C:\\Users\\57317\\anaconda3\\lib\\site-packages\\statsmodels\\tsa\\base\\tsa_model.py:524: ValueWarning: No frequency information was provided, so inferred frequency QS-OCT will be used.\n",
      "  warnings.warn('No frequency information was'\n"
     ]
    },
    {
     "name": "stdout",
     "output_type": "stream",
     "text": [
      "                              ARMA Model Results                              \n",
      "==============================================================================\n",
      "Dep. Variable:                  DLPIB   No. Observations:                  243\n",
      "Model:                     ARMA(1, 0)   Log Likelihood                 797.248\n",
      "Method:                       css-mle   S.D. of innovations              0.009\n",
      "Date:                Mon, 03 May 2021   AIC                          -1588.496\n",
      "Time:                        17:51:47   BIC                          -1578.016\n",
      "Sample:                    07-01-1947   HQIC                         -1584.275\n",
      "                         - 01-01-2008                                         \n",
      "===============================================================================\n",
      "                  coef    std err          z      P>|z|      [0.025      0.975]\n",
      "-------------------------------------------------------------------------------\n",
      "const           0.0084      0.001      9.583      0.000       0.007       0.010\n",
      "ar.L1.DLPIB     0.3329      0.061      5.478      0.000       0.214       0.452\n",
      "                                    Roots                                    \n",
      "=============================================================================\n",
      "                  Real          Imaginary           Modulus         Frequency\n",
      "-----------------------------------------------------------------------------\n",
      "AR.1            3.0038           +0.0000j            3.0038            0.0000\n",
      "-----------------------------------------------------------------------------\n"
     ]
    }
   ],
   "source": [
    "AR1 = sm.tsa.ARIMA(TSdata.iloc[1:,4], order = (1,0,0))\n",
    "ResultadosAR1 = AR1.fit()\n",
    "print(ResultadosAR1.summary())"
   ]
  },
  {
   "cell_type": "markdown",
   "metadata": {},
   "source": [
    "**MA(2)**"
   ]
  },
  {
   "cell_type": "code",
   "execution_count": 54,
   "metadata": {},
   "outputs": [
    {
     "name": "stderr",
     "output_type": "stream",
     "text": [
      "C:\\Users\\57317\\anaconda3\\lib\\site-packages\\statsmodels\\tsa\\arima_model.py:472: FutureWarning: \n",
      "statsmodels.tsa.arima_model.ARMA and statsmodels.tsa.arima_model.ARIMA have\n",
      "been deprecated in favor of statsmodels.tsa.arima.model.ARIMA (note the .\n",
      "between arima and model) and\n",
      "statsmodels.tsa.SARIMAX. These will be removed after the 0.12 release.\n",
      "\n",
      "statsmodels.tsa.arima.model.ARIMA makes use of the statespace framework and\n",
      "is both well tested and maintained.\n",
      "\n",
      "To silence this warning and continue using ARMA and ARIMA until they are\n",
      "removed, use:\n",
      "\n",
      "import warnings\n",
      "warnings.filterwarnings('ignore', 'statsmodels.tsa.arima_model.ARMA',\n",
      "                        FutureWarning)\n",
      "warnings.filterwarnings('ignore', 'statsmodels.tsa.arima_model.ARIMA',\n",
      "                        FutureWarning)\n",
      "\n",
      "  warnings.warn(ARIMA_DEPRECATION_WARN, FutureWarning)\n",
      "C:\\Users\\57317\\anaconda3\\lib\\site-packages\\statsmodels\\tsa\\base\\tsa_model.py:524: ValueWarning: No frequency information was provided, so inferred frequency QS-OCT will be used.\n",
      "  warnings.warn('No frequency information was'\n"
     ]
    },
    {
     "name": "stdout",
     "output_type": "stream",
     "text": [
      "                              ARMA Model Results                              \n",
      "==============================================================================\n",
      "Dep. Variable:                  DLPIB   No. Observations:                  243\n",
      "Model:                     ARMA(0, 2)   Log Likelihood                 799.942\n",
      "Method:                       css-mle   S.D. of innovations              0.009\n",
      "Date:                Mon, 03 May 2021   AIC                          -1591.885\n",
      "Time:                        17:53:22   BIC                          -1577.912\n",
      "Sample:                    07-01-1947   HQIC                         -1586.257\n",
      "                         - 01-01-2008                                         \n",
      "===============================================================================\n",
      "                  coef    std err          z      P>|z|      [0.025      0.975]\n",
      "-------------------------------------------------------------------------------\n",
      "const           0.0084      0.001      9.589      0.000       0.007       0.010\n",
      "ma.L1.DLPIB     0.2904      0.063      4.601      0.000       0.167       0.414\n",
      "ma.L2.DLPIB     0.2241      0.060      3.724      0.000       0.106       0.342\n",
      "                                    Roots                                    \n",
      "=============================================================================\n",
      "                  Real          Imaginary           Modulus         Frequency\n",
      "-----------------------------------------------------------------------------\n",
      "MA.1           -0.6478           -2.0105j            2.1123           -0.2996\n",
      "MA.2           -0.6478           +2.0105j            2.1123            0.2996\n",
      "-----------------------------------------------------------------------------\n"
     ]
    }
   ],
   "source": [
    "MA2 = sm.tsa.ARIMA(TSdata.iloc[1:,4], order = (0,0,2))\n",
    "ResultadosMA2 = MA2.fit()\n",
    "print(ResultadosMA2.summary())"
   ]
  },
  {
   "cell_type": "code",
   "execution_count": 55,
   "metadata": {},
   "outputs": [
    {
     "name": "stderr",
     "output_type": "stream",
     "text": [
      "C:\\Users\\57317\\anaconda3\\lib\\site-packages\\statsmodels\\tsa\\arima_model.py:472: FutureWarning: \n",
      "statsmodels.tsa.arima_model.ARMA and statsmodels.tsa.arima_model.ARIMA have\n",
      "been deprecated in favor of statsmodels.tsa.arima.model.ARIMA (note the .\n",
      "between arima and model) and\n",
      "statsmodels.tsa.SARIMAX. These will be removed after the 0.12 release.\n",
      "\n",
      "statsmodels.tsa.arima.model.ARIMA makes use of the statespace framework and\n",
      "is both well tested and maintained.\n",
      "\n",
      "To silence this warning and continue using ARMA and ARIMA until they are\n",
      "removed, use:\n",
      "\n",
      "import warnings\n",
      "warnings.filterwarnings('ignore', 'statsmodels.tsa.arima_model.ARMA',\n",
      "                        FutureWarning)\n",
      "warnings.filterwarnings('ignore', 'statsmodels.tsa.arima_model.ARIMA',\n",
      "                        FutureWarning)\n",
      "\n",
      "  warnings.warn(ARIMA_DEPRECATION_WARN, FutureWarning)\n",
      "C:\\Users\\57317\\anaconda3\\lib\\site-packages\\statsmodels\\tsa\\base\\tsa_model.py:524: ValueWarning: No frequency information was provided, so inferred frequency QS-OCT will be used.\n",
      "  warnings.warn('No frequency information was'\n"
     ]
    },
    {
     "name": "stdout",
     "output_type": "stream",
     "text": [
      "                              ARMA Model Results                              \n",
      "==============================================================================\n",
      "Dep. Variable:                  DLPIB   No. Observations:                  243\n",
      "Model:                     ARMA(1, 2)   Log Likelihood                 800.317\n",
      "Method:                       css-mle   S.D. of innovations              0.009\n",
      "Date:                Mon, 03 May 2021   AIC                          -1590.635\n",
      "Time:                        17:54:04   BIC                          -1573.169\n",
      "Sample:                    07-01-1947   HQIC                         -1583.600\n",
      "                         - 01-01-2008                                         \n",
      "===============================================================================\n",
      "                  coef    std err          z      P>|z|      [0.025      0.975]\n",
      "-------------------------------------------------------------------------------\n",
      "const           0.0084      0.001      8.980      0.000       0.007       0.010\n",
      "ar.L1.DLPIB     0.1967      0.200      0.982      0.326      -0.196       0.589\n",
      "ma.L1.DLPIB     0.1054      0.195      0.539      0.590      -0.278       0.489\n",
      "ma.L2.DLPIB     0.1949      0.077      2.534      0.011       0.044       0.346\n",
      "                                    Roots                                    \n",
      "=============================================================================\n",
      "                  Real          Imaginary           Modulus         Frequency\n",
      "-----------------------------------------------------------------------------\n",
      "AR.1            5.0850           +0.0000j            5.0850            0.0000\n",
      "MA.1           -0.2705           -2.2492j            2.2654           -0.2691\n",
      "MA.2           -0.2705           +2.2492j            2.2654            0.2691\n",
      "-----------------------------------------------------------------------------\n"
     ]
    }
   ],
   "source": [
    "ARMA12 = sm.tsa.ARIMA(TSdata.iloc[1:,4], order = (1,0,2))\n",
    "ResultadosARMA12 = ARMA12.fit()\n",
    "print(ResultadosARMA12.summary())"
   ]
  },
  {
   "cell_type": "markdown",
   "metadata": {},
   "source": [
    "### Comparar modelos"
   ]
  },
  {
   "cell_type": "code",
   "execution_count": 56,
   "metadata": {},
   "outputs": [],
   "source": [
    "AR1aic = ResultadosAR1.aic\n",
    "ARMA12aic = ResultadosARMA12.aic\n",
    "MA2aic = ResultadosMA2.aic"
   ]
  },
  {
   "cell_type": "code",
   "execution_count": 57,
   "metadata": {},
   "outputs": [
    {
     "name": "stdout",
     "output_type": "stream",
     "text": [
      "             AR1       ARMA12          MA2\n",
      "AIC -1591.884539 -1590.634617 -1591.884539\n"
     ]
    }
   ],
   "source": [
    "prueba_dict= {\"AR1\": AR1aic,\"ARMA12\": ARMA12aic,\"MA2\": MA2aic}\n",
    "prueba_data_frame= pd.DataFrame(prueba_dict, index=[\"AIC\"])\n",
    "print(prueba_data_frame)"
   ]
  }
 ],
 "metadata": {
  "kernelspec": {
   "display_name": "Python 3",
   "language": "python",
   "name": "python3"
  },
  "language_info": {
   "codemirror_mode": {
    "name": "ipython",
    "version": 3
   },
   "file_extension": ".py",
   "mimetype": "text/x-python",
   "name": "python",
   "nbconvert_exporter": "python",
   "pygments_lexer": "ipython3",
   "version": "3.8.5"
  }
 },
 "nbformat": 4,
 "nbformat_minor": 2
}
