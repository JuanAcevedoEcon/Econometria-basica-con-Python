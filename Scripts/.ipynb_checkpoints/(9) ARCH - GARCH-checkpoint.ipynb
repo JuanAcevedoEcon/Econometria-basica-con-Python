{
 "cells": [
  {
   "cell_type": "markdown",
   "id": "e3687ea0",
   "metadata": {},
   "source": [
    "## Modelos GARCH"
   ]
  },
  {
   "cell_type": "markdown",
   "id": "d7e0bdba",
   "metadata": {},
   "source": [
    "#### Modelo ARCH (Autoregressive Conditional Heteroskedasticity)\n"
   ]
  },
  {
   "cell_type": "code",
   "execution_count": 2,
   "id": "e9766673",
   "metadata": {},
   "outputs": [],
   "source": [
    "import pandas as pd\n",
    "import matplotlib.pyplot as plt\n",
    "import numpy as np\n",
    "\n",
    "from statsmodels.graphics.tsaplots import plot_acf, plot_pacf\n",
    "\n",
    "from arch import arch_model # !pip install arch \n",
    "from arch.__future__ import reindexing # Se utiliza para eliminar warning por actualización de arch"
   ]
  },
  {
   "cell_type": "code",
   "execution_count": null,
   "id": "99327609",
   "metadata": {},
   "outputs": [],
   "source": [
    "!"
   ]
  },
  {
   "cell_type": "code",
   "execution_count": null,
   "id": "e2a2db4d",
   "metadata": {},
   "outputs": [],
   "source": [
    "precios = pd.read_excel(\"ECOPETROL.xls\",header=1)"
   ]
  },
  {
   "cell_type": "code",
   "execution_count": null,
   "id": "8a7af1a7",
   "metadata": {},
   "outputs": [],
   "source": [
    "precios.______"
   ]
  },
  {
   "cell_type": "code",
   "execution_count": null,
   "id": "7491f561",
   "metadata": {},
   "outputs": [],
   "source": [
    "precios = precios._______(\"_______\")"
   ]
  },
  {
   "cell_type": "code",
   "execution_count": null,
   "id": "6153d884",
   "metadata": {},
   "outputs": [],
   "source": [
    "model_arch = _______(_______[\"_______\"], _______= _______)\n",
    "resultados = model_arch.___(_______)\n",
    "resultados.summary()"
   ]
  },
  {
   "cell_type": "code",
   "execution_count": null,
   "id": "0cd68f86",
   "metadata": {},
   "outputs": [],
   "source": [
    "_______._______"
   ]
  },
  {
   "cell_type": "code",
   "execution_count": null,
   "id": "ab65dee7",
   "metadata": {},
   "outputs": [],
   "source": [
    "model_arch_1 = _______(_______[\"_______\"],_______=_______,\n",
    "                         _______=\"_______\", _______ = \"_______\", _ = _, _______ = \"_______\") \n",
    "\n",
    "resultados = _______._______(_______)\n",
    "resultados.summary()"
   ]
  },
  {
   "cell_type": "markdown",
   "id": "a5b5d020",
   "metadata": {},
   "source": [
    "### ARCH + Past values"
   ]
  },
  {
   "cell_type": "code",
   "execution_count": null,
   "id": "43cbc3c2",
   "metadata": {},
   "outputs": [],
   "source": [
    "model_garch_1_1 = _______(_______[\"_______\"],_______=_______,\n",
    "                         _______=\"_______\", _______ = \"_______\", _ = _, _ = _)\n",
    "resultados_garch_1_1 = model_garch_1_1.___(_______)\n",
    "resultados_garch_1_1.summary()"
   ]
  },
  {
   "cell_type": "markdown",
   "id": "8ce8a210",
   "metadata": {},
   "source": [
    "### Representación Gráfica"
   ]
  },
  {
   "cell_type": "code",
   "execution_count": null,
   "id": "dff3981d",
   "metadata": {},
   "outputs": [],
   "source": [
    "especie = _______[\"_______\"]\n",
    "\n",
    "returns = ___ * _______._______._______\n",
    "\n",
    "plt.figure(_______=(__,_))\n",
    "plt.plot(_______)\n",
    "plt.ylabel(\"Porcentaje de rendimientos\")\n",
    "plt.title(\"Cambio porcentual del precio de ECOPETL\");"
   ]
  },
  {
   "cell_type": "markdown",
   "id": "5b994795",
   "metadata": {},
   "source": [
    "## PACF"
   ]
  },
  {
   "cell_type": "code",
   "execution_count": null,
   "id": "ed94514f",
   "metadata": {},
   "outputs": [],
   "source": [
    "_______(_______**_)\n",
    "plt._______()"
   ]
  },
  {
   "cell_type": "code",
   "execution_count": null,
   "id": "a90387f3",
   "metadata": {},
   "outputs": [],
   "source": [
    "model = _______(_______, p=_, q=_)\n",
    "model_fit = model.___(_______)\n",
    "model_fit.summary()"
   ]
  },
  {
   "cell_type": "code",
   "execution_count": null,
   "id": "4c008f77",
   "metadata": {},
   "outputs": [],
   "source": [
    "rolling_predictions = []\n",
    "test_size = 365\n",
    "\n",
    "for i in range(_______):\n",
    "    train = returns[:-(_______-_)]\n",
    "    model = _______(_______, _=_, _=_)\n",
    "    model_fit = _______.___(____=\"___\")\n",
    "    pred = model_fit._______(_______=_)\n",
    "    rolling_predictions._______(__.____(pred._______._______[-1,:][0]))"
   ]
  },
  {
   "cell_type": "code",
   "execution_count": null,
   "id": "2830dcac",
   "metadata": {},
   "outputs": [],
   "source": [
    "rolling_predictions = pd._______(_______, index=_______._______[-___:])"
   ]
  },
  {
   "cell_type": "code",
   "execution_count": null,
   "id": "39bd4023",
   "metadata": {},
   "outputs": [],
   "source": [
    "plt.figure(_______=(__,_))\n",
    "true = plt.plot(_______[-___:])\n",
    "preds = plt.plot(_______)\n",
    "plt._______(\"Volatilidad predicha vs Rendimientos reales\", _______ = 20)\n",
    "plt._______([\"Variación % de rendimientos\", \"Volatilidad predicha\"]);"
   ]
  },
  {
   "cell_type": "code",
   "execution_count": null,
   "id": "3a06e2df",
   "metadata": {},
   "outputs": [],
   "source": [
    "promedio =round(model_fit._______._______,_)"
   ]
  }
 ],
 "metadata": {
  "kernelspec": {
   "display_name": "Python 3",
   "language": "python",
   "name": "python3"
  },
  "language_info": {
   "codemirror_mode": {
    "name": "ipython",
    "version": 3
   },
   "file_extension": ".py",
   "mimetype": "text/x-python",
   "name": "python",
   "nbconvert_exporter": "python",
   "pygments_lexer": "ipython3",
   "version": "3.8.5"
  }
 },
 "nbformat": 4,
 "nbformat_minor": 5
}
