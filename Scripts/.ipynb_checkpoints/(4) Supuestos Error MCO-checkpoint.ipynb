{
 "cells": [
  {
   "cell_type": "markdown",
   "metadata": {},
   "source": [
    "**Otras formas de analizar el supuesto de la clase pasada (linealidad y cambio estructural)**"
   ]
  },
  {
   "cell_type": "code",
   "execution_count": 1,
   "metadata": {},
   "outputs": [],
   "source": [
    "import numpy as np\n",
    "import pandas as pd\n",
    "import statsmodels.api as sm\n",
    "import matplotlib.pyplot as plt\n",
    "import seaborn as sns\n",
    "import statsmodels.stats.api as sms"
   ]
  },
  {
   "cell_type": "code",
   "execution_count": null,
   "metadata": {},
   "outputs": [],
   "source": [
    "data=pd.read_csv(\"________________\", delimiter=\"\\t\")"
   ]
  },
  {
   "cell_type": "code",
   "execution_count": null,
   "metadata": {},
   "outputs": [],
   "source": [
    "Modelo1=sm.OLS(data[\"CM\"],sm.add_constant(data[[\"PGNP\",\"FLR\"]]))\n",
    "Resultados1=Modelo1.fit()\n",
    "print(Resultados1.summary())"
   ]
  },
  {
   "cell_type": "markdown",
   "metadata": {},
   "source": [
    "**Supuesto de Cambio Estructural**"
   ]
  },
  {
   "cell_type": "code",
   "execution_count": null,
   "metadata": {},
   "outputs": [],
   "source": [
    "Valores_estimados=Resultados1.predict()\n",
    "Residuos=Resultados1.resid"
   ]
  },
  {
   "cell_type": "code",
   "execution_count": null,
   "metadata": {},
   "outputs": [],
   "source": [
    "CambioEstructural = sms.______________(Residuos) # Prueba de cambio estructural con residuos de MCO\n",
    "NombresCE = [\"Estadístico\", \"P-valor\", \"Valores Críticos\"]"
   ]
  },
  {
   "cell_type": "code",
   "execution_count": null,
   "metadata": {},
   "outputs": [],
   "source": [
    "pd.DataFrame({\"CUSUM\" : __________}, index=__________) # Ho = No hay Cambio estructural "
   ]
  },
  {
   "cell_type": "markdown",
   "metadata": {},
   "source": [
    "## Análisis sobre los errores del modelo"
   ]
  },
  {
   "cell_type": "code",
   "execution_count": null,
   "metadata": {},
   "outputs": [],
   "source": [
    "fig,ax=plt.subplots()\n",
    "ax.scatter(_______________,____________,color=\"blue\")\n",
    "ax.set_xlabel(\"Valores estimados\")\n",
    "ax.set_ylabel(\"Residuos\")\n",
    "ax.set_title(\"Residuos vs Valores estimados\",fontsize=20)\n",
    "ax.axhline(color = \"red\")\n",
    "plt.show()"
   ]
  },
  {
   "cell_type": "markdown",
   "metadata": {},
   "source": [
    "**Supuesto de Linealidad**"
   ]
  },
  {
   "cell_type": "code",
   "execution_count": null,
   "metadata": {},
   "outputs": [],
   "source": [
    "# H0 = Linealidad\n",
    "\n",
    "ResultadosTest = sms.____________(Resultados1)\n",
    "Nombres = [\"Estadistico\",\"p-valor\"]\n",
    "pd.Series(_________, index =_____________)"
   ]
  },
  {
   "cell_type": "code",
   "execution_count": null,
   "metadata": {
    "scrolled": false
   },
   "outputs": [],
   "source": [
    "pd.DataFrame(pd.Series(____________, index = ___________), columns = [\"Harvey-Collier\"])"
   ]
  },
  {
   "cell_type": "code",
   "execution_count": null,
   "metadata": {},
   "outputs": [],
   "source": [
    "ResultadosRainbow= sms.___________(____________) "
   ]
  },
  {
   "cell_type": "code",
   "execution_count": null,
   "metadata": {},
   "outputs": [],
   "source": [
    "Nombres2 = [\"Estadístico\",\"p-valor\"]"
   ]
  },
  {
   "cell_type": "code",
   "execution_count": null,
   "metadata": {},
   "outputs": [],
   "source": [
    "pd.DataFrame({\"Rainbow\":_______________}, index = __________) # Ho = linealidad"
   ]
  },
  {
   "cell_type": "markdown",
   "metadata": {},
   "source": [
    "### Media de los residuos"
   ]
  },
  {
   "cell_type": "code",
   "execution_count": null,
   "metadata": {},
   "outputs": [],
   "source": [
    "np.__________"
   ]
  },
  {
   "cell_type": "markdown",
   "metadata": {},
   "source": [
    "**Supuesto 4: Homoscedasticidad**"
   ]
  },
  {
   "cell_type": "code",
   "execution_count": null,
   "metadata": {
    "scrolled": true
   },
   "outputs": [],
   "source": [
    "fig, ax = plt.subplots()\n",
    "fig.suptitle(\"Residuos\")\n",
    "ax.plot(__________)\n",
    "ax.set_xlabel(\"Observaciones\")\n",
    "ax.set_ylabel(\"Observaciones\")\n",
    "plt.show()"
   ]
  },
  {
   "cell_type": "code",
   "execution_count": null,
   "metadata": {},
   "outputs": [],
   "source": [
    "Explicativas = Resultados1.___________\n",
    "Test = sms._______________(_______, __________)\n",
    "NombresTest = [\"Estadístico LM\", \"P-value LM\", \"Estadístico F\", \"P-value F\"] \n",
    "pd.Series(Test, index = NombresTest) \n",
    "\n",
    "# Ho = homoscedasticidad"
   ]
  },
  {
   "cell_type": "code",
   "execution_count": null,
   "metadata": {},
   "outputs": [],
   "source": [
    "pd.DataFrame({\"BreushPagan\":__________}, index = ________)"
   ]
  },
  {
   "cell_type": "code",
   "execution_count": null,
   "metadata": {},
   "outputs": [],
   "source": [
    "pd.DataFrame(pd.Series(________, index = ____________), columns = [\"BreushPagan\"])"
   ]
  },
  {
   "cell_type": "code",
   "execution_count": null,
   "metadata": {},
   "outputs": [],
   "source": [
    "TestWhite = sms._____________(__________,_________)\n",
    "NombresTest = [\"Estadístico LM\", \"P-value LM\", \"Estadístico F\", \"P-value F\"]\n",
    "pd.Series(________, index = ________)"
   ]
  },
  {
   "cell_type": "markdown",
   "metadata": {},
   "source": [
    "**Supuesto de No Autocorrelación**"
   ]
  },
  {
   "cell_type": "code",
   "execution_count": null,
   "metadata": {},
   "outputs": [],
   "source": [
    "ResultadosDW = sms.____________\n",
    "NombresDW= [\"Estadístico DW\"]\n",
    "pd.Series(__________, _____________)"
   ]
  },
  {
   "cell_type": "code",
   "execution_count": null,
   "metadata": {},
   "outputs": [],
   "source": [
    "ResultadoBreush = sms.______________________(__________, nlags = __)\n",
    "pd.Series(__________, index = __________)"
   ]
  },
  {
   "cell_type": "code",
   "execution_count": null,
   "metadata": {},
   "outputs": [],
   "source": [
    "ResultadosJungBox= sms.____________(__________, lags = 1, \n",
    "                                       boxpierce = ________)\n",
    "NombresJB = [\"Estadístico LB\", \"p-value LB\", \"Estadístico BP\", \"p-value BP\"]\n",
    "pd.Series(_________, ___________)"
   ]
  },
  {
   "cell_type": "markdown",
   "metadata": {},
   "source": [
    "**Supuesto de normalidad**"
   ]
  },
  {
   "cell_type": "code",
   "execution_count": null,
   "metadata": {},
   "outputs": [],
   "source": [
    "# Las Ho = no normalidad"
   ]
  },
  {
   "cell_type": "code",
   "execution_count": null,
   "metadata": {},
   "outputs": [],
   "source": [
    "ResultadosTestJB= sms.___________(_________)\n",
    "Nombres = [\"JB\", \"p-value\",\"Asimetria\",\"Curtosis\"]\n",
    "pd.Series(______________, index = Nombres)"
   ]
  },
  {
   "cell_type": "code",
   "execution_count": null,
   "metadata": {},
   "outputs": [],
   "source": [
    "ResultadosTestAD = sms._________(_________)\n",
    "Nombres=[\"AD\",\"p-valoe AD\"]\n",
    "pd.Series(___________, index = _______)"
   ]
  },
  {
   "cell_type": "code",
   "execution_count": null,
   "metadata": {},
   "outputs": [],
   "source": [
    "ResultadosTestKS= sms.______________(__________)\n",
    "Nombres = [\"KS\", \"p-valor KS\"]\n",
    "pd.Series(____________, index = __________)"
   ]
  },
  {
   "cell_type": "code",
   "execution_count": null,
   "metadata": {},
   "outputs": [],
   "source": [
    "fig, ax = plt.subplots()\n",
    "probplot = sm.__________(__________)\n",
    "probplot.qqplot(_______, _______)\n",
    "ax.set_title(\"QQ Plot\", color=\"darkblue\")\n",
    "print()"
   ]
  }
 ],
 "metadata": {
  "kernelspec": {
   "display_name": "Python 3",
   "language": "python",
   "name": "python3"
  },
  "language_info": {
   "codemirror_mode": {
    "name": "ipython",
    "version": 3
   },
   "file_extension": ".py",
   "mimetype": "text/x-python",
   "name": "python",
   "nbconvert_exporter": "python",
   "pygments_lexer": "ipython3",
   "version": "3.8.5"
  }
 },
 "nbformat": 4,
 "nbformat_minor": 2
}
