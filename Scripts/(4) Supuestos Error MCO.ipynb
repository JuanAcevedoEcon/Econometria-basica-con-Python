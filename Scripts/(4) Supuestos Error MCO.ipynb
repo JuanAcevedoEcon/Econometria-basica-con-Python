{
 "cells": [
  {
   "cell_type": "markdown",
   "metadata": {
    "id": "CAH3omKoY3wm"
   },
   "source": [
    "**Otras formas de analizar el supuesto de la clase pasada (linealidad y cambio estructural)**"
   ]
  },
  {
   "cell_type": "code",
   "execution_count": null,
   "metadata": {
    "id": "OjdYAsKtY3wp"
   },
   "outputs": [],
   "source": [
    "import ________ as np\n",
    "import ________ as pd\n",
    "import statsmodels.api as sm\n",
    "import matplotlib.pyplot as plt\n",
    "import seaborn as sns\n",
    "import statsmodels.stats.api as sms"
   ]
  },
  {
   "cell_type": "code",
   "execution_count": null,
   "metadata": {
    "id": "LahlC5hYY3wq"
   },
   "outputs": [],
   "source": [
    "data=pd.read_csv(\"GujaratiPorter71.txt\", delimiter=\"\\t\")"
   ]
  },
  {
   "cell_type": "code",
   "execution_count": null,
   "metadata": {
    "id": "Wa9vkLDZY3wr"
   },
   "outputs": [],
   "source": [
    "modelo=sm.______(data[____],sm.add_constant(data[[\"______\",\"_____\"]]))\n",
    "resultados=_____________\n",
    "print()"
   ]
  },
  {
   "cell_type": "markdown",
   "metadata": {
    "id": "85EdNOYsY3ws"
   },
   "source": [
    "**Supuesto de Cambio Estructural**"
   ]
  },
  {
   "cell_type": "code",
   "execution_count": null,
   "metadata": {
    "id": "0KmQjKwMY3ws"
   },
   "outputs": [],
   "source": [
    "residuos= _________.________\n",
    "\n",
    "cambio_estructural = sms._______________(_________)\n",
    "nombres = [\"Estadístico\", \"P-valor\", \"Valores Críticos\"]"
   ]
  },
  {
   "cell_type": "code",
   "execution_count": null,
   "metadata": {
    "id": "NIp0AHIrY3wt"
   },
   "outputs": [],
   "source": [
    "pd.DataFrame({\"CUSUM\" : _______________}, index=____________)"
   ]
  },
  {
   "cell_type": "code",
   "execution_count": null,
   "metadata": {
    "id": "pydurjdEY3wt"
   },
   "outputs": [],
   "source": [
    "valores_estimados= __________.________"
   ]
  },
  {
   "cell_type": "code",
   "execution_count": null,
   "metadata": {
    "id": "ZB7abLVtY3wu"
   },
   "outputs": [],
   "source": [
    "fig,ax=plt.subplots()\n",
    "ax.scatter(_________,___________,_________)\n",
    "ax._________(\"__________\")\n",
    "ax._________(\"__________\")\n",
    "ax._________(\"__________\",___________)\n",
    "ax._________(__________)\n",
    "plt.show()"
   ]
  },
  {
   "cell_type": "markdown",
   "metadata": {
    "id": "6Tkw7TREY3wu"
   },
   "source": [
    "**Supuesto de Linealidad**"
   ]
  },
  {
   "cell_type": "code",
   "execution_count": null,
   "metadata": {
    "id": "v5YZmzVbY3wv"
   },
   "outputs": [],
   "source": [
    "resultados_linealidad = sms.___________(_________)\n",
    "nombres = [\"Estadistico\",\"p-valor\"]\n",
    "pd._______(________, ________)"
   ]
  },
  {
   "cell_type": "code",
   "execution_count": null,
   "metadata": {
    "id": "uslEqQZaY3wv"
   },
   "outputs": [],
   "source": [
    "pd.DataFrame(pd.______(_________, ___________), columns = [\"Harvey-Collier\"])"
   ]
  },
  {
   "cell_type": "code",
   "execution_count": null,
   "metadata": {
    "id": "EyPLZk-bY3ww"
   },
   "outputs": [],
   "source": [
    "# Otra forma de hacerlo es \n",
    "pd.DataFrame({\"Harvey-Collier\":___________}, index =________)"
   ]
  },
  {
   "cell_type": "code",
   "execution_count": null,
   "metadata": {
    "id": "7aURfOSBY3ww"
   },
   "outputs": [],
   "source": [
    "resultados_rainbow= sms.____________(_________) "
   ]
  },
  {
   "cell_type": "code",
   "execution_count": null,
   "metadata": {
    "id": "UZoTRrhCY3ww"
   },
   "outputs": [],
   "source": [
    "nombres = [\"Estadístico\",\"p-valor\"]"
   ]
  },
  {
   "cell_type": "code",
   "execution_count": null,
   "metadata": {
    "id": "HiXBmpgCY3ww"
   },
   "outputs": [],
   "source": [
    "pd.DataFrame({\"Rainbow\":____________}, ________)"
   ]
  },
  {
   "cell_type": "code",
   "execution_count": null,
   "metadata": {
    "id": "hTAUtqIFY3wx"
   },
   "outputs": [],
   "source": [
    "np._____(__________)"
   ]
  },
  {
   "cell_type": "markdown",
   "metadata": {
    "id": "lzUrC6BnY3wx"
   },
   "source": [
    "**Supuesto 4: Homoscedasticidad**"
   ]
  },
  {
   "cell_type": "code",
   "execution_count": null,
   "metadata": {
    "id": "Mb3dkiSaY3wx",
    "scrolled": true
   },
   "outputs": [],
   "source": [
    "fig, ax = plt.subplots()\n",
    "fig._________(\"Residuos\")\n",
    "ax.plot(__________) \n",
    "ax.________()\n",
    "ax.________()\n",
    "plt.show()"
   ]
  },
  {
   "cell_type": "code",
   "execution_count": null,
   "metadata": {
    "id": "AvDL5fBgY3wy"
   },
   "outputs": [],
   "source": [
    "explicativas = _________._________._________\n",
    "resultados_test = sms.___________(___________, ___________)\n",
    "nombres_test = [\"Estadístico LM\", \"P-value LM\", \"Estadístico F\", \"P-value F\"]\n",
    "pd.Series(_________, __________)"
   ]
  },
  {
   "cell_type": "code",
   "execution_count": null,
   "metadata": {
    "id": "iBiHkJj0Y3wy"
   },
   "outputs": [],
   "source": [
    "pd.DataFrame({_________:________}, index = __________)"
   ]
  },
  {
   "cell_type": "code",
   "execution_count": null,
   "metadata": {
    "id": "BmQk6tZcY3wy"
   },
   "outputs": [],
   "source": [
    "pd.DataFrame(pd._________(_______, _________), columns = [\"BreushPagan\"])"
   ]
  },
  {
   "cell_type": "code",
   "execution_count": null,
   "metadata": {
    "id": "LWoqzenyY3wy"
   },
   "outputs": [],
   "source": [
    "test_white = sms._________(_________,__________)\n",
    "nombres_test = [\"Estadístico LM\", \"P-value LM\", \"Estadístico F\", \"P-value F\"]\n",
    "pd.Series(__________, index = _________)"
   ]
  },
  {
   "cell_type": "markdown",
   "metadata": {
    "id": "LKEDG7uGY3wz"
   },
   "source": [
    "**Supuesto de No Autocorrelación**"
   ]
  },
  {
   "cell_type": "code",
   "execution_count": null,
   "metadata": {
    "id": "v0wgZcRMY3wz"
   },
   "outputs": [],
   "source": [
    "test_dw = sms.durbin_watson(Residuos)\n",
    "nombres_dw = [\"Estadístico DW\"]\n",
    "pd.Series(_________,_________)"
   ]
  },
  {
   "cell_type": "code",
   "execution_count": null,
   "metadata": {
    "id": "FEO5G5xRY3wz"
   },
   "outputs": [],
   "source": [
    "test_breush = sms.__________________(_______,_______)\n",
    "pd.Series(___________, index = __________)"
   ]
  },
  {
   "cell_type": "code",
   "execution_count": null,
   "metadata": {
    "id": "9WjeeuGPY3wz"
   },
   "outputs": [],
   "source": [
    "test_jungbox= sms.____________(____________, _________, \n",
    "                                       ____________-)\n",
    "nombres_jungbox = [\"Estadístico LB\", \"p-value LB\", \"Estadístico BP\", \"p-value BP\"]\n",
    "pd.Series(_________, __________)"
   ]
  },
  {
   "cell_type": "markdown",
   "metadata": {
    "id": "OyCYI9SwY3w0"
   },
   "source": [
    "**Supuesto de normalidad**"
   ]
  },
  {
   "cell_type": "code",
   "execution_count": null,
   "metadata": {
    "id": "CppAlmYJY3w0"
   },
   "outputs": [],
   "source": [
    "test_jb= sms.____________(________)\n",
    "nombres_jb = [\"JB\", \"p-value\",\"Asimetría\",\"Curtosis\"]\n",
    "pd.Series(________, index =_______)"
   ]
  },
  {
   "cell_type": "code",
   "execution_count": null,
   "metadata": {
    "id": "mawE9cB1Y3w0"
   },
   "outputs": [],
   "source": [
    "test_ad = sms._________(______)\n",
    "nombres_ad=[\"AD\",\"p-valor AD\"]\n",
    "pd.Series(__________, index = _____)"
   ]
  },
  {
   "cell_type": "code",
   "execution_count": null,
   "metadata": {
    "id": "dofAzOQuY3w0"
   },
   "outputs": [],
   "source": [
    "test_ks= sms._________._________(___________)\n",
    "nombres_ks = [\"KS\", \"p-valor KS\"]\n",
    "pd.Series(________, index = _______)"
   ]
  },
  {
   "cell_type": "code",
   "execution_count": null,
   "metadata": {
    "id": "jcXYP7XLY3w1"
   },
   "outputs": [],
   "source": [
    "fig, ax = plt.subplots()\n",
    "probplot = sm.________(________)\n",
    "probplot.________(_______, __________)\n",
    "ax.____________(\"QQ Plot\", _________)\n",
    "print()"
   ]
  },
  {
   "cell_type": "markdown",
   "metadata": {
    "id": "3_hNr4HlY3w1"
   },
   "source": [
    "**Funciones de Probabilidad (Acumulada)**"
   ]
  },
  {
   "cell_type": "code",
   "execution_count": null,
   "metadata": {
    "id": "I4hBR43OY3w1"
   },
   "outputs": [],
   "source": [
    "x = np.______(_________)\n",
    "n = x._____ \n",
    "y = np.arange(1, n+1) / n "
   ]
  },
  {
   "cell_type": "code",
   "execution_count": null,
   "metadata": {
    "id": "cnOCqBncY3w1"
   },
   "outputs": [],
   "source": [
    "residuos_teoricos = np.______.______(loc = np.______(______),\n",
    "scale = np.______(______),\n",
    "size = 10000)"
   ]
  },
  {
   "cell_type": "code",
   "execution_count": null,
   "metadata": {
    "id": "KjmsgMRpY3w1"
   },
   "outputs": [],
   "source": [
    "x_teor = np._____(_______)\n",
    "n_teor = x_teor._______\n",
    "y_teor = np.arange(1, n_teor+1) / n_teor"
   ]
  },
  {
   "cell_type": "code",
   "execution_count": null,
   "metadata": {
    "id": "iWyddScWY3w1"
   },
   "outputs": [],
   "source": [
    "fig, ax = plt.subplots()\n",
    "ax.________(_______, ________, color = \"red\")\n",
    "ax.________(_______,______, color = \"blue\")\n",
    "plt.show()"
   ]
  }
 ],
 "metadata": {
  "colab": {
   "collapsed_sections": [],
   "name": "(4) Supuestos Error MCO.ipynb",
   "provenance": []
  },
  "kernelspec": {
   "display_name": "Python 3",
   "language": "python",
   "name": "python3"
  },
  "language_info": {
   "codemirror_mode": {
    "name": "ipython",
    "version": 3
   },
   "file_extension": ".py",
   "mimetype": "text/x-python",
   "name": "python",
   "nbconvert_exporter": "python",
   "pygments_lexer": "ipython3",
   "version": "3.8.5"
  }
 },
 "nbformat": 4,
 "nbformat_minor": 1
}
