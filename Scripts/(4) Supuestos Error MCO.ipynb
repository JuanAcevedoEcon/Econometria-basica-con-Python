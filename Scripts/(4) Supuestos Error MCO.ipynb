{
 "cells": [
  {
   "cell_type": "markdown",
   "metadata": {
    "id": "CAH3omKoY3wm"
   },
   "source": [
    "**Otras formas de analizar el supuesto de la clase pasada (linealidad y cambio estructural)**"
   ]
  },
  {
   "cell_type": "code",
   "execution_count": 2,
   "metadata": {
    "id": "OjdYAsKtY3wp"
   },
   "outputs": [],
   "source": [
    "import numpy as np\n",
    "import pandas as pd\n",
    "import statsmodels.api as sm\n",
    "import matplotlib.pyplot as plt\n",
    "import seaborn as sns\n",
    "import statsmodels.stats.api as sms"
   ]
  },
  {
   "cell_type": "code",
   "execution_count": 3,
   "metadata": {
    "id": "LahlC5hYY3wq"
   },
   "outputs": [],
   "source": [
    "data=pd.read_csv(r\"C:\\Users\\fcecursos\\Downloads\\Econometria-en-Python-main (1)\\Econometria-en-Python-main\\Bases de datos\\GujaratiPorter71.txt\", delimiter=\"\\t\")"
   ]
  },
  {
   "cell_type": "code",
   "execution_count": 4,
   "metadata": {},
   "outputs": [
    {
     "data": {
      "text/html": [
       "<div>\n",
       "<style scoped>\n",
       "    .dataframe tbody tr th:only-of-type {\n",
       "        vertical-align: middle;\n",
       "    }\n",
       "\n",
       "    .dataframe tbody tr th {\n",
       "        vertical-align: top;\n",
       "    }\n",
       "\n",
       "    .dataframe thead th {\n",
       "        text-align: right;\n",
       "    }\n",
       "</style>\n",
       "<table border=\"1\" class=\"dataframe\">\n",
       "  <thead>\n",
       "    <tr style=\"text-align: right;\">\n",
       "      <th></th>\n",
       "      <th>CM</th>\n",
       "      <th>FLR</th>\n",
       "      <th>PGNP</th>\n",
       "      <th>TFR</th>\n",
       "    </tr>\n",
       "  </thead>\n",
       "  <tbody>\n",
       "    <tr>\n",
       "      <th>0</th>\n",
       "      <td>128</td>\n",
       "      <td>37</td>\n",
       "      <td>1870</td>\n",
       "      <td>6.66</td>\n",
       "    </tr>\n",
       "    <tr>\n",
       "      <th>1</th>\n",
       "      <td>204</td>\n",
       "      <td>22</td>\n",
       "      <td>130</td>\n",
       "      <td>6.15</td>\n",
       "    </tr>\n",
       "    <tr>\n",
       "      <th>2</th>\n",
       "      <td>202</td>\n",
       "      <td>16</td>\n",
       "      <td>310</td>\n",
       "      <td>7.00</td>\n",
       "    </tr>\n",
       "    <tr>\n",
       "      <th>3</th>\n",
       "      <td>197</td>\n",
       "      <td>65</td>\n",
       "      <td>570</td>\n",
       "      <td>6.25</td>\n",
       "    </tr>\n",
       "    <tr>\n",
       "      <th>4</th>\n",
       "      <td>96</td>\n",
       "      <td>76</td>\n",
       "      <td>2050</td>\n",
       "      <td>3.81</td>\n",
       "    </tr>\n",
       "  </tbody>\n",
       "</table>\n",
       "</div>"
      ],
      "text/plain": [
       "    CM  FLR  PGNP   TFR\n",
       "0  128   37  1870  6.66\n",
       "1  204   22   130  6.15\n",
       "2  202   16   310  7.00\n",
       "3  197   65   570  6.25\n",
       "4   96   76  2050  3.81"
      ]
     },
     "execution_count": 4,
     "metadata": {},
     "output_type": "execute_result"
    }
   ],
   "source": [
    "data.head()"
   ]
  },
  {
   "cell_type": "code",
   "execution_count": 5,
   "metadata": {
    "id": "Wa9vkLDZY3wr"
   },
   "outputs": [
    {
     "name": "stdout",
     "output_type": "stream",
     "text": [
      "                            OLS Regression Results                            \n",
      "==============================================================================\n",
      "Dep. Variable:                     CM   R-squared:                       0.708\n",
      "Model:                            OLS   Adj. R-squared:                  0.698\n",
      "Method:                 Least Squares   F-statistic:                     73.83\n",
      "Date:                Thu, 16 Jun 2022   Prob (F-statistic):           5.12e-17\n",
      "Time:                        11:29:16   Log-Likelihood:                -328.10\n",
      "No. Observations:                  64   AIC:                             662.2\n",
      "Df Residuals:                      61   BIC:                             668.7\n",
      "Df Model:                           2                                         \n",
      "Covariance Type:            nonrobust                                         \n",
      "==============================================================================\n",
      "                 coef    std err          t      P>|t|      [0.025      0.975]\n",
      "------------------------------------------------------------------------------\n",
      "const        263.6416     11.593     22.741      0.000     240.460     286.824\n",
      "PGNP          -0.0056      0.002     -2.819      0.006      -0.010      -0.002\n",
      "FLR           -2.2316      0.210    -10.629      0.000      -2.651      -1.812\n",
      "==============================================================================\n",
      "Omnibus:                        0.732   Durbin-Watson:                   2.186\n",
      "Prob(Omnibus):                  0.693   Jarque-Bera (JB):                0.559\n",
      "Skew:                           0.228   Prob(JB):                        0.756\n",
      "Kurtosis:                       2.949   Cond. No.                     6.77e+03\n",
      "==============================================================================\n",
      "\n",
      "Notes:\n",
      "[1] Standard Errors assume that the covariance matrix of the errors is correctly specified.\n",
      "[2] The condition number is large, 6.77e+03. This might indicate that there are\n",
      "strong multicollinearity or other numerical problems.\n"
     ]
    }
   ],
   "source": [
    "modelo = sm.OLS(data[\"CM\"],sm.add_constant(data[[\"PGNP\",\"FLR\"]]))\n",
    "resultados = modelo.fit()\n",
    "print(resultados.summary())"
   ]
  },
  {
   "cell_type": "code",
   "execution_count": 7,
   "metadata": {},
   "outputs": [],
   "source": [
    "residuos = resultados.resid\n",
    "valores_estimados = resultados.predict()"
   ]
  },
  {
   "cell_type": "code",
   "execution_count": 9,
   "metadata": {},
   "outputs": [
    {
     "data": {
      "text/plain": [
       "array([170.51378125, 213.8126422 , 226.18576952, 115.36995402,\n",
       "        82.46555065, 204.49103764, 159.43700917, 197.23162096,\n",
       "       238.41655119, 139.26685789,  62.83064509, 135.82243505,\n",
       "        46.33550355, 187.9688439 ,  85.2594343 ,  77.94355168,\n",
       "       193.41898868, 105.93541756, 165.31182934, 152.65873384,\n",
       "       224.06711569, 184.01150442, 131.04752009,  58.94157934,\n",
       "       197.57041665, 116.1604773 ,  52.44091063, 115.03351989,\n",
       "       151.92231495,  11.07970932,  73.81681435, 209.32241854,\n",
       "       103.27571983, 123.30696208, 193.16371113, 107.20944374,\n",
       "       238.02128956,  55.46065808, 209.46476419, 213.24798272,\n",
       "       236.07203357, 241.69393775, 188.75936718, 219.54747828,\n",
       "        57.49343221, 181.13174106,  66.61622518,  84.32656538,\n",
       "        70.06064802, 188.86993752, 218.70048905, 215.19723871,\n",
       "        62.33189779,  76.8953893 , 160.11696211,  63.47882272,\n",
       "       198.84208126,  26.96532178, 164.74953142, 116.98277588,\n",
       "       161.52624926,  53.45965925, 161.97797684, 110.96324851])"
      ]
     },
     "execution_count": 9,
     "metadata": {},
     "output_type": "execute_result"
    }
   ],
   "source": [
    "valores_estimados"
   ]
  },
  {
   "cell_type": "code",
   "execution_count": 12,
   "metadata": {
    "id": "ZB7abLVtY3wu"
   },
   "outputs": [
    {
     "data": {
      "image/png": "[encoded data removed]",
      "text/plain": [
       "<Figure size 432x288 with 1 Axes>"
      ]
     },
     "metadata": {
      "needs_background": "light"
     },
     "output_type": "display_data"
    }
   ],
   "source": [
    "fig,ax=plt.subplots()\n",
    "ax.scatter(valores_estimados,residuos,color = \"blue\")\n",
    "ax.set_xlabel(\"Valores estimados\")\n",
    "ax.set_ylabel(\"Residuos\")\n",
    "ax.set_title(\"Resiudos vs valores estimados\",fontsize=20)\n",
    "ax.axhline(color=\"red\")\n",
    "plt.show()"
   ]
  },
  {
   "cell_type": "markdown",
   "metadata": {
    "id": "6Tkw7TREY3wu"
   },
   "source": [
    "**Supuesto de Linealidad**"
   ]
  },
  {
   "cell_type": "code",
   "execution_count": 16,
   "metadata": {
    "id": "v5YZmzVbY3wv"
   },
   "outputs": [
    {
     "data": {
      "text/html": [
       "<div>\n",
       "<style scoped>\n",
       "    .dataframe tbody tr th:only-of-type {\n",
       "        vertical-align: middle;\n",
       "    }\n",
       "\n",
       "    .dataframe tbody tr th {\n",
       "        vertical-align: top;\n",
       "    }\n",
       "\n",
       "    .dataframe thead th {\n",
       "        text-align: right;\n",
       "    }\n",
       "</style>\n",
       "<table border=\"1\" class=\"dataframe\">\n",
       "  <thead>\n",
       "    <tr style=\"text-align: right;\">\n",
       "      <th></th>\n",
       "      <th>HC</th>\n",
       "    </tr>\n",
       "  </thead>\n",
       "  <tbody>\n",
       "    <tr>\n",
       "      <th>Estadistico</th>\n",
       "      <td>-0.075064</td>\n",
       "    </tr>\n",
       "    <tr>\n",
       "      <th>p-valor</th>\n",
       "      <td>0.940414</td>\n",
       "    </tr>\n",
       "  </tbody>\n",
       "</table>\n",
       "</div>"
      ],
      "text/plain": [
       "                   HC\n",
       "Estadistico -0.075064\n",
       "p-valor      0.940414"
      ]
     },
     "execution_count": 16,
     "metadata": {},
     "output_type": "execute_result"
    }
   ],
   "source": [
    "resultados_linealidad = sms.linear_harvey_collier(resultados)\n",
    "nombres = [\"Estadistico\",\"p-valor\"]\n",
    "pd.DataFrame(resultados_linealidad, index=nombres, columns=[\"HC\"])"
   ]
  },
  {
   "cell_type": "code",
   "execution_count": 17,
   "metadata": {},
   "outputs": [
    {
     "data": {
      "text/plain": [
       "1.254552017826427e-13"
      ]
     },
     "execution_count": 17,
     "metadata": {},
     "output_type": "execute_result"
    }
   ],
   "source": [
    "np.mean(residuos)"
   ]
  },
  {
   "cell_type": "code",
   "execution_count": 19,
   "metadata": {
    "id": "7aURfOSBY3ww"
   },
   "outputs": [],
   "source": [
    "resultados_rainbow= sms.linear_rainbow(resultados) "
   ]
  },
  {
   "cell_type": "code",
   "execution_count": 20,
   "metadata": {
    "id": "UZoTRrhCY3ww"
   },
   "outputs": [],
   "source": [
    "nombres = [\"Estadístico\",\"p-valor\"]"
   ]
  },
  {
   "cell_type": "code",
   "execution_count": 21,
   "metadata": {
    "id": "HiXBmpgCY3ww"
   },
   "outputs": [
    {
     "data": {
      "text/html": [
       "<div>\n",
       "<style scoped>\n",
       "    .dataframe tbody tr th:only-of-type {\n",
       "        vertical-align: middle;\n",
       "    }\n",
       "\n",
       "    .dataframe tbody tr th {\n",
       "        vertical-align: top;\n",
       "    }\n",
       "\n",
       "    .dataframe thead th {\n",
       "        text-align: right;\n",
       "    }\n",
       "</style>\n",
       "<table border=\"1\" class=\"dataframe\">\n",
       "  <thead>\n",
       "    <tr style=\"text-align: right;\">\n",
       "      <th></th>\n",
       "      <th>Rainbow</th>\n",
       "    </tr>\n",
       "  </thead>\n",
       "  <tbody>\n",
       "    <tr>\n",
       "      <th>Estadístico</th>\n",
       "      <td>0.692622</td>\n",
       "    </tr>\n",
       "    <tr>\n",
       "      <th>p-valor</th>\n",
       "      <td>0.843955</td>\n",
       "    </tr>\n",
       "  </tbody>\n",
       "</table>\n",
       "</div>"
      ],
      "text/plain": [
       "              Rainbow\n",
       "Estadístico  0.692622\n",
       "p-valor      0.843955"
      ]
     },
     "execution_count": 21,
     "metadata": {},
     "output_type": "execute_result"
    }
   ],
   "source": [
    "pd.DataFrame({\"Rainbow\":resultados_rainbow}, index=nombres)"
   ]
  },
  {
   "cell_type": "markdown",
   "metadata": {
    "id": "lzUrC6BnY3wx"
   },
   "source": [
    "**Supuesto 4: Homoscedasticidad**"
   ]
  },
  {
   "cell_type": "code",
   "execution_count": 23,
   "metadata": {
    "id": "Mb3dkiSaY3wx",
    "scrolled": true
   },
   "outputs": [
    {
     "data": {
      "image/png": "[encoded data removed]",
      "text/plain": [
       "<Figure size 432x288 with 1 Axes>"
      ]
     },
     "metadata": {
      "needs_background": "light"
     },
     "output_type": "display_data"
    }
   ],
   "source": [
    "fig, ax = plt.subplots()\n",
    "fig.suptitle(\"Residuos\")\n",
    "ax.plot(residuos) \n",
    "ax.set_xlabel(\"Residuos Observados\")\n",
    "ax.set_ylabel(\"CumSum\")\n",
    "plt.show()"
   ]
  },
  {
   "cell_type": "code",
   "execution_count": 25,
   "metadata": {
    "id": "AvDL5fBgY3wy"
   },
   "outputs": [
    {
     "data": {
      "text/plain": [
       "Estadístico LM    1.591582\n",
       "P-value LM        0.451224\n",
       "Estadístico F     0.777832\n",
       "P-value F         0.463904\n",
       "dtype: float64"
      ]
     },
     "execution_count": 25,
     "metadata": {},
     "output_type": "execute_result"
    }
   ],
   "source": [
    "explicativas = resultados.model.exog\n",
    "resultados_test = sms.het_breuschpagan(residuos, explicativas)\n",
    "nombres_test = [\"Estadístico LM\", \"P-value LM\", \"Estadístico F\", \"P-value F\"]\n",
    "pd.Series(resultados_test, index = nombres_test)"
   ]
  },
  {
   "cell_type": "code",
   "execution_count": 26,
   "metadata": {
    "id": "iBiHkJj0Y3wy"
   },
   "outputs": [
    {
     "data": {
      "text/html": [
       "<div>\n",
       "<style scoped>\n",
       "    .dataframe tbody tr th:only-of-type {\n",
       "        vertical-align: middle;\n",
       "    }\n",
       "\n",
       "    .dataframe tbody tr th {\n",
       "        vertical-align: top;\n",
       "    }\n",
       "\n",
       "    .dataframe thead th {\n",
       "        text-align: right;\n",
       "    }\n",
       "</style>\n",
       "<table border=\"1\" class=\"dataframe\">\n",
       "  <thead>\n",
       "    <tr style=\"text-align: right;\">\n",
       "      <th></th>\n",
       "      <th>BP</th>\n",
       "    </tr>\n",
       "  </thead>\n",
       "  <tbody>\n",
       "    <tr>\n",
       "      <th>Estadístico LM</th>\n",
       "      <td>1.591582</td>\n",
       "    </tr>\n",
       "    <tr>\n",
       "      <th>P-value LM</th>\n",
       "      <td>0.451224</td>\n",
       "    </tr>\n",
       "    <tr>\n",
       "      <th>Estadístico F</th>\n",
       "      <td>0.777832</td>\n",
       "    </tr>\n",
       "    <tr>\n",
       "      <th>P-value F</th>\n",
       "      <td>0.463904</td>\n",
       "    </tr>\n",
       "  </tbody>\n",
       "</table>\n",
       "</div>"
      ],
      "text/plain": [
       "                      BP\n",
       "Estadístico LM  1.591582\n",
       "P-value LM      0.451224\n",
       "Estadístico F   0.777832\n",
       "P-value F       0.463904"
      ]
     },
     "execution_count": 26,
     "metadata": {},
     "output_type": "execute_result"
    }
   ],
   "source": [
    "pd.DataFrame({\"BP\":resultados_test}, index = nombres_test)"
   ]
  },
  {
   "cell_type": "code",
   "execution_count": 27,
   "metadata": {
    "id": "BmQk6tZcY3wy"
   },
   "outputs": [
    {
     "data": {
      "text/html": [
       "<div>\n",
       "<style scoped>\n",
       "    .dataframe tbody tr th:only-of-type {\n",
       "        vertical-align: middle;\n",
       "    }\n",
       "\n",
       "    .dataframe tbody tr th {\n",
       "        vertical-align: top;\n",
       "    }\n",
       "\n",
       "    .dataframe thead th {\n",
       "        text-align: right;\n",
       "    }\n",
       "</style>\n",
       "<table border=\"1\" class=\"dataframe\">\n",
       "  <thead>\n",
       "    <tr style=\"text-align: right;\">\n",
       "      <th></th>\n",
       "      <th>BreushPagan</th>\n",
       "    </tr>\n",
       "  </thead>\n",
       "  <tbody>\n",
       "    <tr>\n",
       "      <th>Estadístico LM</th>\n",
       "      <td>1.591582</td>\n",
       "    </tr>\n",
       "    <tr>\n",
       "      <th>P-value LM</th>\n",
       "      <td>0.451224</td>\n",
       "    </tr>\n",
       "    <tr>\n",
       "      <th>Estadístico F</th>\n",
       "      <td>0.777832</td>\n",
       "    </tr>\n",
       "    <tr>\n",
       "      <th>P-value F</th>\n",
       "      <td>0.463904</td>\n",
       "    </tr>\n",
       "  </tbody>\n",
       "</table>\n",
       "</div>"
      ],
      "text/plain": [
       "                BreushPagan\n",
       "Estadístico LM     1.591582\n",
       "P-value LM         0.451224\n",
       "Estadístico F      0.777832\n",
       "P-value F          0.463904"
      ]
     },
     "execution_count": 27,
     "metadata": {},
     "output_type": "execute_result"
    }
   ],
   "source": [
    "pd.DataFrame(pd.Series(resultados_test, index = nombres_test), columns = [\"BreushPagan\"])"
   ]
  },
  {
   "cell_type": "code",
   "execution_count": 28,
   "metadata": {
    "id": "LWoqzenyY3wy"
   },
   "outputs": [
    {
     "data": {
      "text/plain": [
       "Estadístico LM    2.356718\n",
       "P-value LM        0.797902\n",
       "Estadístico F     0.443486\n",
       "P-value F         0.816252\n",
       "dtype: float64"
      ]
     },
     "execution_count": 28,
     "metadata": {},
     "output_type": "execute_result"
    }
   ],
   "source": [
    "test_white = sms.het_white(residuos,explicativas)\n",
    "nombres_test = [\"Estadístico LM\", \"P-value LM\", \"Estadístico F\", \"P-value F\"]\n",
    "pd.Series(test_white, index = nombres_test)"
   ]
  },
  {
   "cell_type": "markdown",
   "metadata": {
    "id": "LKEDG7uGY3wz"
   },
   "source": [
    "**Supuesto de No Autocorrelación**"
   ]
  },
  {
   "cell_type": "code",
   "execution_count": 29,
   "metadata": {
    "id": "v0wgZcRMY3wz"
   },
   "outputs": [
    {
     "data": {
      "text/plain": [
       "Estadístico DW    2.186159\n",
       "dtype: float64"
      ]
     },
     "execution_count": 29,
     "metadata": {},
     "output_type": "execute_result"
    }
   ],
   "source": [
    "test_dw = sms.durbin_watson(residuos)\n",
    "nombres_dw = [\"Estadístico DW\"]\n",
    "pd.Series(test_dw,nombres_dw)"
   ]
  },
  {
   "cell_type": "code",
   "execution_count": 33,
   "metadata": {
    "id": "FEO5G5xRY3wz"
   },
   "outputs": [
    {
     "data": {
      "text/plain": [
       "Estadístico LM    0.728605\n",
       "P-value LM        0.393336\n",
       "Estadístico F     0.690933\n",
       "P-value F         0.409143\n",
       "dtype: float64"
      ]
     },
     "execution_count": 33,
     "metadata": {},
     "output_type": "execute_result"
    }
   ],
   "source": [
    "test_breush = sms.acorr_breusch_godfrey(resultados,nlags=1)\n",
    "pd.Series(test_breush, index = nombres_test)"
   ]
  },
  {
   "cell_type": "code",
   "execution_count": 50,
   "metadata": {
    "id": "9WjeeuGPY3wz"
   },
   "outputs": [
    {
     "data": {
      "text/html": [
       "<div>\n",
       "<style scoped>\n",
       "    .dataframe tbody tr th:only-of-type {\n",
       "        vertical-align: middle;\n",
       "    }\n",
       "\n",
       "    .dataframe tbody tr th {\n",
       "        vertical-align: top;\n",
       "    }\n",
       "\n",
       "    .dataframe thead th {\n",
       "        text-align: right;\n",
       "    }\n",
       "</style>\n",
       "<table border=\"1\" class=\"dataframe\">\n",
       "  <thead>\n",
       "    <tr style=\"text-align: right;\">\n",
       "      <th></th>\n",
       "      <th>lb_stat</th>\n",
       "      <th>lb_pvalue</th>\n",
       "      <th>bp_stat</th>\n",
       "      <th>bp_pvalue</th>\n",
       "    </tr>\n",
       "  </thead>\n",
       "  <tbody>\n",
       "    <tr>\n",
       "      <th>1</th>\n",
       "      <td>0.754915</td>\n",
       "      <td>0.384924</td>\n",
       "      <td>0.720601</td>\n",
       "      <td>0.395947</td>\n",
       "    </tr>\n",
       "  </tbody>\n",
       "</table>\n",
       "</div>"
      ],
      "text/plain": [
       "    lb_stat  lb_pvalue   bp_stat  bp_pvalue\n",
       "1  0.754915   0.384924  0.720601   0.395947"
      ]
     },
     "execution_count": 50,
     "metadata": {},
     "output_type": "execute_result"
    }
   ],
   "source": [
    "test_jungbox= sms.acorr_ljungbox(residuos, lags=1, boxpierce=True)\n",
    "test_jungbox"
   ]
  },
  {
   "cell_type": "markdown",
   "metadata": {
    "id": "OyCYI9SwY3w0"
   },
   "source": [
    "**Supuesto de normalidad**"
   ]
  },
  {
   "cell_type": "code",
   "execution_count": 51,
   "metadata": {
    "id": "CppAlmYJY3w0"
   },
   "outputs": [
    {
     "data": {
      "text/plain": [
       "JB           0.559405\n",
       "p-value      0.756009\n",
       "Asimetría    0.227575\n",
       "Curtosis     2.948855\n",
       "dtype: float64"
      ]
     },
     "execution_count": 51,
     "metadata": {},
     "output_type": "execute_result"
    }
   ],
   "source": [
    "test_jb= sms.jarque_bera(residuos)\n",
    "nombres_jb = [\"JB\", \"p-value\",\"Asimetría\",\"Curtosis\"]\n",
    "pd.Series(test_jb, index =nombres_jb)"
   ]
  },
  {
   "cell_type": "code",
   "execution_count": 53,
   "metadata": {
    "id": "mawE9cB1Y3w0"
   },
   "outputs": [
    {
     "data": {
      "text/plain": [
       "AD            0.329856\n",
       "p-valor AD    0.508773\n",
       "dtype: float64"
      ]
     },
     "execution_count": 53,
     "metadata": {},
     "output_type": "execute_result"
    }
   ],
   "source": [
    "test_ad = sms.normal_ad(residuos)\n",
    "nombres_ad=[\"AD\",\"p-valor AD\"]\n",
    "pd.Series(test_ad, index = nombres_ad)"
   ]
  },
  {
   "cell_type": "code",
   "execution_count": 54,
   "metadata": {
    "id": "dofAzOQuY3w0"
   },
   "outputs": [
    {
     "data": {
      "text/plain": [
       "KS            0.081275\n",
       "p-valor KS    0.426935\n",
       "dtype: float64"
      ]
     },
     "execution_count": 54,
     "metadata": {},
     "output_type": "execute_result"
    }
   ],
   "source": [
    "test_ks= sms.diagnostic.kstest_normal(residuos)\n",
    "nombres_ks = [\"KS\", \"p-valor KS\"]\n",
    "pd.Series(test_ks, index = nombres_ks)"
   ]
  },
  {
   "cell_type": "code",
   "execution_count": 60,
   "metadata": {
    "id": "jcXYP7XLY3w1"
   },
   "outputs": [
    {
     "data": {
      "image/png": "[encoded data removed]",
      "text/plain": [
       "<Figure size 432x288 with 1 Axes>"
      ]
     },
     "metadata": {
      "needs_background": "light"
     },
     "output_type": "display_data"
    }
   ],
   "source": [
    "fig, ax = plt.subplots()\n",
    "probplot = sm.ProbPlot(residuos)\n",
    "probplot.qqplot(line = \"s\", ax = ax)\n",
    "ax.set_title(\"QQ Plot\", color = \"darkblue\");"
   ]
  },
  {
   "cell_type": "markdown",
   "metadata": {
    "id": "3_hNr4HlY3w1"
   },
   "source": [
    "**Funciones de Probabilidad (Acumulada)**"
   ]
  },
  {
   "cell_type": "code",
   "execution_count": 61,
   "metadata": {
    "id": "I4hBR43OY3w1"
   },
   "outputs": [],
   "source": [
    "x = np.sort(residuos)\n",
    "n = x.size\n",
    "y = np.arange(1, n+1) / n "
   ]
  },
  {
   "cell_type": "code",
   "execution_count": 65,
   "metadata": {
    "collapsed": true,
    "id": "cnOCqBncY3w1"
   },
   "outputs": [
    {
     "data": {
      "text/plain": [
       "array([ 17.76373089,  17.14040151, -28.07754662, ...,  42.5950846 ,\n",
       "        -9.02010049,  11.4027263 ])"
      ]
     },
     "execution_count": 65,
     "metadata": {},
     "output_type": "execute_result"
    }
   ],
   "source": [
    "residuos_teoricos = np.random.normal(loc = np.mean(residuos),\n",
    "scale = np.std(residuos),\n",
    "size = 10000)\n",
    "\n",
    "residuos_teoricos"
   ]
  },
  {
   "cell_type": "code",
   "execution_count": 66,
   "metadata": {
    "id": "KjmsgMRpY3w1"
   },
   "outputs": [],
   "source": [
    "x_teor = np.sort(residuos_teoricos)\n",
    "n_teor = x_teor.size\n",
    "y_teor = np.arange(1, n_teor+1) / n_teor"
   ]
  },
  {
   "cell_type": "code",
   "execution_count": 68,
   "metadata": {
    "id": "iWyddScWY3w1"
   },
   "outputs": [
    {
     "data": {
      "image/png": "[encoded data removed]",
      "text/plain": [
       "<Figure size 432x288 with 1 Axes>"
      ]
     },
     "metadata": {
      "needs_background": "light"
     },
     "output_type": "display_data"
    }
   ],
   "source": [
    "fig, ax = plt.subplots()\n",
    "ax.plot(x_teor, y_teor, color = \"red\")\n",
    "ax.scatter(x,y, color = \"blue\")\n",
    "plt.show()"
   ]
  }
 ],
 "metadata": {
  "colab": {
   "collapsed_sections": [],
   "name": "(4) Supuestos Error MCO.ipynb",
   "provenance": []
  },
  "kernelspec": {
   "display_name": "Python 3 (ipykernel)",
   "language": "python",
   "name": "python3"
  },
  "language_info": {
   "codemirror_mode": {
    "name": "ipython",
    "version": 3
   },
   "file_extension": ".py",
   "mimetype": "text/x-python",
   "name": "python",
   "nbconvert_exporter": "python",
   "pygments_lexer": "ipython3",
   "version": "3.9.12"
  }
 },
 "nbformat": 4,
 "nbformat_minor": 1
}
