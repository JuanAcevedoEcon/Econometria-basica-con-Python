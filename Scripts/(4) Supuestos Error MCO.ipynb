{
 "cells": [
  {
   "cell_type": "markdown",
   "metadata": {},
   "source": [
    "**Otras formas de analizar el supuesto de la clase pasada (linealidad y cambio estructural)**"
   ]
  },
  {
   "cell_type": "code",
   "execution_count": 1,
   "metadata": {},
   "outputs": [],
   "source": [
    "import numpy as np\n",
    "import pandas as pd\n",
    "import statsmodels.api as sm\n",
    "import matplotlib.pyplot as plt\n",
    "import seaborn as sns\n",
    "import statsmodels.stats.api as sms"
   ]
  },
  {
   "cell_type": "code",
   "execution_count": 2,
   "metadata": {},
   "outputs": [],
   "source": [
    "data=pd.read_csv(\"C:/Users/57317/Desktop/Universidad Nacional/Programación/Python/Curso Econometría básica con Python/Bases de datos/GujaratiPorter71.txt\", delimiter=\"\\t\")"
   ]
  },
  {
   "cell_type": "code",
   "execution_count": 3,
   "metadata": {},
   "outputs": [
    {
     "name": "stdout",
     "output_type": "stream",
     "text": [
      "                            OLS Regression Results                            \n",
      "==============================================================================\n",
      "Dep. Variable:                     CM   R-squared:                       0.708\n",
      "Model:                            OLS   Adj. R-squared:                  0.698\n",
      "Method:                 Least Squares   F-statistic:                     73.83\n",
      "Date:                Mon, 19 Apr 2021   Prob (F-statistic):           5.12e-17\n",
      "Time:                        16:26:32   Log-Likelihood:                -328.10\n",
      "No. Observations:                  64   AIC:                             662.2\n",
      "Df Residuals:                      61   BIC:                             668.7\n",
      "Df Model:                           2                                         \n",
      "Covariance Type:            nonrobust                                         \n",
      "==============================================================================\n",
      "                 coef    std err          t      P>|t|      [0.025      0.975]\n",
      "------------------------------------------------------------------------------\n",
      "const        263.6416     11.593     22.741      0.000     240.460     286.824\n",
      "PGNP          -0.0056      0.002     -2.819      0.006      -0.010      -0.002\n",
      "FLR           -2.2316      0.210    -10.629      0.000      -2.651      -1.812\n",
      "==============================================================================\n",
      "Omnibus:                        0.732   Durbin-Watson:                   2.186\n",
      "Prob(Omnibus):                  0.693   Jarque-Bera (JB):                0.559\n",
      "Skew:                           0.228   Prob(JB):                        0.756\n",
      "Kurtosis:                       2.949   Cond. No.                     6.77e+03\n",
      "==============================================================================\n",
      "\n",
      "Notes:\n",
      "[1] Standard Errors assume that the covariance matrix of the errors is correctly specified.\n",
      "[2] The condition number is large, 6.77e+03. This might indicate that there are\n",
      "strong multicollinearity or other numerical problems.\n"
     ]
    }
   ],
   "source": [
    "Modelo1=sm.OLS(data[\"CM\"],sm.add_constant(data[[\"PGNP\",\"FLR\"]]))\n",
    "Resultados1=Modelo1.fit()\n",
    "print(Resultados1.summary())"
   ]
  },
  {
   "cell_type": "markdown",
   "metadata": {},
   "source": [
    "**Supuesto de Cambio Estructural**"
   ]
  },
  {
   "cell_type": "code",
   "execution_count": 4,
   "metadata": {},
   "outputs": [],
   "source": [
    "Valores_estimados=Resultados1.predict()\n",
    "Residuos=Resultados1.resid"
   ]
  },
  {
   "cell_type": "code",
   "execution_count": 5,
   "metadata": {},
   "outputs": [],
   "source": [
    "CambioEstructural = sms.breaks_cusumolsresid(Residuos) # Prueba de cambio estructural con residuos de MCO\n",
    "NombresCE = [\"Estadístico\", \"P-valor\", \"Valores Críticos\"]"
   ]
  },
  {
   "cell_type": "code",
   "execution_count": 6,
   "metadata": {},
   "outputs": [
    {
     "data": {
      "text/html": [
       "<div>\n",
       "<style scoped>\n",
       "    .dataframe tbody tr th:only-of-type {\n",
       "        vertical-align: middle;\n",
       "    }\n",
       "\n",
       "    .dataframe tbody tr th {\n",
       "        vertical-align: top;\n",
       "    }\n",
       "\n",
       "    .dataframe thead th {\n",
       "        text-align: right;\n",
       "    }\n",
       "</style>\n",
       "<table border=\"1\" class=\"dataframe\">\n",
       "  <thead>\n",
       "    <tr style=\"text-align: right;\">\n",
       "      <th></th>\n",
       "      <th>CUSUM</th>\n",
       "    </tr>\n",
       "  </thead>\n",
       "  <tbody>\n",
       "    <tr>\n",
       "      <th>Estadístico</th>\n",
       "      <td>0.519197</td>\n",
       "    </tr>\n",
       "    <tr>\n",
       "      <th>P-valor</th>\n",
       "      <td>0.950323</td>\n",
       "    </tr>\n",
       "    <tr>\n",
       "      <th>Valores Críticos</th>\n",
       "      <td>[(1, 1.63), (5, 1.36), (10, 1.22)]</td>\n",
       "    </tr>\n",
       "  </tbody>\n",
       "</table>\n",
       "</div>"
      ],
      "text/plain": [
       "                                               CUSUM\n",
       "Estadístico                                 0.519197\n",
       "P-valor                                     0.950323\n",
       "Valores Críticos  [(1, 1.63), (5, 1.36), (10, 1.22)]"
      ]
     },
     "execution_count": 6,
     "metadata": {},
     "output_type": "execute_result"
    }
   ],
   "source": [
    "pd.DataFrame({\"CUSUM\" : CambioEstructural}, index=NombresCE) # Ho = No hay Cambio estructural "
   ]
  },
  {
   "cell_type": "markdown",
   "metadata": {},
   "source": [
    "## Análisis sobre los errores del modelo"
   ]
  },
  {
   "cell_type": "code",
   "execution_count": 7,
   "metadata": {},
   "outputs": [
    {
     "data": {
      "image/png": "[encoded data removed]",
      "text/plain": [
       "<Figure size 432x288 with 1 Axes>"
      ]
     },
     "metadata": {
      "needs_background": "light"
     },
     "output_type": "display_data"
    }
   ],
   "source": [
    "fig,ax=plt.subplots()\n",
    "ax.scatter(Valores_estimados,Residuos,color=\"blue\")\n",
    "ax.set_xlabel(\"Valores estimados\")\n",
    "ax.set_ylabel(\"Residuos\")\n",
    "ax.set_title(\"Residuos vs Valores estimados\",fontsize=20)\n",
    "ax.axhline(color = \"red\")\n",
    "plt.show()"
   ]
  },
  {
   "cell_type": "markdown",
   "metadata": {},
   "source": [
    "**Supuesto de Linealidad**"
   ]
  },
  {
   "cell_type": "code",
   "execution_count": 8,
   "metadata": {},
   "outputs": [
    {
     "data": {
      "text/plain": [
       "Estadistico   -0.075064\n",
       "p-valor        0.940414\n",
       "dtype: float64"
      ]
     },
     "execution_count": 8,
     "metadata": {},
     "output_type": "execute_result"
    }
   ],
   "source": [
    "# H0 = Linealidad\n",
    "\n",
    "ResultadosTest = sms.linear_harvey_collier(Resultados1)\n",
    "Nombres = [\"Estadistico\",\"p-valor\"]\n",
    "pd.Series(ResultadosTest, index =Nombres)"
   ]
  },
  {
   "cell_type": "code",
   "execution_count": 9,
   "metadata": {
    "scrolled": false
   },
   "outputs": [
    {
     "data": {
      "text/html": [
       "<div>\n",
       "<style scoped>\n",
       "    .dataframe tbody tr th:only-of-type {\n",
       "        vertical-align: middle;\n",
       "    }\n",
       "\n",
       "    .dataframe tbody tr th {\n",
       "        vertical-align: top;\n",
       "    }\n",
       "\n",
       "    .dataframe thead th {\n",
       "        text-align: right;\n",
       "    }\n",
       "</style>\n",
       "<table border=\"1\" class=\"dataframe\">\n",
       "  <thead>\n",
       "    <tr style=\"text-align: right;\">\n",
       "      <th></th>\n",
       "      <th>Harvey-Collier</th>\n",
       "    </tr>\n",
       "  </thead>\n",
       "  <tbody>\n",
       "    <tr>\n",
       "      <th>Estadistico</th>\n",
       "      <td>-0.075064</td>\n",
       "    </tr>\n",
       "    <tr>\n",
       "      <th>p-valor</th>\n",
       "      <td>0.940414</td>\n",
       "    </tr>\n",
       "  </tbody>\n",
       "</table>\n",
       "</div>"
      ],
      "text/plain": [
       "             Harvey-Collier\n",
       "Estadistico       -0.075064\n",
       "p-valor            0.940414"
      ]
     },
     "execution_count": 9,
     "metadata": {},
     "output_type": "execute_result"
    }
   ],
   "source": [
    "pd.DataFrame(pd.Series(ResultadosTest, index =Nombres), columns = [\"Harvey-Collier\"])"
   ]
  },
  {
   "cell_type": "code",
   "execution_count": 10,
   "metadata": {},
   "outputs": [
    {
     "data": {
      "text/html": [
       "<div>\n",
       "<style scoped>\n",
       "    .dataframe tbody tr th:only-of-type {\n",
       "        vertical-align: middle;\n",
       "    }\n",
       "\n",
       "    .dataframe tbody tr th {\n",
       "        vertical-align: top;\n",
       "    }\n",
       "\n",
       "    .dataframe thead th {\n",
       "        text-align: right;\n",
       "    }\n",
       "</style>\n",
       "<table border=\"1\" class=\"dataframe\">\n",
       "  <thead>\n",
       "    <tr style=\"text-align: right;\">\n",
       "      <th></th>\n",
       "      <th>Harvey-Collier</th>\n",
       "    </tr>\n",
       "  </thead>\n",
       "  <tbody>\n",
       "    <tr>\n",
       "      <th>Estadistico</th>\n",
       "      <td>-0.075064</td>\n",
       "    </tr>\n",
       "    <tr>\n",
       "      <th>p-valor</th>\n",
       "      <td>0.940414</td>\n",
       "    </tr>\n",
       "  </tbody>\n",
       "</table>\n",
       "</div>"
      ],
      "text/plain": [
       "             Harvey-Collier\n",
       "Estadistico       -0.075064\n",
       "p-valor            0.940414"
      ]
     },
     "execution_count": 10,
     "metadata": {},
     "output_type": "execute_result"
    }
   ],
   "source": [
    "pd.DataFrame({\"Harvey-Collier\":ResultadosTest}, index = Nombres)"
   ]
  },
  {
   "cell_type": "code",
   "execution_count": 11,
   "metadata": {},
   "outputs": [],
   "source": [
    "ResultadosRainbow= sms.linear_rainbow(Resultados1)"
   ]
  },
  {
   "cell_type": "code",
   "execution_count": 12,
   "metadata": {},
   "outputs": [],
   "source": [
    "Nombres2 = [\"Estadístico\",\"p-valor\"]"
   ]
  },
  {
   "cell_type": "code",
   "execution_count": 13,
   "metadata": {},
   "outputs": [
    {
     "data": {
      "text/html": [
       "<div>\n",
       "<style scoped>\n",
       "    .dataframe tbody tr th:only-of-type {\n",
       "        vertical-align: middle;\n",
       "    }\n",
       "\n",
       "    .dataframe tbody tr th {\n",
       "        vertical-align: top;\n",
       "    }\n",
       "\n",
       "    .dataframe thead th {\n",
       "        text-align: right;\n",
       "    }\n",
       "</style>\n",
       "<table border=\"1\" class=\"dataframe\">\n",
       "  <thead>\n",
       "    <tr style=\"text-align: right;\">\n",
       "      <th></th>\n",
       "      <th>Rainbow</th>\n",
       "    </tr>\n",
       "  </thead>\n",
       "  <tbody>\n",
       "    <tr>\n",
       "      <th>Estadístico</th>\n",
       "      <td>0.692622</td>\n",
       "    </tr>\n",
       "    <tr>\n",
       "      <th>p-valor</th>\n",
       "      <td>0.843955</td>\n",
       "    </tr>\n",
       "  </tbody>\n",
       "</table>\n",
       "</div>"
      ],
      "text/plain": [
       "              Rainbow\n",
       "Estadístico  0.692622\n",
       "p-valor      0.843955"
      ]
     },
     "execution_count": 13,
     "metadata": {},
     "output_type": "execute_result"
    }
   ],
   "source": [
    "pd.DataFrame({\"Rainbow\":ResultadosRainbow}, index = Nombres2) # Ho = linealidad"
   ]
  },
  {
   "cell_type": "markdown",
   "metadata": {},
   "source": [
    "### Media de los residuos"
   ]
  },
  {
   "cell_type": "code",
   "execution_count": 14,
   "metadata": {},
   "outputs": [
    {
     "data": {
      "text/plain": [
       "1.254552017826427e-13"
      ]
     },
     "execution_count": 14,
     "metadata": {},
     "output_type": "execute_result"
    }
   ],
   "source": [
    "np.mean(Residuos)"
   ]
  },
  {
   "cell_type": "markdown",
   "metadata": {},
   "source": [
    "**Supuesto 4: Homoscedasticidad**"
   ]
  },
  {
   "cell_type": "code",
   "execution_count": 15,
   "metadata": {
    "scrolled": true
   },
   "outputs": [
    {
     "data": {
      "image/png": "[encoded data removed]",
      "text/plain": [
       "<Figure size 432x288 with 1 Axes>"
      ]
     },
     "metadata": {
      "needs_background": "light"
     },
     "output_type": "display_data"
    }
   ],
   "source": [
    "fig, ax = plt.subplots()\n",
    "fig.suptitle(\"Residuos\")\n",
    "ax.plot(Residuos)\n",
    "ax.set_xlabel(\"Observaciones\")\n",
    "ax.set_ylabel(\"Observaciones\")\n",
    "plt.show()"
   ]
  },
  {
   "cell_type": "code",
   "execution_count": 16,
   "metadata": {},
   "outputs": [
    {
     "data": {
      "text/plain": [
       "Estadístico LM    1.591582\n",
       "P-value LM        0.451224\n",
       "Estadístico F     0.777832\n",
       "P-value F         0.463904\n",
       "dtype: float64"
      ]
     },
     "execution_count": 16,
     "metadata": {},
     "output_type": "execute_result"
    }
   ],
   "source": [
    "Explicativas = Resultados1.model.exog\n",
    "Test = sms.het_breuschpagan(Residuos,Explicativas)\n",
    "NombresTest = [\"Estadístico LM\", \"P-value LM\", \"Estadístico F\", \"P-value F\"] \n",
    "pd.Series(Test, index = NombresTest) \n",
    "\n",
    "# Ho = homoscedasticidad"
   ]
  },
  {
   "cell_type": "code",
   "execution_count": 17,
   "metadata": {},
   "outputs": [
    {
     "data": {
      "text/html": [
       "<div>\n",
       "<style scoped>\n",
       "    .dataframe tbody tr th:only-of-type {\n",
       "        vertical-align: middle;\n",
       "    }\n",
       "\n",
       "    .dataframe tbody tr th {\n",
       "        vertical-align: top;\n",
       "    }\n",
       "\n",
       "    .dataframe thead th {\n",
       "        text-align: right;\n",
       "    }\n",
       "</style>\n",
       "<table border=\"1\" class=\"dataframe\">\n",
       "  <thead>\n",
       "    <tr style=\"text-align: right;\">\n",
       "      <th></th>\n",
       "      <th>BreushPagan</th>\n",
       "    </tr>\n",
       "  </thead>\n",
       "  <tbody>\n",
       "    <tr>\n",
       "      <th>Estadístico LM</th>\n",
       "      <td>1.591582</td>\n",
       "    </tr>\n",
       "    <tr>\n",
       "      <th>P-value LM</th>\n",
       "      <td>0.451224</td>\n",
       "    </tr>\n",
       "    <tr>\n",
       "      <th>Estadístico F</th>\n",
       "      <td>0.777832</td>\n",
       "    </tr>\n",
       "    <tr>\n",
       "      <th>P-value F</th>\n",
       "      <td>0.463904</td>\n",
       "    </tr>\n",
       "  </tbody>\n",
       "</table>\n",
       "</div>"
      ],
      "text/plain": [
       "                BreushPagan\n",
       "Estadístico LM     1.591582\n",
       "P-value LM         0.451224\n",
       "Estadístico F      0.777832\n",
       "P-value F          0.463904"
      ]
     },
     "execution_count": 17,
     "metadata": {},
     "output_type": "execute_result"
    }
   ],
   "source": [
    "pd.DataFrame({\"BreushPagan\":Test}, index = NombresTest)"
   ]
  },
  {
   "cell_type": "code",
   "execution_count": 18,
   "metadata": {},
   "outputs": [
    {
     "data": {
      "text/html": [
       "<div>\n",
       "<style scoped>\n",
       "    .dataframe tbody tr th:only-of-type {\n",
       "        vertical-align: middle;\n",
       "    }\n",
       "\n",
       "    .dataframe tbody tr th {\n",
       "        vertical-align: top;\n",
       "    }\n",
       "\n",
       "    .dataframe thead th {\n",
       "        text-align: right;\n",
       "    }\n",
       "</style>\n",
       "<table border=\"1\" class=\"dataframe\">\n",
       "  <thead>\n",
       "    <tr style=\"text-align: right;\">\n",
       "      <th></th>\n",
       "      <th>BreushPagan</th>\n",
       "    </tr>\n",
       "  </thead>\n",
       "  <tbody>\n",
       "    <tr>\n",
       "      <th>Estadístico LM</th>\n",
       "      <td>1.591582</td>\n",
       "    </tr>\n",
       "    <tr>\n",
       "      <th>P-value LM</th>\n",
       "      <td>0.451224</td>\n",
       "    </tr>\n",
       "    <tr>\n",
       "      <th>Estadístico F</th>\n",
       "      <td>0.777832</td>\n",
       "    </tr>\n",
       "    <tr>\n",
       "      <th>P-value F</th>\n",
       "      <td>0.463904</td>\n",
       "    </tr>\n",
       "  </tbody>\n",
       "</table>\n",
       "</div>"
      ],
      "text/plain": [
       "                BreushPagan\n",
       "Estadístico LM     1.591582\n",
       "P-value LM         0.451224\n",
       "Estadístico F      0.777832\n",
       "P-value F          0.463904"
      ]
     },
     "execution_count": 18,
     "metadata": {},
     "output_type": "execute_result"
    }
   ],
   "source": [
    "pd.DataFrame(pd.Series(Test, index =NombresTest), columns = [\"BreushPagan\"])"
   ]
  },
  {
   "cell_type": "code",
   "execution_count": 19,
   "metadata": {},
   "outputs": [
    {
     "data": {
      "text/plain": [
       "Estadístico LM    2.356718\n",
       "P-value LM        0.797902\n",
       "Estadístico F     0.443486\n",
       "P-value F         0.816252\n",
       "dtype: float64"
      ]
     },
     "execution_count": 19,
     "metadata": {},
     "output_type": "execute_result"
    }
   ],
   "source": [
    "TestWhite = sms.het_white(Residuos,Explicativas)\n",
    "NombresTest = [\"Estadístico LM\", \"P-value LM\", \"Estadístico F\", \"P-value F\"]\n",
    "pd.Series(TestWhite, index = NombresTest)"
   ]
  },
  {
   "cell_type": "markdown",
   "metadata": {},
   "source": [
    "**Supuesto de No Autocorrelación**"
   ]
  },
  {
   "cell_type": "code",
   "execution_count": 20,
   "metadata": {},
   "outputs": [
    {
     "data": {
      "text/plain": [
       "Estadístico DW    2.186159\n",
       "dtype: float64"
      ]
     },
     "execution_count": 20,
     "metadata": {},
     "output_type": "execute_result"
    }
   ],
   "source": [
    "ResultadosDW = sms.durbin_watson(Residuos)\n",
    "NombresDW= [\"Estadístico DW\"]\n",
    "pd.Series(ResultadosDW, NombresDW)"
   ]
  },
  {
   "cell_type": "code",
   "execution_count": 21,
   "metadata": {},
   "outputs": [
    {
     "data": {
      "text/plain": [
       "Estadístico LM    0.950231\n",
       "P-value LM        0.621813\n",
       "Estadístico F     0.444598\n",
       "P-value F         0.643212\n",
       "dtype: float64"
      ]
     },
     "execution_count": 21,
     "metadata": {},
     "output_type": "execute_result"
    }
   ],
   "source": [
    "ResultadoBreush = sms.acorr_breusch_godfrey(Resultados1, nlags = 2)\n",
    "NombresTest = [\"Estadístico LM\", \"P-value LM\", \"Estadístico F\", \"P-value F\"]\n",
    "pd.Series(ResultadoBreush, index = NombresTest)"
   ]
  },
  {
   "cell_type": "code",
   "execution_count": 22,
   "metadata": {},
   "outputs": [
    {
     "name": "stderr",
     "output_type": "stream",
     "text": [
      "C:\\Users\\57317\\anaconda3\\lib\\site-packages\\statsmodels\\stats\\diagnostic.py:559: FutureWarning: The value returned will change to a single DataFrame after 0.12 is released.  Set return_df to True to use to return a DataFrame now.  Set return_df to False to silence this warning.\n",
      "  warnings.warn(msg, FutureWarning)\n"
     ]
    },
    {
     "data": {
      "text/plain": [
       "Estadístico LB    [0.7549153999366602]\n",
       "p-value LB        [0.3849244343516546]\n",
       "Estadístico BP    [0.7206010635759029]\n",
       "p-value BP        [0.3959468201677663]\n",
       "dtype: object"
      ]
     },
     "execution_count": 22,
     "metadata": {},
     "output_type": "execute_result"
    }
   ],
   "source": [
    "ResultadosJungBox= sms.acorr_ljungbox(Residuos, lags = 1, \n",
    "                                       boxpierce = True)\n",
    "NombresJB = [\"Estadístico LB\", \"p-value LB\", \"Estadístico BP\", \"p-value BP\"]\n",
    "pd.Series(ResultadosJungBox,NombresJB)"
   ]
  },
  {
   "cell_type": "markdown",
   "metadata": {},
   "source": [
    "**Supuesto de normalidad**"
   ]
  },
  {
   "cell_type": "code",
   "execution_count": 23,
   "metadata": {},
   "outputs": [],
   "source": [
    "# Las Ho = no normalidad"
   ]
  },
  {
   "cell_type": "code",
   "execution_count": 25,
   "metadata": {},
   "outputs": [
    {
     "data": {
      "text/plain": [
       "JB           0.559405\n",
       "p-value      0.756009\n",
       "Asimetria    0.227575\n",
       "Curtosis     2.948855\n",
       "dtype: float64"
      ]
     },
     "execution_count": 25,
     "metadata": {},
     "output_type": "execute_result"
    }
   ],
   "source": [
    "ResultadosTestJB= sms.jarque_bera(Residuos)\n",
    "Nombres = [\"JB\", \"p-value\",\"Asimetria\",\"Curtosis\"]\n",
    "pd.Series(ResultadosTestJB, index = Nombres)"
   ]
  },
  {
   "cell_type": "code",
   "execution_count": 27,
   "metadata": {},
   "outputs": [
    {
     "data": {
      "text/plain": [
       "AD            0.329856\n",
       "p-valoe AD    0.508773\n",
       "dtype: float64"
      ]
     },
     "execution_count": 27,
     "metadata": {},
     "output_type": "execute_result"
    }
   ],
   "source": [
    "ResultadosTestAD = sms.normal_ad(Residuos)\n",
    "Nombres=[\"AD\",\"p-valoe AD\"]\n",
    "pd.Series(ResultadosTestAD, index = Nombres)"
   ]
  },
  {
   "cell_type": "code",
   "execution_count": 26,
   "metadata": {},
   "outputs": [
    {
     "data": {
      "text/plain": [
       "KS            0.081275\n",
       "p-valor KS    0.426935\n",
       "dtype: float64"
      ]
     },
     "execution_count": 26,
     "metadata": {},
     "output_type": "execute_result"
    }
   ],
   "source": [
    "ResultadosTestKS= sms.diagnostic.kstest_normal(Residuos)\n",
    "Nombres = [\"KS\", \"p-valor KS\"]\n",
    "pd.Series(ResultadosTestKS, index =Nombres)"
   ]
  },
  {
   "cell_type": "code",
   "execution_count": 28,
   "metadata": {},
   "outputs": [
    {
     "name": "stdout",
     "output_type": "stream",
     "text": [
      "\n"
     ]
    },
    {
     "data": {
      "image/png": "[encoded data removed]",
      "text/plain": [
       "<Figure size 432x288 with 1 Axes>"
      ]
     },
     "metadata": {
      "needs_background": "light"
     },
     "output_type": "display_data"
    }
   ],
   "source": [
    "fig, ax = plt.subplots()\n",
    "probplot = sm.ProbPlot(Residuos)\n",
    "probplot.qqplot(line = \"s\", ax = ax)\n",
    "ax.set_title(\"QQ Plot\", color=\"darkblue\")\n",
    "print()"
   ]
  }
 ],
 "metadata": {
  "kernelspec": {
   "display_name": "Python 3",
   "language": "python",
   "name": "python3"
  },
  "language_info": {
   "codemirror_mode": {
    "name": "ipython",
    "version": 3
   },
   "file_extension": ".py",
   "mimetype": "text/x-python",
   "name": "python",
   "nbconvert_exporter": "python",
   "pygments_lexer": "ipython3",
   "version": "3.8.5"
  }
 },
 "nbformat": 4,
 "nbformat_minor": 2
}
